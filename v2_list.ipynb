{
 "cells": [
  {
   "cell_type": "code",
   "execution_count": 1,
   "id": "4930f92a",
   "metadata": {},
   "outputs": [],
   "source": [
    "l=[]"
   ]
  },
  {
   "cell_type": "code",
   "execution_count": 2,
   "id": "3d8604a8",
   "metadata": {},
   "outputs": [],
   "source": [
    "l=list()"
   ]
  },
  {
   "cell_type": "code",
   "execution_count": 3,
   "id": "050e9b06",
   "metadata": {},
   "outputs": [
    {
     "data": {
      "text/plain": [
       "[]"
      ]
     },
     "execution_count": 3,
     "metadata": {},
     "output_type": "execute_result"
    }
   ],
   "source": [
    "l"
   ]
  },
  {
   "cell_type": "code",
   "execution_count": 5,
   "id": "aebd778c",
   "metadata": {},
   "outputs": [],
   "source": [
    "l.append('Ram')"
   ]
  },
  {
   "cell_type": "code",
   "execution_count": 6,
   "id": "98abb7ce",
   "metadata": {},
   "outputs": [
    {
     "data": {
      "text/plain": [
       "['Ram']"
      ]
     },
     "execution_count": 6,
     "metadata": {},
     "output_type": "execute_result"
    }
   ],
   "source": [
    "l"
   ]
  },
  {
   "cell_type": "code",
   "execution_count": 9,
   "id": "530e030a",
   "metadata": {},
   "outputs": [],
   "source": [
    "l1=['mohan','sohan']"
   ]
  },
  {
   "cell_type": "code",
   "execution_count": 10,
   "id": "15b78101",
   "metadata": {},
   "outputs": [],
   "source": [
    "l.append(l1)"
   ]
  },
  {
   "cell_type": "code",
   "execution_count": 11,
   "id": "263957a2",
   "metadata": {},
   "outputs": [
    {
     "data": {
      "text/plain": [
       "['Ram', ['mohan', 'sohan']]"
      ]
     },
     "execution_count": 11,
     "metadata": {},
     "output_type": "execute_result"
    }
   ],
   "source": [
    "l"
   ]
  },
  {
   "cell_type": "code",
   "execution_count": 12,
   "id": "bec39d3d",
   "metadata": {},
   "outputs": [],
   "source": [
    "l=l1"
   ]
  },
  {
   "cell_type": "code",
   "execution_count": 13,
   "id": "4ae78715",
   "metadata": {},
   "outputs": [
    {
     "data": {
      "text/plain": [
       "['mohan', 'sohan']"
      ]
     },
     "execution_count": 13,
     "metadata": {},
     "output_type": "execute_result"
    }
   ],
   "source": [
    "l"
   ]
  },
  {
   "cell_type": "code",
   "execution_count": 14,
   "id": "727af9de",
   "metadata": {},
   "outputs": [
    {
     "data": {
      "text/plain": [
       "['mohan', 'sohan', 'amit']"
      ]
     },
     "execution_count": 14,
     "metadata": {},
     "output_type": "execute_result"
    }
   ],
   "source": [
    "l+['amit']"
   ]
  },
  {
   "cell_type": "code",
   "execution_count": 16,
   "id": "693ba9f0",
   "metadata": {},
   "outputs": [],
   "source": [
    "l+=[34]"
   ]
  },
  {
   "cell_type": "code",
   "execution_count": 17,
   "id": "f807f755",
   "metadata": {},
   "outputs": [
    {
     "data": {
      "text/plain": [
       "['mohan', 'sohan', 34]"
      ]
     },
     "execution_count": 17,
     "metadata": {},
     "output_type": "execute_result"
    }
   ],
   "source": [
    "l"
   ]
  },
  {
   "cell_type": "code",
   "execution_count": 18,
   "id": "81bf4a08",
   "metadata": {},
   "outputs": [],
   "source": [
    "l+=['Mohan']"
   ]
  },
  {
   "cell_type": "code",
   "execution_count": 19,
   "id": "3c9ded8e",
   "metadata": {},
   "outputs": [
    {
     "data": {
      "text/plain": [
       "['mohan', 'sohan', 34, 'Mohan']"
      ]
     },
     "execution_count": 19,
     "metadata": {},
     "output_type": "execute_result"
    }
   ],
   "source": [
    "l"
   ]
  },
  {
   "cell_type": "code",
   "execution_count": 20,
   "id": "b99edcaf",
   "metadata": {},
   "outputs": [],
   "source": [
    "l+=['kapil','Sohan']"
   ]
  },
  {
   "cell_type": "code",
   "execution_count": 22,
   "id": "ae503bb1",
   "metadata": {},
   "outputs": [
    {
     "data": {
      "text/plain": [
       "['mohan', 'sohan', 34, 'Mohan', 'kapil', 'Sohan']"
      ]
     },
     "execution_count": 22,
     "metadata": {},
     "output_type": "execute_result"
    }
   ],
   "source": [
    "l"
   ]
  },
  {
   "cell_type": "markdown",
   "id": "44741380",
   "metadata": {},
   "source": [
    "## "
   ]
  },
  {
   "cell_type": "code",
   "execution_count": 23,
   "id": "11d24d8f",
   "metadata": {},
   "outputs": [
    {
     "data": {
      "text/plain": [
       "['mohan',\n",
       " 'sohan',\n",
       " 34,\n",
       " 'Mohan',\n",
       " 'kapil',\n",
       " 'Sohan',\n",
       " 'mohan',\n",
       " 'sohan',\n",
       " 34,\n",
       " 'Mohan',\n",
       " 'kapil',\n",
       " 'Sohan']"
      ]
     },
     "execution_count": 23,
     "metadata": {},
     "output_type": "execute_result"
    }
   ],
   "source": [
    "l * 2"
   ]
  },
  {
   "cell_type": "code",
   "execution_count": 24,
   "id": "f0f9089e",
   "metadata": {},
   "outputs": [],
   "source": [
    "p=l.pop()"
   ]
  },
  {
   "cell_type": "code",
   "execution_count": 25,
   "id": "c100441f",
   "metadata": {},
   "outputs": [
    {
     "data": {
      "text/plain": [
       "'Sohan'"
      ]
     },
     "execution_count": 25,
     "metadata": {},
     "output_type": "execute_result"
    }
   ],
   "source": [
    "p"
   ]
  },
  {
   "cell_type": "code",
   "execution_count": 26,
   "id": "30ade032",
   "metadata": {},
   "outputs": [],
   "source": [
    "l1=[1,2,3]\n",
    "l2=[4,5,6]\n",
    "l3=[7,8,9]\n",
    "matrix=[l1,l2,l3]"
   ]
  },
  {
   "cell_type": "code",
   "execution_count": 27,
   "id": "d4e887fe",
   "metadata": {},
   "outputs": [
    {
     "data": {
      "text/plain": [
       "[[1, 2, 3], [4, 5, 6], [7, 8, 9]]"
      ]
     },
     "execution_count": 27,
     "metadata": {},
     "output_type": "execute_result"
    }
   ],
   "source": [
    "matrix"
   ]
  },
  {
   "cell_type": "code",
   "execution_count": 29,
   "id": "63a731d3",
   "metadata": {},
   "outputs": [
    {
     "data": {
      "text/plain": [
       "6"
      ]
     },
     "execution_count": 29,
     "metadata": {},
     "output_type": "execute_result"
    }
   ],
   "source": [
    "matrix[1][2]"
   ]
  },
  {
   "cell_type": "code",
   "execution_count": 32,
   "id": "26a1ef04",
   "metadata": {},
   "outputs": [
    {
     "data": {
      "text/plain": [
       "[4, 5, 6]"
      ]
     },
     "execution_count": 32,
     "metadata": {},
     "output_type": "execute_result"
    }
   ],
   "source": [
    "matrix[1]"
   ]
  },
  {
   "cell_type": "code",
   "execution_count": 33,
   "id": "fa7ce719",
   "metadata": {},
   "outputs": [],
   "source": [
    "x=(24,45)"
   ]
  },
  {
   "cell_type": "code",
   "execution_count": 34,
   "id": "911272b5",
   "metadata": {},
   "outputs": [],
   "source": [
    "y=list(x)"
   ]
  },
  {
   "cell_type": "code",
   "execution_count": 35,
   "id": "b8c48c1f",
   "metadata": {},
   "outputs": [
    {
     "data": {
      "text/plain": [
       "[24, 45]"
      ]
     },
     "execution_count": 35,
     "metadata": {},
     "output_type": "execute_result"
    }
   ],
   "source": [
    "y"
   ]
  },
  {
   "cell_type": "code",
   "execution_count": 36,
   "id": "86866c84",
   "metadata": {},
   "outputs": [
    {
     "data": {
      "text/plain": [
       "[24, 45]"
      ]
     },
     "execution_count": 36,
     "metadata": {},
     "output_type": "execute_result"
    }
   ],
   "source": [
    "list(x)"
   ]
  },
  {
   "cell_type": "code",
   "execution_count": null,
   "id": "8f6581b3",
   "metadata": {},
   "outputs": [],
   "source": []
  }
 ],
 "metadata": {
  "kernelspec": {
   "display_name": "Python 3 (ipykernel)",
   "language": "python",
   "name": "python3"
  },
  "language_info": {
   "codemirror_mode": {
    "name": "ipython",
    "version": 3
   },
   "file_extension": ".py",
   "mimetype": "text/x-python",
   "name": "python",
   "nbconvert_exporter": "python",
   "pygments_lexer": "ipython3",
   "version": "3.9.7"
  }
 },
 "nbformat": 4,
 "nbformat_minor": 5
}
