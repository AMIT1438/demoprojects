{
 "cells": [
  {
   "cell_type": "code",
   "execution_count": 1,
   "id": "f70fe609",
   "metadata": {},
   "outputs": [
    {
     "name": "stdout",
     "output_type": "stream",
     "text": [
      "Enter the value of x56\n",
      " x is less than 100 = 56\n"
     ]
    }
   ],
   "source": [
    "x=int(input(\"Enter the value of x\"))\n",
    "\n",
    "if(x<100):\n",
    "    print(\" x is less than 100 =\",x)\n",
    "else:\n",
    "    print(\"x is 100 or above =\",x)\n",
    "    "
   ]
  },
  {
   "cell_type": "code",
   "execution_count": 3,
   "id": "a1724a29",
   "metadata": {},
   "outputs": [
    {
     "name": "stdout",
     "output_type": "stream",
     "text": [
      "Enter the value of x98\n",
      " x is even number = 98\n"
     ]
    }
   ],
   "source": [
    "x=int(input(\"Enter the value of x\"))\n",
    "\n",
    "if(x%2==0):\n",
    "    print(\" x is even number =\",x)\n",
    "else:\n",
    "    print(\"x is odd number =\",x)\n",
    "    "
   ]
  },
  {
   "cell_type": "code",
   "execution_count": 5,
   "id": "3db7d606",
   "metadata": {},
   "outputs": [
    {
     "name": "stdout",
     "output_type": "stream",
     "text": [
      "Enter the value of x99\n",
      " x is odd number = 99\n"
     ]
    }
   ],
   "source": [
    "x=int(input(\"Enter the value of x\"))\n",
    "\n",
    "if(x%2==1):\n",
    "    print(\" x is odd number =\",x)\n",
    "else:\n",
    "    print(\"x is even number =\",x)\n",
    "    "
   ]
  },
  {
   "cell_type": "code",
   "execution_count": 7,
   "id": "53184c5f",
   "metadata": {},
   "outputs": [
    {
     "name": "stdout",
     "output_type": "stream",
     "text": [
      "Ok OK\n"
     ]
    }
   ],
   "source": [
    "marks=80\n",
    "if(marks>85):\n",
    "    print(\"Excellent\")\n",
    "else:\n",
    "    print('Ok OK')"
   ]
  },
  {
   "cell_type": "code",
   "execution_count": 12,
   "id": "6d0af0e1",
   "metadata": {},
   "outputs": [
    {
     "name": "stdout",
     "output_type": "stream",
     "text": [
      "it is  1\n",
      "it is  2\n",
      "it is  3\n"
     ]
    }
   ],
   "source": [
    "for i in [1,2,3,4,5]:\n",
    "    if(i==4):\n",
    "        break\n",
    "    print('it is ',i)\n",
    "    i+=1\n",
    "        "
   ]
  },
  {
   "cell_type": "code",
   "execution_count": 21,
   "id": "7888c110",
   "metadata": {},
   "outputs": [
    {
     "name": "stdout",
     "output_type": "stream",
     "text": [
      "apple ** mango ** banana ** it is reached to cherry : done \n",
      "lichi ** "
     ]
    }
   ],
   "source": [
    "for i in ['apple','mango','banana','cherry','lichi']:\n",
    "    if(i=='cherry'):\n",
    "        print('it is reached to cherry : done ')\n",
    "        continue\n",
    "    print(i,end=\" ** \")"
   ]
  },
  {
   "cell_type": "code",
   "execution_count": 24,
   "id": "907556f9",
   "metadata": {},
   "outputs": [
    {
     "name": "stdout",
     "output_type": "stream",
     "text": [
      "it is  1\n",
      "it is  2\n",
      "it is  3\n",
      "it is  5\n",
      "6\n"
     ]
    }
   ],
   "source": [
    "for i in [1,2,3,4,5]:\n",
    "    if(i==4):\n",
    "        continue\n",
    "    print('it is ',i)\n",
    "    i+=1\n",
    "print(i)"
   ]
  },
  {
   "cell_type": "markdown",
   "id": "fdfc630f",
   "metadata": {},
   "source": [
    "LIST COMPREHENSION"
   ]
  },
  {
   "cell_type": "code",
   "execution_count": 25,
   "id": "f66f2780",
   "metadata": {},
   "outputs": [
    {
     "data": {
      "text/plain": [
       "[1, 2, 3, 4, 5, 6, 7, 8, 9, 10]"
      ]
     },
     "execution_count": 25,
     "metadata": {},
     "output_type": "execute_result"
    }
   ],
   "source": [
    "list1=[1,2,3,4,5,6,7,8,9,10]\n",
    "c=[p for p in list1]\n",
    "c"
   ]
  },
  {
   "cell_type": "code",
   "execution_count": 26,
   "id": "aea78e9f",
   "metadata": {},
   "outputs": [
    {
     "data": {
      "text/plain": [
       "[2, 4, 6, 8, 10]"
      ]
     },
     "execution_count": 26,
     "metadata": {},
     "output_type": "execute_result"
    }
   ],
   "source": [
    "list2=[1,2,3,4,5,6,7,8,9,10]\n",
    "c=[p for p in list2 if p%2==0]\n",
    "c"
   ]
  },
  {
   "cell_type": "code",
   "execution_count": 30,
   "id": "44f4ad23",
   "metadata": {},
   "outputs": [
    {
     "data": {
      "text/plain": [
       "[10, 20, 30, 40, 50]"
      ]
     },
     "execution_count": 30,
     "metadata": {},
     "output_type": "execute_result"
    }
   ],
   "source": [
    "list1=[10,20,30,40,50]\n",
    "c=[p for p in list1]\n",
    "c"
   ]
  },
  {
   "cell_type": "code",
   "execution_count": 31,
   "id": "a563c1f9",
   "metadata": {},
   "outputs": [
    {
     "data": {
      "text/plain": [
       "[10, 20, 30]"
      ]
     },
     "execution_count": 31,
     "metadata": {},
     "output_type": "execute_result"
    }
   ],
   "source": [
    "list1=[10,20,30,40,50]\n",
    "c=[p for p in list1 if p<40]\n",
    "c"
   ]
  },
  {
   "cell_type": "code",
   "execution_count": null,
   "id": "29c639ab",
   "metadata": {},
   "outputs": [],
   "source": []
  }
 ],
 "metadata": {
  "kernelspec": {
   "display_name": "Python 3 (ipykernel)",
   "language": "python",
   "name": "python3"
  },
  "language_info": {
   "codemirror_mode": {
    "name": "ipython",
    "version": 3
   },
   "file_extension": ".py",
   "mimetype": "text/x-python",
   "name": "python",
   "nbconvert_exporter": "python",
   "pygments_lexer": "ipython3",
   "version": "3.9.7"
  }
 },
 "nbformat": 4,
 "nbformat_minor": 5
}
