{
 "cells": [
  {
   "cell_type": "code",
   "execution_count": 1,
   "id": "5c03af7f",
   "metadata": {},
   "outputs": [],
   "source": [
    "x=set()"
   ]
  },
  {
   "cell_type": "code",
   "execution_count": 2,
   "id": "edd348f3",
   "metadata": {},
   "outputs": [
    {
     "data": {
      "text/plain": [
       "set()"
      ]
     },
     "execution_count": 2,
     "metadata": {},
     "output_type": "execute_result"
    }
   ],
   "source": [
    "x"
   ]
  },
  {
   "cell_type": "code",
   "execution_count": 4,
   "id": "0fbbb94e",
   "metadata": {},
   "outputs": [],
   "source": [
    "x.add(1)\n",
    "x.add(12)"
   ]
  },
  {
   "cell_type": "code",
   "execution_count": 5,
   "id": "edd7f454",
   "metadata": {},
   "outputs": [
    {
     "data": {
      "text/plain": [
       "{1, 12}"
      ]
     },
     "execution_count": 5,
     "metadata": {},
     "output_type": "execute_result"
    }
   ],
   "source": [
    "x"
   ]
  },
  {
   "cell_type": "code",
   "execution_count": 6,
   "id": "8ec493fe",
   "metadata": {},
   "outputs": [],
   "source": [
    "x.add(12)"
   ]
  },
  {
   "cell_type": "code",
   "execution_count": 7,
   "id": "b92db1c0",
   "metadata": {},
   "outputs": [
    {
     "data": {
      "text/plain": [
       "{1, 12}"
      ]
     },
     "execution_count": 7,
     "metadata": {},
     "output_type": "execute_result"
    }
   ],
   "source": [
    "x"
   ]
  },
  {
   "cell_type": "code",
   "execution_count": 13,
   "id": "9e256c67",
   "metadata": {},
   "outputs": [
    {
     "name": "stdout",
     "output_type": "stream",
     "text": [
      "{'amit', 'puri', 'goswami'}\n"
     ]
    },
    {
     "data": {
      "text/plain": [
       "['amit', 'puri', 'goswami', 'amit']"
      ]
     },
     "execution_count": 13,
     "metadata": {},
     "output_type": "execute_result"
    }
   ],
   "source": [
    "strn=['amit','puri','goswami','amit']\n",
    "x=set(strn)\n",
    "print(x)\n",
    "strn"
   ]
  },
  {
   "cell_type": "code",
   "execution_count": 18,
   "id": "4fe2cc9b",
   "metadata": {},
   "outputs": [
    {
     "data": {
      "text/plain": [
       "[32.0, 72.5, 104.0, 212.0]"
      ]
     },
     "execution_count": 18,
     "metadata": {},
     "output_type": "execute_result"
    }
   ],
   "source": [
    "def faren(T):\n",
    "    return((float(9)/5)*T+32)\n",
    "\n",
    "def cels(T):\n",
    "    return(float(5)/9)*(T-32)\n",
    "\n",
    "temp=[0,22.5,40,100]\n",
    "\n",
    "f_temp=list(map(faren,temp))\n",
    "\n",
    "f_temp"
   ]
  },
  {
   "cell_type": "code",
   "execution_count": 19,
   "id": "5d45bb82",
   "metadata": {},
   "outputs": [
    {
     "data": {
      "text/plain": [
       "[0.0, 22.5, 40.0, 100.0]"
      ]
     },
     "execution_count": 19,
     "metadata": {},
     "output_type": "execute_result"
    }
   ],
   "source": [
    "c_temp=list(map(cels,f_temp))\n",
    "\n",
    "c_temp"
   ]
  },
  {
   "cell_type": "code",
   "execution_count": 20,
   "id": "5aa8346c",
   "metadata": {},
   "outputs": [
    {
     "data": {
      "text/plain": [
       "[0.0, 22.5, 40.0, 100.0]"
      ]
     },
     "execution_count": 20,
     "metadata": {},
     "output_type": "execute_result"
    }
   ],
   "source": [
    "list(map(lambda x:(5.0/9)*(x-32), f_temp))"
   ]
  },
  {
   "cell_type": "code",
   "execution_count": 33,
   "id": "c4c6b0d5",
   "metadata": {},
   "outputs": [
    {
     "data": {
      "text/plain": [
       "[0, 2, 4, 6, 8, 10, 12, 14, 16, 18]"
      ]
     },
     "execution_count": 33,
     "metadata": {},
     "output_type": "execute_result"
    }
   ],
   "source": [
    "def even_check(num):\n",
    "    if num%2==0:\n",
    "        return True\n",
    "\n",
    "myl= range(20)\n",
    "\n",
    "list(filter(even_check,myl))"
   ]
  },
  {
   "cell_type": "code",
   "execution_count": 34,
   "id": "a034172b",
   "metadata": {},
   "outputs": [
    {
     "data": {
      "text/plain": [
       "range(0, 20)"
      ]
     },
     "execution_count": 34,
     "metadata": {},
     "output_type": "execute_result"
    }
   ],
   "source": [
    "range(20)"
   ]
  },
  {
   "cell_type": "code",
   "execution_count": 36,
   "id": "d6ca79f6",
   "metadata": {},
   "outputs": [
    {
     "data": {
      "text/plain": [
       "[0, 2, 4, 6, 8, 10, 12, 14, 16, 18]"
      ]
     },
     "execution_count": 36,
     "metadata": {},
     "output_type": "execute_result"
    }
   ],
   "source": [
    "l=list(filter(lambda x: x%2==0, myl))\n",
    "l"
   ]
  },
  {
   "cell_type": "code",
   "execution_count": 38,
   "id": "f6cb2a5e",
   "metadata": {},
   "outputs": [
    {
     "data": {
      "text/plain": [
       "set"
      ]
     },
     "execution_count": 38,
     "metadata": {},
     "output_type": "execute_result"
    }
   ],
   "source": [
    "abc=set()\n",
    "type(abc)"
   ]
  },
  {
   "cell_type": "code",
   "execution_count": null,
   "id": "f1f47a27",
   "metadata": {},
   "outputs": [],
   "source": []
  }
 ],
 "metadata": {
  "kernelspec": {
   "display_name": "Python 3 (ipykernel)",
   "language": "python",
   "name": "python3"
  },
  "language_info": {
   "codemirror_mode": {
    "name": "ipython",
    "version": 3
   },
   "file_extension": ".py",
   "mimetype": "text/x-python",
   "name": "python",
   "nbconvert_exporter": "python",
   "pygments_lexer": "ipython3",
   "version": "3.9.7"
  }
 },
 "nbformat": 4,
 "nbformat_minor": 5
}
