{
 "cells": [
  {
   "cell_type": "code",
   "execution_count": 1,
   "id": "285d4595",
   "metadata": {},
   "outputs": [],
   "source": [
    "def mymul(x, y):\n",
    "    return x*y"
   ]
  },
  {
   "cell_type": "code",
   "execution_count": 2,
   "id": "4f04eb5d",
   "metadata": {},
   "outputs": [
    {
     "data": {
      "text/plain": [
       "12"
      ]
     },
     "execution_count": 2,
     "metadata": {},
     "output_type": "execute_result"
    }
   ],
   "source": [
    "mymul(4,3)"
   ]
  },
  {
   "cell_type": "code",
   "execution_count": 5,
   "id": "ea012026",
   "metadata": {},
   "outputs": [],
   "source": [
    "def plus(*args):\n",
    "    return(sum(args))\n"
   ]
  },
  {
   "cell_type": "code",
   "execution_count": 7,
   "id": "a08115ed",
   "metadata": {},
   "outputs": [
    {
     "data": {
      "text/plain": [
       "11"
      ]
     },
     "execution_count": 7,
     "metadata": {},
     "output_type": "execute_result"
    }
   ],
   "source": [
    "plus(3,6,2)"
   ]
  },
  {
   "cell_type": "code",
   "execution_count": 8,
   "id": "910dd61a",
   "metadata": {},
   "outputs": [],
   "source": [
    "def maxf(*args):\n",
    "    return max(args)"
   ]
  },
  {
   "cell_type": "code",
   "execution_count": 9,
   "id": "f70f4489",
   "metadata": {},
   "outputs": [
    {
     "data": {
      "text/plain": [
       "11"
      ]
     },
     "execution_count": 9,
     "metadata": {},
     "output_type": "execute_result"
    }
   ],
   "source": [
    "maxf(3,9,5,11,9)"
   ]
  },
  {
   "cell_type": "code",
   "execution_count": 10,
   "id": "c97686eb",
   "metadata": {},
   "outputs": [],
   "source": [
    "def mysum(*args):\n",
    "    s=0\n",
    "    for i in args:\n",
    "        s+=i\n",
    "    return s"
   ]
  },
  {
   "cell_type": "code",
   "execution_count": 11,
   "id": "b8bbea6c",
   "metadata": {},
   "outputs": [
    {
     "data": {
      "text/plain": [
       "14"
      ]
     },
     "execution_count": 11,
     "metadata": {},
     "output_type": "execute_result"
    }
   ],
   "source": [
    "mysum(2,3,4,5)"
   ]
  },
  {
   "cell_type": "code",
   "execution_count": 12,
   "id": "68888c87",
   "metadata": {},
   "outputs": [
    {
     "data": {
      "text/plain": [
       "7"
      ]
     },
     "execution_count": 12,
     "metadata": {},
     "output_type": "execute_result"
    }
   ],
   "source": [
    "max(3,5,7,1)"
   ]
  },
  {
   "cell_type": "code",
   "execution_count": 13,
   "id": "bb54d895",
   "metadata": {},
   "outputs": [],
   "source": [
    "test = lambda x:x*2"
   ]
  },
  {
   "cell_type": "code",
   "execution_count": 14,
   "id": "663fd91b",
   "metadata": {},
   "outputs": [
    {
     "data": {
      "text/plain": [
       "10"
      ]
     },
     "execution_count": 14,
     "metadata": {},
     "output_type": "execute_result"
    }
   ],
   "source": [
    "test(5)"
   ]
  },
  {
   "cell_type": "code",
   "execution_count": 15,
   "id": "d1a1ef97",
   "metadata": {},
   "outputs": [],
   "source": [
    "f=lambda x: 9/5*x+32"
   ]
  },
  {
   "cell_type": "code",
   "execution_count": 16,
   "id": "0f47a533",
   "metadata": {},
   "outputs": [
    {
     "data": {
      "text/plain": [
       "101.12"
      ]
     },
     "execution_count": 16,
     "metadata": {},
     "output_type": "execute_result"
    }
   ],
   "source": [
    "f(38.4)"
   ]
  },
  {
   "cell_type": "code",
   "execution_count": 17,
   "id": "7c5dcfd3",
   "metadata": {},
   "outputs": [],
   "source": [
    "test1=lambda x,y: x+y"
   ]
  },
  {
   "cell_type": "code",
   "execution_count": 18,
   "id": "715f9f08",
   "metadata": {},
   "outputs": [
    {
     "data": {
      "text/plain": [
       "7"
      ]
     },
     "execution_count": 18,
     "metadata": {},
     "output_type": "execute_result"
    }
   ],
   "source": [
    "test1(3,4)"
   ]
  },
  {
   "cell_type": "code",
   "execution_count": 21,
   "id": "03e01a6f",
   "metadata": {},
   "outputs": [],
   "source": [
    "sqrt=lambda x: x**(1/2)"
   ]
  },
  {
   "cell_type": "code",
   "execution_count": 22,
   "id": "ea9f30b4",
   "metadata": {},
   "outputs": [
    {
     "data": {
      "text/plain": [
       "5.0"
      ]
     },
     "execution_count": 22,
     "metadata": {},
     "output_type": "execute_result"
    }
   ],
   "source": [
    "sqrt(25)"
   ]
  },
  {
   "cell_type": "code",
   "execution_count": 23,
   "id": "83f27195",
   "metadata": {},
   "outputs": [],
   "source": [
    "cuberoot=lambda x: x**(1/3)"
   ]
  },
  {
   "cell_type": "code",
   "execution_count": 24,
   "id": "0c1f6d47",
   "metadata": {},
   "outputs": [
    {
     "data": {
      "text/plain": [
       "3.0"
      ]
     },
     "execution_count": 24,
     "metadata": {},
     "output_type": "execute_result"
    }
   ],
   "source": [
    "cuberoot(27)"
   ]
  },
  {
   "cell_type": "code",
   "execution_count": 25,
   "id": "db3bd9ea",
   "metadata": {},
   "outputs": [],
   "source": [
    "cube=lambda x: x**3"
   ]
  },
  {
   "cell_type": "code",
   "execution_count": 27,
   "id": "513d62f0",
   "metadata": {},
   "outputs": [
    {
     "data": {
      "text/plain": [
       "64"
      ]
     },
     "execution_count": 27,
     "metadata": {},
     "output_type": "execute_result"
    }
   ],
   "source": [
    "cube(4)"
   ]
  },
  {
   "cell_type": "code",
   "execution_count": 28,
   "id": "f9763ff5",
   "metadata": {},
   "outputs": [],
   "source": [
    "addvar=lambda a,b: a+b"
   ]
  },
  {
   "cell_type": "code",
   "execution_count": 29,
   "id": "6d0dd687",
   "metadata": {},
   "outputs": [
    {
     "name": "stdout",
     "output_type": "stream",
     "text": [
      "addition is =  5\n"
     ]
    }
   ],
   "source": [
    "print(\"addition is = \",addvar(2,3))"
   ]
  },
  {
   "cell_type": "code",
   "execution_count": 30,
   "id": "98dc72ce",
   "metadata": {},
   "outputs": [
    {
     "name": "stdout",
     "output_type": "stream",
     "text": [
      "<map object at 0x000001C409CFE7C0>\n",
      "[9, 25, 49, 121, 169]\n"
     ]
    }
   ],
   "source": [
    "def mul(i):\n",
    "\n",
    "    return i * i\n",
    "\n",
    "# Using the map function\n",
    "\n",
    "x = map(mul, (3, 5, 7, 11, 13))\n",
    "\n",
    "print (x)\n",
    "\n",
    "print(list(x))"
   ]
  },
  {
   "cell_type": "code",
   "execution_count": 31,
   "id": "b909b70d",
   "metadata": {},
   "outputs": [],
   "source": [
    "def testin():\n",
    "    x=int(input(\"Enter value of x=\"))\n",
    "    t=lambda x:x**2\n",
    "    print(t(x))"
   ]
  },
  {
   "cell_type": "code",
   "execution_count": 33,
   "id": "7be9d177",
   "metadata": {},
   "outputs": [
    {
     "name": "stdout",
     "output_type": "stream",
     "text": [
      "Enter value of x=4\n",
      "16\n"
     ]
    }
   ],
   "source": [
    "testin()"
   ]
  },
  {
   "cell_type": "code",
   "execution_count": null,
   "id": "0cc065f2",
   "metadata": {},
   "outputs": [],
   "source": []
  }
 ],
 "metadata": {
  "kernelspec": {
   "display_name": "Python 3 (ipykernel)",
   "language": "python",
   "name": "python3"
  },
  "language_info": {
   "codemirror_mode": {
    "name": "ipython",
    "version": 3
   },
   "file_extension": ".py",
   "mimetype": "text/x-python",
   "name": "python",
   "nbconvert_exporter": "python",
   "pygments_lexer": "ipython3",
   "version": "3.9.7"
  }
 },
 "nbformat": 4,
 "nbformat_minor": 5
}
