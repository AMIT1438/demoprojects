{
 "cells": [
  {
   "cell_type": "code",
   "execution_count": null,
   "id": "39492fc2",
   "metadata": {},
   "outputs": [],
   "source": []
  },
  {
   "cell_type": "code",
   "execution_count": 1,
   "id": "d90e7e79",
   "metadata": {},
   "outputs": [
    {
     "data": {
      "text/plain": [
       "9"
      ]
     },
     "execution_count": 1,
     "metadata": {},
     "output_type": "execute_result"
    }
   ],
   "source": [
    "a=4\n",
    "b=5\n",
    "c=a+b\n",
    "c"
   ]
  },
  {
   "cell_type": "code",
   "execution_count": 6,
   "id": "88efe917",
   "metadata": {},
   "outputs": [
    {
     "name": "stdout",
     "output_type": "stream",
     "text": [
      "Enter the value of a3\n",
      "Enter the value of b4\n",
      "3 power 4  = 81\n"
     ]
    }
   ],
   "source": [
    "a=int(input('Enter the value of a'))\n",
    "b=int(input('Enter the value of b'))\n",
    "c=a**b\n",
    "print(a , 'power', b, ' =',c)\n"
   ]
  },
  {
   "cell_type": "code",
   "execution_count": 3,
   "id": "ec6c9325",
   "metadata": {},
   "outputs": [
    {
     "data": {
      "text/plain": [
       "11143"
      ]
     },
     "execution_count": 3,
     "metadata": {},
     "output_type": "execute_result"
    }
   ],
   "source": [
    "a=9\n",
    "b=11134\n",
    "c=a+b\n",
    "c\n",
    "\n"
   ]
  },
  {
   "cell_type": "code",
   "execution_count": 9,
   "id": "5dcd7d0d",
   "metadata": {},
   "outputs": [
    {
     "name": "stdout",
     "output_type": "stream",
     "text": [
      "Enter the radius of a circle = 6\n"
     ]
    },
    {
     "data": {
      "text/plain": [
       "113"
      ]
     },
     "execution_count": 9,
     "metadata": {},
     "output_type": "execute_result"
    }
   ],
   "source": [
    "r=int(input('Enter the radius of a circle = '))\n",
    "a=22/7*r**2\n",
    "int(a)"
   ]
  },
  {
   "cell_type": "code",
   "execution_count": 16,
   "id": "1272dc20",
   "metadata": {},
   "outputs": [
    {
     "name": "stdout",
     "output_type": "stream",
     "text": [
      "Enter the radius of a circle = 9\n",
      "Perimeter of circle with radius  9  = 56.57142857142857   56.57\n"
     ]
    }
   ],
   "source": [
    "r=int(input('Enter the radius of a circle = '))\n",
    "p=2*22/7*r\n",
    "print('Perimeter of circle with radius ',r,' =', p, ' ',round(p,2))"
   ]
  },
  {
   "cell_type": "code",
   "execution_count": 3,
   "id": "83ccbe79",
   "metadata": {},
   "outputs": [
    {
     "name": "stdout",
     "output_type": "stream",
     "text": [
      "s\n",
      "t\n",
      "r\n",
      "End\n"
     ]
    }
   ],
   "source": [
    "for val in 'string':\n",
    "    if(val=='i'):\n",
    "        break\n",
    "    print(val)\n",
    "print('End')"
   ]
  },
  {
   "cell_type": "code",
   "execution_count": 4,
   "id": "0c16c2b0",
   "metadata": {},
   "outputs": [
    {
     "name": "stdout",
     "output_type": "stream",
     "text": [
      "s\n",
      "t\n",
      "r\n",
      "n\n",
      "g\n",
      "End\n"
     ]
    }
   ],
   "source": [
    "for val in 'string':\n",
    "    if(val=='i'):\n",
    "        continue\n",
    "    print(val)\n",
    "print('End')"
   ]
  },
  {
   "cell_type": "code",
   "execution_count": null,
   "id": "fefccdc3",
   "metadata": {},
   "outputs": [],
   "source": []
  }
 ],
 "metadata": {
  "kernelspec": {
   "display_name": "Python 3 (ipykernel)",
   "language": "python",
   "name": "python3"
  },
  "language_info": {
   "codemirror_mode": {
    "name": "ipython",
    "version": 3
   },
   "file_extension": ".py",
   "mimetype": "text/x-python",
   "name": "python",
   "nbconvert_exporter": "python",
   "pygments_lexer": "ipython3",
   "version": "3.9.7"
  }
 },
 "nbformat": 4,
 "nbformat_minor": 5
}
