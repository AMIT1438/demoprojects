{
 "cells": [
  {
   "cell_type": "code",
   "execution_count": 1,
   "id": "1fa12771",
   "metadata": {},
   "outputs": [],
   "source": [
    "import pandas as pd"
   ]
  },
  {
   "cell_type": "code",
   "execution_count": 2,
   "id": "566d21ac",
   "metadata": {},
   "outputs": [],
   "source": [
    "data={'Day':[1,2,3,4,5],'Visitors':[45,56,67,23,90],'Bounce_Rate':[10,20,30,40,50]}"
   ]
  },
  {
   "cell_type": "code",
   "execution_count": 4,
   "id": "a48d52ce",
   "metadata": {},
   "outputs": [],
   "source": [
    "df=pd.DataFrame(data)"
   ]
  },
  {
   "cell_type": "code",
   "execution_count": 5,
   "id": "567b44cc",
   "metadata": {},
   "outputs": [
    {
     "name": "stdout",
     "output_type": "stream",
     "text": [
      "   Day  Visitors  Bounce_Rate\n",
      "0    1        45           10\n",
      "1    2        56           20\n",
      "2    3        67           30\n",
      "3    4        23           40\n",
      "4    5        90           50\n"
     ]
    }
   ],
   "source": [
    "print(df)"
   ]
  },
  {
   "cell_type": "code",
   "execution_count": 6,
   "id": "f1c8aa3c",
   "metadata": {},
   "outputs": [
    {
     "data": {
      "text/html": [
       "<div>\n",
       "<style scoped>\n",
       "    .dataframe tbody tr th:only-of-type {\n",
       "        vertical-align: middle;\n",
       "    }\n",
       "\n",
       "    .dataframe tbody tr th {\n",
       "        vertical-align: top;\n",
       "    }\n",
       "\n",
       "    .dataframe thead th {\n",
       "        text-align: right;\n",
       "    }\n",
       "</style>\n",
       "<table border=\"1\" class=\"dataframe\">\n",
       "  <thead>\n",
       "    <tr style=\"text-align: right;\">\n",
       "      <th></th>\n",
       "      <th>Day</th>\n",
       "      <th>Visitors</th>\n",
       "      <th>Bounce_Rate</th>\n",
       "    </tr>\n",
       "  </thead>\n",
       "  <tbody>\n",
       "    <tr>\n",
       "      <th>0</th>\n",
       "      <td>1</td>\n",
       "      <td>45</td>\n",
       "      <td>10</td>\n",
       "    </tr>\n",
       "    <tr>\n",
       "      <th>1</th>\n",
       "      <td>2</td>\n",
       "      <td>56</td>\n",
       "      <td>20</td>\n",
       "    </tr>\n",
       "    <tr>\n",
       "      <th>2</th>\n",
       "      <td>3</td>\n",
       "      <td>67</td>\n",
       "      <td>30</td>\n",
       "    </tr>\n",
       "    <tr>\n",
       "      <th>3</th>\n",
       "      <td>4</td>\n",
       "      <td>23</td>\n",
       "      <td>40</td>\n",
       "    </tr>\n",
       "    <tr>\n",
       "      <th>4</th>\n",
       "      <td>5</td>\n",
       "      <td>90</td>\n",
       "      <td>50</td>\n",
       "    </tr>\n",
       "  </tbody>\n",
       "</table>\n",
       "</div>"
      ],
      "text/plain": [
       "   Day  Visitors  Bounce_Rate\n",
       "0    1        45           10\n",
       "1    2        56           20\n",
       "2    3        67           30\n",
       "3    4        23           40\n",
       "4    5        90           50"
      ]
     },
     "execution_count": 6,
     "metadata": {},
     "output_type": "execute_result"
    }
   ],
   "source": [
    "df.head()"
   ]
  },
  {
   "cell_type": "code",
   "execution_count": 7,
   "id": "105638c4",
   "metadata": {},
   "outputs": [
    {
     "data": {
      "text/html": [
       "<div>\n",
       "<style scoped>\n",
       "    .dataframe tbody tr th:only-of-type {\n",
       "        vertical-align: middle;\n",
       "    }\n",
       "\n",
       "    .dataframe tbody tr th {\n",
       "        vertical-align: top;\n",
       "    }\n",
       "\n",
       "    .dataframe thead th {\n",
       "        text-align: right;\n",
       "    }\n",
       "</style>\n",
       "<table border=\"1\" class=\"dataframe\">\n",
       "  <thead>\n",
       "    <tr style=\"text-align: right;\">\n",
       "      <th></th>\n",
       "      <th>Day</th>\n",
       "      <th>Visitors</th>\n",
       "      <th>Bounce_Rate</th>\n",
       "    </tr>\n",
       "  </thead>\n",
       "  <tbody>\n",
       "    <tr>\n",
       "      <th>0</th>\n",
       "      <td>1</td>\n",
       "      <td>45</td>\n",
       "      <td>10</td>\n",
       "    </tr>\n",
       "    <tr>\n",
       "      <th>1</th>\n",
       "      <td>2</td>\n",
       "      <td>56</td>\n",
       "      <td>20</td>\n",
       "    </tr>\n",
       "  </tbody>\n",
       "</table>\n",
       "</div>"
      ],
      "text/plain": [
       "   Day  Visitors  Bounce_Rate\n",
       "0    1        45           10\n",
       "1    2        56           20"
      ]
     },
     "execution_count": 7,
     "metadata": {},
     "output_type": "execute_result"
    }
   ],
   "source": [
    "df.head(2)"
   ]
  },
  {
   "cell_type": "code",
   "execution_count": 8,
   "id": "c192c257",
   "metadata": {},
   "outputs": [
    {
     "data": {
      "text/html": [
       "<div>\n",
       "<style scoped>\n",
       "    .dataframe tbody tr th:only-of-type {\n",
       "        vertical-align: middle;\n",
       "    }\n",
       "\n",
       "    .dataframe tbody tr th {\n",
       "        vertical-align: top;\n",
       "    }\n",
       "\n",
       "    .dataframe thead th {\n",
       "        text-align: right;\n",
       "    }\n",
       "</style>\n",
       "<table border=\"1\" class=\"dataframe\">\n",
       "  <thead>\n",
       "    <tr style=\"text-align: right;\">\n",
       "      <th></th>\n",
       "      <th>Day</th>\n",
       "      <th>Visitors</th>\n",
       "      <th>Bounce_Rate</th>\n",
       "    </tr>\n",
       "  </thead>\n",
       "  <tbody>\n",
       "    <tr>\n",
       "      <th>0</th>\n",
       "      <td>1</td>\n",
       "      <td>45</td>\n",
       "      <td>10</td>\n",
       "    </tr>\n",
       "    <tr>\n",
       "      <th>1</th>\n",
       "      <td>2</td>\n",
       "      <td>56</td>\n",
       "      <td>20</td>\n",
       "    </tr>\n",
       "    <tr>\n",
       "      <th>2</th>\n",
       "      <td>3</td>\n",
       "      <td>67</td>\n",
       "      <td>30</td>\n",
       "    </tr>\n",
       "    <tr>\n",
       "      <th>3</th>\n",
       "      <td>4</td>\n",
       "      <td>23</td>\n",
       "      <td>40</td>\n",
       "    </tr>\n",
       "    <tr>\n",
       "      <th>4</th>\n",
       "      <td>5</td>\n",
       "      <td>90</td>\n",
       "      <td>50</td>\n",
       "    </tr>\n",
       "  </tbody>\n",
       "</table>\n",
       "</div>"
      ],
      "text/plain": [
       "   Day  Visitors  Bounce_Rate\n",
       "0    1        45           10\n",
       "1    2        56           20\n",
       "2    3        67           30\n",
       "3    4        23           40\n",
       "4    5        90           50"
      ]
     },
     "execution_count": 8,
     "metadata": {},
     "output_type": "execute_result"
    }
   ],
   "source": [
    "df.tail()"
   ]
  },
  {
   "cell_type": "code",
   "execution_count": 9,
   "id": "7592237c",
   "metadata": {},
   "outputs": [
    {
     "data": {
      "text/html": [
       "<div>\n",
       "<style scoped>\n",
       "    .dataframe tbody tr th:only-of-type {\n",
       "        vertical-align: middle;\n",
       "    }\n",
       "\n",
       "    .dataframe tbody tr th {\n",
       "        vertical-align: top;\n",
       "    }\n",
       "\n",
       "    .dataframe thead th {\n",
       "        text-align: right;\n",
       "    }\n",
       "</style>\n",
       "<table border=\"1\" class=\"dataframe\">\n",
       "  <thead>\n",
       "    <tr style=\"text-align: right;\">\n",
       "      <th></th>\n",
       "      <th>Day</th>\n",
       "      <th>Visitors</th>\n",
       "      <th>Bounce_Rate</th>\n",
       "    </tr>\n",
       "  </thead>\n",
       "  <tbody>\n",
       "    <tr>\n",
       "      <th>3</th>\n",
       "      <td>4</td>\n",
       "      <td>23</td>\n",
       "      <td>40</td>\n",
       "    </tr>\n",
       "    <tr>\n",
       "      <th>4</th>\n",
       "      <td>5</td>\n",
       "      <td>90</td>\n",
       "      <td>50</td>\n",
       "    </tr>\n",
       "  </tbody>\n",
       "</table>\n",
       "</div>"
      ],
      "text/plain": [
       "   Day  Visitors  Bounce_Rate\n",
       "3    4        23           40\n",
       "4    5        90           50"
      ]
     },
     "execution_count": 9,
     "metadata": {},
     "output_type": "execute_result"
    }
   ],
   "source": [
    "df.tail(2)"
   ]
  },
  {
   "cell_type": "code",
   "execution_count": 10,
   "id": "26422ec5",
   "metadata": {},
   "outputs": [
    {
     "data": {
      "text/html": [
       "<div>\n",
       "<style scoped>\n",
       "    .dataframe tbody tr th:only-of-type {\n",
       "        vertical-align: middle;\n",
       "    }\n",
       "\n",
       "    .dataframe tbody tr th {\n",
       "        vertical-align: top;\n",
       "    }\n",
       "\n",
       "    .dataframe thead th {\n",
       "        text-align: right;\n",
       "    }\n",
       "</style>\n",
       "<table border=\"1\" class=\"dataframe\">\n",
       "  <thead>\n",
       "    <tr style=\"text-align: right;\">\n",
       "      <th></th>\n",
       "      <th>Day</th>\n",
       "      <th>Visitors</th>\n",
       "      <th>Bounce_Rate</th>\n",
       "    </tr>\n",
       "  </thead>\n",
       "  <tbody>\n",
       "    <tr>\n",
       "      <th>0</th>\n",
       "      <td>1</td>\n",
       "      <td>45</td>\n",
       "      <td>10</td>\n",
       "    </tr>\n",
       "  </tbody>\n",
       "</table>\n",
       "</div>"
      ],
      "text/plain": [
       "   Day  Visitors  Bounce_Rate\n",
       "0    1        45           10"
      ]
     },
     "execution_count": 10,
     "metadata": {},
     "output_type": "execute_result"
    }
   ],
   "source": [
    "df.sample()"
   ]
  },
  {
   "cell_type": "code",
   "execution_count": 11,
   "id": "ab40fbb6",
   "metadata": {},
   "outputs": [
    {
     "data": {
      "text/html": [
       "<div>\n",
       "<style scoped>\n",
       "    .dataframe tbody tr th:only-of-type {\n",
       "        vertical-align: middle;\n",
       "    }\n",
       "\n",
       "    .dataframe tbody tr th {\n",
       "        vertical-align: top;\n",
       "    }\n",
       "\n",
       "    .dataframe thead th {\n",
       "        text-align: right;\n",
       "    }\n",
       "</style>\n",
       "<table border=\"1\" class=\"dataframe\">\n",
       "  <thead>\n",
       "    <tr style=\"text-align: right;\">\n",
       "      <th></th>\n",
       "      <th>Day</th>\n",
       "      <th>Visitors</th>\n",
       "      <th>Bounce_Rate</th>\n",
       "    </tr>\n",
       "  </thead>\n",
       "  <tbody>\n",
       "    <tr>\n",
       "      <th>1</th>\n",
       "      <td>2</td>\n",
       "      <td>56</td>\n",
       "      <td>20</td>\n",
       "    </tr>\n",
       "    <tr>\n",
       "      <th>2</th>\n",
       "      <td>3</td>\n",
       "      <td>67</td>\n",
       "      <td>30</td>\n",
       "    </tr>\n",
       "  </tbody>\n",
       "</table>\n",
       "</div>"
      ],
      "text/plain": [
       "   Day  Visitors  Bounce_Rate\n",
       "1    2        56           20\n",
       "2    3        67           30"
      ]
     },
     "execution_count": 11,
     "metadata": {},
     "output_type": "execute_result"
    }
   ],
   "source": [
    "df.sample(2)"
   ]
  },
  {
   "cell_type": "code",
   "execution_count": 12,
   "id": "961903b6",
   "metadata": {},
   "outputs": [
    {
     "data": {
      "text/html": [
       "<div>\n",
       "<style scoped>\n",
       "    .dataframe tbody tr th:only-of-type {\n",
       "        vertical-align: middle;\n",
       "    }\n",
       "\n",
       "    .dataframe tbody tr th {\n",
       "        vertical-align: top;\n",
       "    }\n",
       "\n",
       "    .dataframe thead th {\n",
       "        text-align: right;\n",
       "    }\n",
       "</style>\n",
       "<table border=\"1\" class=\"dataframe\">\n",
       "  <thead>\n",
       "    <tr style=\"text-align: right;\">\n",
       "      <th></th>\n",
       "      <th>Day</th>\n",
       "      <th>Visitors</th>\n",
       "      <th>Bounce_Rate</th>\n",
       "    </tr>\n",
       "  </thead>\n",
       "  <tbody>\n",
       "    <tr>\n",
       "      <th>1</th>\n",
       "      <td>2</td>\n",
       "      <td>56</td>\n",
       "      <td>20</td>\n",
       "    </tr>\n",
       "    <tr>\n",
       "      <th>4</th>\n",
       "      <td>5</td>\n",
       "      <td>90</td>\n",
       "      <td>50</td>\n",
       "    </tr>\n",
       "    <tr>\n",
       "      <th>0</th>\n",
       "      <td>1</td>\n",
       "      <td>45</td>\n",
       "      <td>10</td>\n",
       "    </tr>\n",
       "  </tbody>\n",
       "</table>\n",
       "</div>"
      ],
      "text/plain": [
       "   Day  Visitors  Bounce_Rate\n",
       "1    2        56           20\n",
       "4    5        90           50\n",
       "0    1        45           10"
      ]
     },
     "execution_count": 12,
     "metadata": {},
     "output_type": "execute_result"
    }
   ],
   "source": [
    "df.sample(3)"
   ]
  },
  {
   "cell_type": "code",
   "execution_count": 37,
   "id": "97bdf242",
   "metadata": {},
   "outputs": [],
   "source": [
    "df=pd.read_csv('hrdata.csv')"
   ]
  },
  {
   "cell_type": "code",
   "execution_count": 39,
   "id": "11b6d6c9",
   "metadata": {},
   "outputs": [
    {
     "name": "stdout",
     "output_type": "stream",
     "text": [
      "    Name  Hiredate  Salary  Sickdaysremaining\n",
      "0   amit  06/01/14     100                 10\n",
      "1  Rohit  06/01/15     200                 20\n",
      "2  Kapil  06/02/15     300                 30\n",
      "3  Mohan  06/03/13     400                 40\n",
      "4   Rahu  06/05/15     500                 50\n",
      "5  Suman  06/06/16     600                 60\n"
     ]
    }
   ],
   "source": [
    "print(df)"
   ]
  },
  {
   "cell_type": "code",
   "execution_count": 40,
   "id": "6aad565d",
   "metadata": {},
   "outputs": [
    {
     "name": "stdout",
     "output_type": "stream",
     "text": [
      "<class 'str'>\n"
     ]
    }
   ],
   "source": [
    "print(type(df['Hiredate'][0]))"
   ]
  },
  {
   "cell_type": "code",
   "execution_count": 19,
   "id": "acfece95",
   "metadata": {},
   "outputs": [],
   "source": [
    "df=pd.read_csv('hrdata.csv',index_col='Name',parse_dates=['Hiredate'])"
   ]
  },
  {
   "cell_type": "code",
   "execution_count": 20,
   "id": "342c9b08",
   "metadata": {},
   "outputs": [
    {
     "name": "stdout",
     "output_type": "stream",
     "text": [
      "        Hiredate  Salary  Sickdaysremaining\n",
      "Name                                       \n",
      "amit  2014-06-01     100                 10\n",
      "Rohit 2015-06-01     200                 20\n",
      "Kapil 2015-06-02     300                 30\n",
      "Mohan 2013-06-03     400                 40\n",
      "Rahu  2015-06-05     500                 50\n",
      "Suman 2016-06-06     600                 60\n"
     ]
    }
   ],
   "source": [
    "print(df)"
   ]
  },
  {
   "cell_type": "code",
   "execution_count": 22,
   "id": "b4fb4979",
   "metadata": {},
   "outputs": [
    {
     "name": "stdout",
     "output_type": "stream",
     "text": [
      "<class 'pandas._libs.tslibs.timestamps.Timestamp'>\n"
     ]
    }
   ],
   "source": [
    "print(type(df['Hiredate'][0]))"
   ]
  },
  {
   "cell_type": "code",
   "execution_count": 26,
   "id": "ba88c833",
   "metadata": {},
   "outputs": [],
   "source": [
    "df=pd.read_csv('hrdata.csv',index_col='EName',parse_dates=['Hired'], header=0, names=['EName','Hired','Emp Salary','Sick Days'])"
   ]
  },
  {
   "cell_type": "code",
   "execution_count": 27,
   "id": "f6ec15ca",
   "metadata": {},
   "outputs": [
    {
     "name": "stdout",
     "output_type": "stream",
     "text": [
      "           Hired  Emp Salary  Sick Days\n",
      "EName                                  \n",
      "amit  2014-06-01         100         10\n",
      "Rohit 2015-06-01         200         20\n",
      "Kapil 2015-06-02         300         30\n",
      "Mohan 2013-06-03         400         40\n",
      "Rahu  2015-06-05         500         50\n",
      "Suman 2016-06-06         600         60\n"
     ]
    }
   ],
   "source": [
    "print(df)"
   ]
  },
  {
   "cell_type": "code",
   "execution_count": 28,
   "id": "70e5a3c6",
   "metadata": {},
   "outputs": [],
   "source": [
    "df.to_csv('Hrdata_modified.csv')"
   ]
  },
  {
   "cell_type": "code",
   "execution_count": 30,
   "id": "1c62d411",
   "metadata": {},
   "outputs": [],
   "source": [
    "dfh=pd.read_csv('Hrdata_modified.csv',index_col='EName',parse_dates=['Hired'], header=0, names=['EName','Hired','Emp Salary','Sick Days'])"
   ]
  },
  {
   "cell_type": "code",
   "execution_count": 31,
   "id": "1460570d",
   "metadata": {},
   "outputs": [
    {
     "name": "stdout",
     "output_type": "stream",
     "text": [
      "           Hired  Emp Salary  Sick Days\n",
      "EName                                  \n",
      "amit  2014-06-01         100         10\n",
      "Rohit 2015-06-01         200         20\n",
      "Kapil 2015-06-02         300         30\n",
      "Mohan 2013-06-03         400         40\n",
      "Rahu  2015-06-05         500         50\n",
      "Suman 2016-06-06         600         60\n"
     ]
    }
   ],
   "source": [
    "print(dfh)"
   ]
  },
  {
   "cell_type": "code",
   "execution_count": 47,
   "id": "0e2adb70",
   "metadata": {},
   "outputs": [
    {
     "data": {
      "text/plain": [
       "<AxesSubplot:xlabel='EName'>"
      ]
     },
     "execution_count": 47,
     "metadata": {},
     "output_type": "execute_result"
    },
    {
     "data": {
      "image/png": "[encoded data removed]",
      "text/plain": [
       "<Figure size 432x288 with 1 Axes>"
      ]
     },
     "metadata": {
      "needs_background": "light"
     },
     "output_type": "display_data"
    }
   ],
   "source": [
    "dfh['Emp Salary'].plot.bar()"
   ]
  },
  {
   "cell_type": "code",
   "execution_count": 51,
   "id": "76536f90",
   "metadata": {},
   "outputs": [],
   "source": [
    "pd.read_csv?"
   ]
  },
  {
   "cell_type": "code",
   "execution_count": 53,
   "id": "cebe311e",
   "metadata": {},
   "outputs": [],
   "source": [
    "df1=pd.read_csv('E:\\\\DATA_TRAINED\\\\myfiles\\\\agedata.tsv',sep='\\t')"
   ]
  },
  {
   "cell_type": "code",
   "execution_count": 54,
   "id": "5ecc87b9",
   "metadata": {},
   "outputs": [
    {
     "name": "stdout",
     "output_type": "stream",
     "text": [
      "   Sno.   Name  Age  Unnamed: 3\n",
      "0     1   Amit   45         NaN\n",
      "1     2  Kapil   67         NaN\n",
      "2     3  Mohan   62         NaN\n"
     ]
    }
   ],
   "source": [
    "print(df1)"
   ]
  },
  {
   "cell_type": "code",
   "execution_count": 1,
   "id": "7d0c1525",
   "metadata": {},
   "outputs": [
    {
     "name": "stdout",
     "output_type": "stream",
     "text": [
      "Requirement already satisfied: requests in c:\\users\\hp\\anaconda3\\lib\\site-packages (2.26.0)\n",
      "Requirement already satisfied: charset-normalizer~=2.0.0 in c:\\users\\hp\\anaconda3\\lib\\site-packages (from requests) (2.0.4)\n",
      "Requirement already satisfied: certifi>=2017.4.17 in c:\\users\\hp\\anaconda3\\lib\\site-packages (from requests) (2021.10.8)\n",
      "Requirement already satisfied: urllib3<1.27,>=1.21.1 in c:\\users\\hp\\anaconda3\\lib\\site-packages (from requests) (1.26.7)\n",
      "Requirement already satisfied: idna<4,>=2.5 in c:\\users\\hp\\anaconda3\\lib\\site-packages (from requests) (3.2)\n"
     ]
    }
   ],
   "source": [
    "!pip install requests\n",
    "import requests as r"
   ]
  },
  {
   "cell_type": "code",
   "execution_count": 57,
   "id": "ce172ed8",
   "metadata": {},
   "outputs": [],
   "source": [
    "df2=pd.read_csv('empl.csv')"
   ]
  },
  {
   "cell_type": "code",
   "execution_count": 58,
   "id": "d7e87597",
   "metadata": {},
   "outputs": [
    {
     "name": "stdout",
     "output_type": "stream",
     "text": [
      "    SNo    Name   Age       City  Country   Salary\n",
      "0     1     Tom  28.0    Toronto   Canada  20000.0\n",
      "1     2     Lee  31.0    Edmonto   Canada   3900.0\n",
      "2     3    Dave  34.0    Toronto   Canada   8000.0\n",
      "3     4    Anik  26.0   HongKong     Asia  66672.0\n",
      "4     5   kamal  30.0        NaN  America      NaN\n",
      "5     6    Geet   NaN   HongKong     Asia  30007.0\n",
      "6     7  Steven  43.0    BayArea  America   8300.0\n",
      "7     8     Ram  38.0  Hyderabad     Asia  54666.0\n",
      "8     9    hari  50.0    newyork  America  67666.0\n",
      "9    11    yami   NaN    newyork  America   8888.0\n",
      "10   12    Anik  26.0   HongKong     Asia  66672.0\n",
      "11   13   kamal  30.0        NaN  America  34344.0\n",
      "12   14    Geet  22.0   HongKong     Asia  30007.0\n",
      "13   15  Steven  43.0        NaN  America   8300.0\n",
      "14   16     Ram  38.0  Hyderabad     Asia  54666.0\n",
      "15   17    hari   NaN    newyork  America  67666.0\n",
      "16   18    yami  27.0    newyork  America   8888.0\n",
      "17   19     Lee  31.0    Edmonto   Canada      NaN\n",
      "18   20  Andrew  34.0      Congo   Africa  34432.0\n",
      "19   21   soham  32.0     Angola   Africa  34534.0\n",
      "20   22    Grig  26.0    Finland   Europe  33451.0\n",
      "21   23   Kiara  27.0     London   Europe      NaN\n"
     ]
    }
   ],
   "source": [
    "print(df2)"
   ]
  },
  {
   "cell_type": "code",
   "execution_count": 59,
   "id": "c2627b3d",
   "metadata": {},
   "outputs": [],
   "source": [
    "df=pd.read_csv('E:\\DATA_TRAINED\\myfiles\\empl1.csv')"
   ]
  },
  {
   "cell_type": "code",
   "execution_count": 60,
   "id": "41a24fac",
   "metadata": {},
   "outputs": [
    {
     "name": "stdout",
     "output_type": "stream",
     "text": [
      "    SNo    Name   Age       City  Country   Salary\n",
      "0     1     Tom  28.0    Toronto   Canada  20000.0\n",
      "1     2     Lee  31.0    Edmonto   Canada   3900.0\n",
      "2     3    Dave  34.0    Toronto   Canada   8000.0\n",
      "3     4    Anik  26.0   HongKong     Asia  66672.0\n",
      "4     5   kamal  30.0        NaN  America      NaN\n",
      "5     6    Geet   NaN   HongKong     Asia  30007.0\n",
      "6     7  Steven  43.0    BayArea  America   8300.0\n",
      "7     8     Ram  38.0  Hyderabad     Asia  54666.0\n",
      "8     9    hari  50.0    newyork  America  67666.0\n",
      "9    11    yami   NaN    newyork  America   8888.0\n",
      "10   12    Anik  26.0   HongKong     Asia  66672.0\n",
      "11   13   kamal  30.0        NaN  America  34344.0\n",
      "12   14    Geet  22.0   HongKong     Asia  30007.0\n",
      "13   15  Steven  43.0        NaN  America   8300.0\n",
      "14   16     Ram  38.0  Hyderabad     Asia  54666.0\n",
      "15   17    hari   NaN    newyork  America  67666.0\n",
      "16   18    yami  27.0    newyork  America   8888.0\n",
      "17   19     Lee  31.0    Edmonto   Canada      NaN\n",
      "18   20  Andrew  34.0      Congo   Africa  34432.0\n",
      "19   21   soham  32.0     Angola   Africa  34534.0\n",
      "20   22    Grig  26.0    Finland   Europe  33451.0\n",
      "21   23   Kiara  27.0     London   Europe      NaN\n"
     ]
    }
   ],
   "source": [
    "print(df)"
   ]
  },
  {
   "cell_type": "code",
   "execution_count": 61,
   "id": "2d479fa9",
   "metadata": {},
   "outputs": [],
   "source": [
    "df.to_excel('E:\\DATA_TRAINED\\myfiles\\empl.xlsx')"
   ]
  },
  {
   "cell_type": "code",
   "execution_count": 65,
   "id": "2d032b61",
   "metadata": {},
   "outputs": [],
   "source": [
    "df2=pd.read_excel('E:\\DATA_TRAINED\\myfiles\\empl.xlsx')"
   ]
  },
  {
   "cell_type": "code",
   "execution_count": 66,
   "id": "c44667e6",
   "metadata": {},
   "outputs": [
    {
     "name": "stdout",
     "output_type": "stream",
     "text": [
      "    Unnamed: 0  SNo     Name   Age       City  Country   Salary\n",
      "0            0    1     AMIT  28.0    Toronto   Canada  20000.0\n",
      "1            1    2     PURI  31.0    Edmonto   Canada   3900.0\n",
      "2            2    3  GOSWAMI  34.0    Toronto   Canada   8000.0\n",
      "3            3    4    MOHAN  26.0   HongKong     Asia  66672.0\n",
      "4            4    5    KAPIL  30.0        NaN  America      NaN\n",
      "5            5    6    ROHAN   NaN   HongKong     Asia  30007.0\n",
      "6            6    7    SOHAN  43.0    BayArea  America   8300.0\n",
      "7            7    8      Ram  38.0  Hyderabad     Asia  54666.0\n",
      "8            8    9     PIPA  50.0    newyork  America  67666.0\n",
      "9            9   11    PUMPA   NaN    newyork  America   8888.0\n",
      "10          10   12     AMUL  26.0   HongKong     Asia  66672.0\n"
     ]
    }
   ],
   "source": [
    "print(df2)"
   ]
  },
  {
   "cell_type": "code",
   "execution_count": 67,
   "id": "94ca9036",
   "metadata": {},
   "outputs": [],
   "source": [
    "df.to_html('E:\\DATA_TRAINED\\myfiles\\empl.html')"
   ]
  },
  {
   "cell_type": "code",
   "execution_count": 68,
   "id": "3b1aff29",
   "metadata": {},
   "outputs": [],
   "source": [
    "df3=pd.read_html('E:\\DATA_TRAINED\\myfiles\\empl.html')"
   ]
  },
  {
   "cell_type": "code",
   "execution_count": 69,
   "id": "d98ff8b3",
   "metadata": {},
   "outputs": [
    {
     "name": "stdout",
     "output_type": "stream",
     "text": [
      "[    Unnamed: 0  SNo    Name   Age       City  Country   Salary\n",
      "0            0    1     Tom  28.0    Toronto   Canada  20000.0\n",
      "1            1    2     Lee  31.0    Edmonto   Canada   3900.0\n",
      "2            2    3    Dave  34.0    Toronto   Canada   8000.0\n",
      "3            3    4    Anik  26.0   HongKong     Asia  66672.0\n",
      "4            4    5   kamal  30.0        NaN  America      NaN\n",
      "5            5    6    Geet   NaN   HongKong     Asia  30007.0\n",
      "6            6    7  Steven  43.0    BayArea  America   8300.0\n",
      "7            7    8     Ram  38.0  Hyderabad     Asia  54666.0\n",
      "8            8    9    hari  50.0    newyork  America  67666.0\n",
      "9            9   11    yami   NaN    newyork  America   8888.0\n",
      "10          10   12    Anik  26.0   HongKong     Asia  66672.0\n",
      "11          11   13   kamal  30.0        NaN  America  34344.0\n",
      "12          12   14    Geet  22.0   HongKong     Asia  30007.0\n",
      "13          13   15  Steven  43.0        NaN  America   8300.0\n",
      "14          14   16     Ram  38.0  Hyderabad     Asia  54666.0\n",
      "15          15   17    hari   NaN    newyork  America  67666.0\n",
      "16          16   18    yami  27.0    newyork  America   8888.0\n",
      "17          17   19     Lee  31.0    Edmonto   Canada      NaN\n",
      "18          18   20  Andrew  34.0      Congo   Africa  34432.0\n",
      "19          19   21   soham  32.0     Angola   Africa  34534.0\n",
      "20          20   22    Grig  26.0    Finland   Europe  33451.0\n",
      "21          21   23   Kiara  27.0     London   Europe      NaN]\n"
     ]
    }
   ],
   "source": [
    "print(df3)"
   ]
  },
  {
   "cell_type": "code",
   "execution_count": 5,
   "id": "c7c6ace8",
   "metadata": {},
   "outputs": [],
   "source": [
    "import pandas as pd\n",
    "import io\n",
    "import requests\n",
    "url=\"https://raw.githubusercontent.com/cs109/2014_data/master/countries.csv\"\n",
    "s=requests.get(url).content\n",
    "c=pd.read_csv(io.StringIO(s.decode('utf-8')))"
   ]
  },
  {
   "cell_type": "code",
   "execution_count": 6,
   "id": "f056aeee",
   "metadata": {},
   "outputs": [
    {
     "name": "stdout",
     "output_type": "stream",
     "text": [
      "       Country         Region\n",
      "0      Algeria         AFRICA\n",
      "1       Angola         AFRICA\n",
      "2        Benin         AFRICA\n",
      "3     Botswana         AFRICA\n",
      "4      Burkina         AFRICA\n",
      "..         ...            ...\n",
      "189   Paraguay  SOUTH AMERICA\n",
      "190       Peru  SOUTH AMERICA\n",
      "191   Suriname  SOUTH AMERICA\n",
      "192    Uruguay  SOUTH AMERICA\n",
      "193  Venezuela  SOUTH AMERICA\n",
      "\n",
      "[194 rows x 2 columns]\n"
     ]
    }
   ],
   "source": [
    "print(c)"
   ]
  },
  {
   "cell_type": "code",
   "execution_count": null,
   "id": "9b0f78a8",
   "metadata": {},
   "outputs": [],
   "source": []
  }
 ],
 "metadata": {
  "kernelspec": {
   "display_name": "Python 3 (ipykernel)",
   "language": "python",
   "name": "python3"
  },
  "language_info": {
   "codemirror_mode": {
    "name": "ipython",
    "version": 3
   },
   "file_extension": ".py",
   "mimetype": "text/x-python",
   "name": "python",
   "nbconvert_exporter": "python",
   "pygments_lexer": "ipython3",
   "version": "3.9.7"
  }
 },
 "nbformat": 4,
 "nbformat_minor": 5
}
