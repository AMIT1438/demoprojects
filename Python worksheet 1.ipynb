{
 "cells": [
  {
   "cell_type": "markdown",
   "id": "d79173bd",
   "metadata": {},
   "source": [
    "Q1 to Q8 have only one correct answer. Choose the correct option to answer your question.\n",
    "1.\tWhich of the following operators is used to calculate remainder in a division?\n",
    "A)\t#\tB) &\n",
    "C) %\tD) $\n",
    "\n",
    "Answer : (C) %\n",
    "\n",
    "2.\tIn python 2//3 is equal to?\n",
    "A) 0.666\tB) 0\n",
    "C) 1\tD) 0.67\n",
    "\n",
    "Answer : (B) 0\n",
    "\n",
    "3.\tIn python, 6<<2 is equal to?\n",
    "A) 36\tB) 10\n",
    "C) 24\tD) 45\n",
    "\n",
    "Answer : (C) 24\n",
    "\n",
    "4.\tIn python, 6&2 will give which of the following as output?\n",
    "A)\t2\tB) True\n",
    "C) False\tD) 0\n",
    "\n",
    "Answer : (A) 2\n",
    "\n",
    "5.\tIn python, 6|2 will give which of the following as output?\n",
    "A)\t2\tB) 4\n",
    "C) 0\tD) 6\n",
    "\n",
    "Answer : (D) 6\n",
    "\n",
    "6.\tWhat does the finally keyword denotes in python?\n",
    "A)\tIt is used to mark the end of the code\n",
    "B)\tIt encloses the lines of code which will be executed if any error occurs while executing the lines of code in the try block.\n",
    "C)\tthe finally block will be executed no matter if the try block raises an error or not.\n",
    "D)\tNone of the above\n",
    "\n",
    "Answer : (C) the finally block will be executed no matter if the try block raises an error or not.\n",
    "\n",
    "7.\tWhat does raise keyword is used for in python?\n",
    "A)\tIt is used to raise an exception.\tB) It is used to define lambda function\n",
    "C) it's not a keyword in python.\tD) None of the above\n",
    "\n",
    "Answer : (A) It is used to raise an exception.\n",
    "\n",
    "8.\tWhich of the following is a common use case of yield keyword in python?\n",
    "A)\tin defining an iterator\tB) while defining a lambda function\n",
    "C) in defining a generator\tD) in for loop.\n",
    "\n",
    "Answer : (D) in for loop.\n",
    "\n",
    "Q9 and Q10 have multiple correct answers. Choose all the correct options to answer your question.\n",
    "9.\tWhich of the following are the valid variable names?\n",
    "A)\t_abc\tB) 1abc\n",
    "C) abc2\tD) None of the above\n",
    "\n",
    "Answer : (A) _abc\n",
    "         (C) abc2\n",
    "\n",
    "10.\tWhich of the following are the keywords in python?\n",
    "A)\tyield\tB) raise\n",
    "C) look-in\tD) all of the above\n",
    "\n",
    "Answer : (A) yield\t\n",
    "         (B) raise\n"
   ]
  },
  {
   "cell_type": "markdown",
   "id": "ea7da1de",
   "metadata": {},
   "source": [
    "Q11 to Q15 are programming questions. Answer them in Jupyter Notebook.\n",
    "\n",
    "11.\tWrite a python program to find the factorial of a number.\n"
   ]
  },
  {
   "cell_type": "code",
   "execution_count": 1,
   "id": "61d72ec6",
   "metadata": {},
   "outputs": [
    {
     "name": "stdout",
     "output_type": "stream",
     "text": [
      "Enter the Number for showing its factorial : \n",
      "5\n",
      "\n",
      "Factorial = 120\n"
     ]
    }
   ],
   "source": [
    "print(\"Enter the Number for showing its factorial : \")\n",
    "\n",
    "num = int(input())\n",
    "\n",
    "fact = 1\n",
    "\n",
    "i = 1\n",
    "\n",
    "while i<=num:\n",
    "    fact = fact*i\n",
    "    i = i+1\n",
    "\n",
    "print(\"\\nFactorial =\", fact)"
   ]
  },
  {
   "cell_type": "markdown",
   "id": "09e88559",
   "metadata": {},
   "source": [
    "12.\tWrite a python program to find whether a number is prime or composite."
   ]
  },
  {
   "cell_type": "code",
   "execution_count": 2,
   "id": "36638564",
   "metadata": {},
   "outputs": [
    {
     "name": "stdout",
     "output_type": "stream",
     "text": [
      "enter the no5\n",
      "5 is a prime number\n"
     ]
    }
   ],
   "source": [
    "count=0 \n",
    "k=int(input('enter the no')) \n",
    "for i in range(1,k+1): \n",
    "    if k%i==0 and k%k==0: \n",
    "        count=count+1 \n",
    "    else: \n",
    "        count=count \n",
    "if count==2: \n",
    "    print(\"{} is a prime number\".format(k))\n",
    "else: \n",
    "    print(\"{} is not a prime number\".format(k)) "
   ]
  },
  {
   "cell_type": "markdown",
   "id": "c32768f7",
   "metadata": {},
   "source": [
    "13.\tWrite a python program to check whether a given string is palindrome or not."
   ]
  },
  {
   "cell_type": "code",
   "execution_count": 3,
   "id": "69860bb3",
   "metadata": {},
   "outputs": [
    {
     "name": "stdout",
     "output_type": "stream",
     "text": [
      "Yes\n",
      "No\n"
     ]
    }
   ],
   "source": [
    "def isPalindrome(s):\n",
    "    return s == s[::-1]\n",
    " \n",
    "s = \"malayalam\"\n",
    "ans = isPalindrome(s)\n",
    " \n",
    "if ans:\n",
    "    print(\"Yes\")\n",
    "else:\n",
    "    print(\"No\")\n",
    "    \n",
    "s = \"malyala\"\n",
    "ans = isPalindrome(s)\n",
    " \n",
    "if ans:\n",
    "    print(\"Yes\")\n",
    "else:\n",
    "    print(\"No\")"
   ]
  },
  {
   "cell_type": "markdown",
   "id": "2aa1af3e",
   "metadata": {},
   "source": [
    "14.\tWrite a Python program to get the third side of right-angled triangle from two given sides."
   ]
  },
  {
   "cell_type": "code",
   "execution_count": 4,
   "id": "a0998ff9",
   "metadata": {},
   "outputs": [
    {
     "name": "stdout",
     "output_type": "stream",
     "text": [
      "Enter base: 10\n",
      "Enter height: 5\n",
      "Hypotenuse = 11.180339887498949\n"
     ]
    }
   ],
   "source": [
    "import math\n",
    "\n",
    "a = float(input(\"Enter base: \"))\n",
    "b = float(input(\"Enter height: \"))\n",
    "\n",
    "c = math.sqrt(a ** 2 + b ** 2)\n",
    "\n",
    "print(\"Hypotenuse =\", c)"
   ]
  },
  {
   "cell_type": "markdown",
   "id": "55825076",
   "metadata": {},
   "source": [
    "15.\tWrite a python program to print the frequency of each of the characters present in a given string."
   ]
  },
  {
   "cell_type": "code",
   "execution_count": 5,
   "id": "52145350",
   "metadata": {},
   "outputs": [
    {
     "name": "stdout",
     "output_type": "stream",
     "text": [
      "Enter the string: raman\n",
      "{'r': 1, 'a': 2, 'm': 1, 'n': 1}\n"
     ]
    }
   ],
   "source": [
    "str1 = input (\"Enter the string: \")\n",
    "d = dict()\n",
    "for c in str1:\n",
    "    if c in d:\n",
    "        d[c] = d[c] + 1\n",
    "    else:\n",
    "        d[c] = 1\n",
    "print(d)"
   ]
  },
  {
   "cell_type": "code",
   "execution_count": null,
   "id": "1ac2d8b2",
   "metadata": {},
   "outputs": [],
   "source": []
  },
  {
   "cell_type": "code",
   "execution_count": null,
   "id": "84f14293",
   "metadata": {},
   "outputs": [],
   "source": []
  }
 ],
 "metadata": {
  "kernelspec": {
   "display_name": "Python 3 (ipykernel)",
   "language": "python",
   "name": "python3"
  },
  "language_info": {
   "codemirror_mode": {
    "name": "ipython",
    "version": 3
   },
   "file_extension": ".py",
   "mimetype": "text/x-python",
   "name": "python",
   "nbconvert_exporter": "python",
   "pygments_lexer": "ipython3",
   "version": "3.9.7"
  }
 },
 "nbformat": 4,
 "nbformat_minor": 5
}
