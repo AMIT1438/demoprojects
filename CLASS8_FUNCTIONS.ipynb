{
 "cells": [
  {
   "cell_type": "code",
   "execution_count": 31,
   "id": "fb4e1e62",
   "metadata": {},
   "outputs": [
    {
     "name": "stdout",
     "output_type": "stream",
     "text": [
      "Hellow world what are you doing\n"
     ]
    }
   ],
   "source": [
    "print(\"Hellow world what are you doing\")"
   ]
  },
  {
   "cell_type": "code",
   "execution_count": 39,
   "id": "f66486d9",
   "metadata": {},
   "outputs": [
    {
     "name": "stdout",
     "output_type": "stream",
     "text": [
      "12\n"
     ]
    }
   ],
   "source": [
    "X=12\n",
    "print(X)"
   ]
  },
  {
   "cell_type": "code",
   "execution_count": 40,
   "id": "f430fb32",
   "metadata": {},
   "outputs": [
    {
     "name": "stdout",
     "output_type": "stream",
     "text": [
      "x =  15\n"
     ]
    }
   ],
   "source": [
    "x=15\n",
    "print('x = ', x)"
   ]
  },
  {
   "cell_type": "code",
   "execution_count": 41,
   "id": "ef9bcaca",
   "metadata": {},
   "outputs": [
    {
     "name": "stdout",
     "output_type": "stream",
     "text": [
      "12\n"
     ]
    }
   ],
   "source": [
    "print(X)"
   ]
  },
  {
   "cell_type": "code",
   "execution_count": 1,
   "id": "5c1bd386",
   "metadata": {},
   "outputs": [],
   "source": [
    "def myfun():\n",
    "    a=4\n",
    "    b=5\n",
    "    c=a*b\n",
    "    print('c is',c)"
   ]
  },
  {
   "cell_type": "code",
   "execution_count": 2,
   "id": "51522dd8",
   "metadata": {},
   "outputs": [
    {
     "name": "stdout",
     "output_type": "stream",
     "text": [
      "c is 20\n"
     ]
    }
   ],
   "source": [
    "myfun()"
   ]
  },
  {
   "cell_type": "code",
   "execution_count": 3,
   "id": "ca686b62",
   "metadata": {},
   "outputs": [],
   "source": [
    "def acir(r):\n",
    "    return(2*3.14*r)\n",
    "    "
   ]
  },
  {
   "cell_type": "code",
   "execution_count": 4,
   "id": "5dd8995d",
   "metadata": {},
   "outputs": [
    {
     "data": {
      "text/plain": [
       "25.12"
      ]
     },
     "execution_count": 4,
     "metadata": {},
     "output_type": "execute_result"
    }
   ],
   "source": [
    "acir(4)"
   ]
  },
  {
   "cell_type": "code",
   "execution_count": 5,
   "id": "c088aa6e",
   "metadata": {},
   "outputs": [],
   "source": [
    "def acir1():\n",
    "    r=int(input(\"Enter the value of radius\"))\n",
    "    return(2*3.14*r)\n",
    "    "
   ]
  },
  {
   "cell_type": "code",
   "execution_count": 6,
   "id": "33b6fffe",
   "metadata": {},
   "outputs": [
    {
     "name": "stdout",
     "output_type": "stream",
     "text": [
      "Enter the value of radius4\n"
     ]
    },
    {
     "data": {
      "text/plain": [
       "25.12"
      ]
     },
     "execution_count": 6,
     "metadata": {},
     "output_type": "execute_result"
    }
   ],
   "source": [
    "acir1()"
   ]
  },
  {
   "cell_type": "code",
   "execution_count": 11,
   "id": "4b74d77c",
   "metadata": {},
   "outputs": [],
   "source": [
    "def testfun1():\n",
    "    list1=[]\n",
    "    for i in [100,200,300,400]:\n",
    "        list1.append(i)\n",
    "        print(list1)\n",
    "    print(list1)"
   ]
  },
  {
   "cell_type": "code",
   "execution_count": 12,
   "id": "0d8b3556",
   "metadata": {},
   "outputs": [
    {
     "name": "stdout",
     "output_type": "stream",
     "text": [
      "[100]\n",
      "[100, 200]\n",
      "[100, 200, 300]\n",
      "[100, 200, 300, 400]\n",
      "[100, 200, 300, 400]\n"
     ]
    }
   ],
   "source": [
    "testfun1()"
   ]
  },
  {
   "cell_type": "code",
   "execution_count": 16,
   "id": "2290441e",
   "metadata": {},
   "outputs": [],
   "source": [
    "def testloop():\n",
    "    j=0\n",
    "    while(j<5):\n",
    "        print(j)\n",
    "        j+=1"
   ]
  },
  {
   "cell_type": "code",
   "execution_count": 17,
   "id": "162924f7",
   "metadata": {},
   "outputs": [
    {
     "name": "stdout",
     "output_type": "stream",
     "text": [
      "0\n",
      "1\n",
      "2\n",
      "3\n",
      "4\n"
     ]
    }
   ],
   "source": [
    "testloop()"
   ]
  },
  {
   "cell_type": "code",
   "execution_count": 18,
   "id": "30cd86b4",
   "metadata": {},
   "outputs": [],
   "source": [
    "def mysum(*args):\n",
    "    s=0\n",
    "    for i in args:\n",
    "        s+=i\n",
    "    return(s)"
   ]
  },
  {
   "cell_type": "code",
   "execution_count": 19,
   "id": "0bb8c169",
   "metadata": {},
   "outputs": [
    {
     "data": {
      "text/plain": [
       "9"
      ]
     },
     "execution_count": 19,
     "metadata": {},
     "output_type": "execute_result"
    }
   ],
   "source": [
    "mysum(2,3,4)"
   ]
  },
  {
   "cell_type": "code",
   "execution_count": 20,
   "id": "9bf43320",
   "metadata": {},
   "outputs": [
    {
     "data": {
      "text/plain": [
       "14"
      ]
     },
     "execution_count": 20,
     "metadata": {},
     "output_type": "execute_result"
    }
   ],
   "source": [
    "mysum(2,3,4,5)"
   ]
  },
  {
   "cell_type": "code",
   "execution_count": 21,
   "id": "92a11cf6",
   "metadata": {},
   "outputs": [
    {
     "data": {
      "text/plain": [
       "7"
      ]
     },
     "execution_count": 21,
     "metadata": {},
     "output_type": "execute_result"
    }
   ],
   "source": [
    "max(2,4,7,5)"
   ]
  },
  {
   "cell_type": "code",
   "execution_count": 22,
   "id": "0b71e3f6",
   "metadata": {},
   "outputs": [
    {
     "data": {
      "text/plain": [
       "2"
      ]
     },
     "execution_count": 22,
     "metadata": {},
     "output_type": "execute_result"
    }
   ],
   "source": [
    "min(2,4,7,5)"
   ]
  },
  {
   "cell_type": "code",
   "execution_count": 24,
   "id": "fd6c5e86",
   "metadata": {},
   "outputs": [
    {
     "data": {
      "text/plain": [
       "10"
      ]
     },
     "execution_count": 24,
     "metadata": {},
     "output_type": "execute_result"
    }
   ],
   "source": [
    "test=lambda x:x*2\n",
    "test(5)"
   ]
  },
  {
   "cell_type": "code",
   "execution_count": 25,
   "id": "90ea9121",
   "metadata": {},
   "outputs": [
    {
     "data": {
      "text/plain": [
       "25"
      ]
     },
     "execution_count": 25,
     "metadata": {},
     "output_type": "execute_result"
    }
   ],
   "source": [
    "test=lambda x:x**2\n",
    "test(5)"
   ]
  },
  {
   "cell_type": "code",
   "execution_count": 27,
   "id": "b05c8010",
   "metadata": {},
   "outputs": [
    {
     "data": {
      "text/plain": [
       "8"
      ]
     },
     "execution_count": 27,
     "metadata": {},
     "output_type": "execute_result"
    }
   ],
   "source": [
    "testadd=lambda x,y:x+y\n",
    "testadd(5,3)"
   ]
  },
  {
   "cell_type": "code",
   "execution_count": 28,
   "id": "406c9c7f",
   "metadata": {},
   "outputs": [
    {
     "data": {
      "text/plain": [
       "27"
      ]
     },
     "execution_count": 28,
     "metadata": {},
     "output_type": "execute_result"
    }
   ],
   "source": [
    "cube=lambda x:x**3\n",
    "cube(3)"
   ]
  },
  {
   "cell_type": "code",
   "execution_count": 29,
   "id": "3fa72205",
   "metadata": {},
   "outputs": [
    {
     "data": {
      "text/plain": [
       "8.0"
      ]
     },
     "execution_count": 29,
     "metadata": {},
     "output_type": "execute_result"
    }
   ],
   "source": [
    "sqrt=lambda x:x**(1/2)\n",
    "sqrt(64)"
   ]
  },
  {
   "cell_type": "code",
   "execution_count": 32,
   "id": "059f1eac",
   "metadata": {},
   "outputs": [
    {
     "data": {
      "text/plain": [
       "3.9999999999999996"
      ]
     },
     "execution_count": 32,
     "metadata": {},
     "output_type": "execute_result"
    }
   ],
   "source": [
    "curt=lambda x:x**(1/3)\n",
    "curt(64)"
   ]
  },
  {
   "cell_type": "code",
   "execution_count": 33,
   "id": "64031dfc",
   "metadata": {},
   "outputs": [
    {
     "name": "stdout",
     "output_type": "stream",
     "text": [
      "Addition is  9\n"
     ]
    }
   ],
   "source": [
    "addvar=lambda a,b:a+b\n",
    "print(\"Addition is \", addvar(4,5))"
   ]
  },
  {
   "cell_type": "code",
   "execution_count": 34,
   "id": "9570c87f",
   "metadata": {},
   "outputs": [
    {
     "data": {
      "text/plain": [
       "100.4"
      ]
     },
     "execution_count": 34,
     "metadata": {},
     "output_type": "execute_result"
    }
   ],
   "source": [
    "def far(c):\n",
    "    return((9/5)*c+32)\n",
    "far(38)"
   ]
  },
  {
   "cell_type": "code",
   "execution_count": 35,
   "id": "b300e460",
   "metadata": {},
   "outputs": [
    {
     "data": {
      "text/plain": [
       "100.4"
      ]
     },
     "execution_count": 35,
     "metadata": {},
     "output_type": "execute_result"
    }
   ],
   "source": [
    "f= lambda x:(9/5)*x+32\n",
    "f(38)"
   ]
  },
  {
   "cell_type": "code",
   "execution_count": 37,
   "id": "86c1f9bd",
   "metadata": {},
   "outputs": [
    {
     "data": {
      "text/plain": [
       "[1, 4, 9, 16]"
      ]
     },
     "execution_count": 37,
     "metadata": {},
     "output_type": "execute_result"
    }
   ],
   "source": [
    "mylist=[1,2,3,4]\n",
    "list(map(lambda x:x**2, mylist))"
   ]
  },
  {
   "cell_type": "code",
   "execution_count": 44,
   "id": "02ef5026",
   "metadata": {},
   "outputs": [
    {
     "name": "stdout",
     "output_type": "stream",
     "text": [
      "[35.5343, 40, 38.6666, 39.88888]\n",
      "[95.96174, 104.0, 101.59988000000001, 103.79998400000001]\n"
     ]
    }
   ],
   "source": [
    "c=[35.5343, 40, 38.6666, 39.88888]\n",
    "f=list(map(lambda x:(9/5)*x+32,c))\n",
    "print(c)\n",
    "print(f)"
   ]
  },
  {
   "cell_type": "code",
   "execution_count": 45,
   "id": "1275ff94",
   "metadata": {},
   "outputs": [
    {
     "data": {
      "text/plain": [
       "[95.96, 104.0, 101.6, 103.8]"
      ]
     },
     "execution_count": 45,
     "metadata": {},
     "output_type": "execute_result"
    }
   ],
   "source": [
    "newlist=[round(x,2) for x in f]\n",
    "newlist"
   ]
  },
  {
   "cell_type": "code",
   "execution_count": 47,
   "id": "38428766",
   "metadata": {},
   "outputs": [
    {
     "data": {
      "text/plain": [
       "['95.96', '104.00', '101.60', '103.80']"
      ]
     },
     "execution_count": 47,
     "metadata": {},
     "output_type": "execute_result"
    }
   ],
   "source": [
    "newlist=['%.2f' %x for x in f]\n",
    "newlist"
   ]
  },
  {
   "cell_type": "code",
   "execution_count": 49,
   "id": "8d18b14f",
   "metadata": {},
   "outputs": [
    {
     "data": {
      "text/plain": [
       "[1, 2]"
      ]
     },
     "execution_count": 49,
     "metadata": {},
     "output_type": "execute_result"
    }
   ],
   "source": [
    "mylist=[1,2,3,4]\n",
    "list(filter(lambda x:x<3, mylist))"
   ]
  },
  {
   "cell_type": "code",
   "execution_count": 52,
   "id": "6c143e06",
   "metadata": {},
   "outputs": [
    {
     "data": {
      "text/plain": [
       "[2, 4, 6, 8, 10]"
      ]
     },
     "execution_count": 52,
     "metadata": {},
     "output_type": "execute_result"
    }
   ],
   "source": [
    "mylist1=[1,2,3,4,5,6,7,8,9,10]\n",
    "list(filter(lambda x:x%2==0, mylist1))"
   ]
  },
  {
   "cell_type": "code",
   "execution_count": 53,
   "id": "db4f9941",
   "metadata": {},
   "outputs": [
    {
     "data": {
      "text/plain": [
       "[1, 3, 5, 7, 9]"
      ]
     },
     "execution_count": 53,
     "metadata": {},
     "output_type": "execute_result"
    }
   ],
   "source": [
    "list(filter(lambda x:x%2==1, mylist1))"
   ]
  },
  {
   "cell_type": "code",
   "execution_count": 54,
   "id": "ae3d6113",
   "metadata": {},
   "outputs": [
    {
     "data": {
      "text/plain": [
       "[0, 2, 4, 6, 8, 10, 12, 14, 16, 18]"
      ]
     },
     "execution_count": 54,
     "metadata": {},
     "output_type": "execute_result"
    }
   ],
   "source": [
    "even=lambda x:x%2==0\n",
    "list(filter(even,range(20)))"
   ]
  },
  {
   "cell_type": "code",
   "execution_count": 55,
   "id": "94de8f2b",
   "metadata": {},
   "outputs": [
    {
     "name": "stdout",
     "output_type": "stream",
     "text": [
      "handling error  division by zero\n"
     ]
    }
   ],
   "source": [
    "try:\n",
    "    32/0\n",
    "except ZeroDivisionError as err:\n",
    "    print('handling error ',err)\n",
    "    "
   ]
  },
  {
   "cell_type": "code",
   "execution_count": 56,
   "id": "feacbb11",
   "metadata": {},
   "outputs": [],
   "source": [
    "def divide(x,y):\n",
    "    try:\n",
    "        res=x/y\n",
    "    except ZeroDivisionError as err:\n",
    "        print('handling error ',err)\n",
    "    else:\n",
    "        print('result =',res)\n",
    "    finally:\n",
    "        print('finally clause executed')\n",
    "    "
   ]
  },
  {
   "cell_type": "code",
   "execution_count": 57,
   "id": "d35cf458",
   "metadata": {},
   "outputs": [
    {
     "name": "stdout",
     "output_type": "stream",
     "text": [
      "result = 4.0\n",
      "finally clause executed\n"
     ]
    }
   ],
   "source": [
    "divide(8,2)"
   ]
  },
  {
   "cell_type": "code",
   "execution_count": 58,
   "id": "91378864",
   "metadata": {},
   "outputs": [
    {
     "name": "stdout",
     "output_type": "stream",
     "text": [
      "handling error  division by zero\n",
      "finally clause executed\n"
     ]
    }
   ],
   "source": [
    "divide(8,0)"
   ]
  },
  {
   "cell_type": "code",
   "execution_count": null,
   "id": "002abeea",
   "metadata": {},
   "outputs": [],
   "source": []
  }
 ],
 "metadata": {
  "kernelspec": {
   "display_name": "Python 3 (ipykernel)",
   "language": "python",
   "name": "python3"
  },
  "language_info": {
   "codemirror_mode": {
    "name": "ipython",
    "version": 3
   },
   "file_extension": ".py",
   "mimetype": "text/x-python",
   "name": "python",
   "nbconvert_exporter": "python",
   "pygments_lexer": "ipython3",
   "version": "3.9.7"
  }
 },
 "nbformat": 4,
 "nbformat_minor": 5
}
