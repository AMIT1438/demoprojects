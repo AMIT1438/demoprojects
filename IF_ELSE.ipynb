{
 "cells": [
  {
   "cell_type": "code",
   "execution_count": 2,
   "id": "0a9e555f",
   "metadata": {},
   "outputs": [
    {
     "name": "stdout",
     "output_type": "stream",
     "text": [
      "b is greater  30\n"
     ]
    }
   ],
   "source": [
    "a=20\n",
    "b=30\n",
    "if a>b :\n",
    "    print('a is greater ',a)\n",
    "elif b>a :\n",
    "    print('b is greater ',b)\n",
    "else:\n",
    "    print('same ')"
   ]
  },
  {
   "cell_type": "code",
   "execution_count": 5,
   "id": "e6c9b227",
   "metadata": {},
   "outputs": [
    {
     "name": "stdout",
     "output_type": "stream",
     "text": [
      "None\n"
     ]
    }
   ],
   "source": [
    "a = True + True + True + 2 - False\n",
    "\n",
    "b = 5*(True) + False\n",
    "\n",
    "print(\"A\") if a > b else print(\"None\") if a == b else print(\"B\")"
   ]
  },
  {
   "cell_type": "code",
   "execution_count": 7,
   "id": "cd8a3312",
   "metadata": {},
   "outputs": [
    {
     "name": "stdout",
     "output_type": "stream",
     "text": [
      "b is greater  30\n"
     ]
    }
   ],
   "source": [
    "a=20\n",
    "b=30\n",
    "if a>b and a!=b:\n",
    "    print('a is greater ',a)\n",
    "elif b>a:\n",
    "    print('b is greater ',b)\n",
    "else:\n",
    "    print('Same')"
   ]
  },
  {
   "cell_type": "code",
   "execution_count": 8,
   "id": "56c8b4b7",
   "metadata": {},
   "outputs": [
    {
     "name": "stdout",
     "output_type": "stream",
     "text": [
      "b is greater 30\n"
     ]
    }
   ],
   "source": [
    "a=20\n",
    "b=30\n",
    "print('a is greater ',a) if a>b  else  print('b is greater',b)"
   ]
  },
  {
   "cell_type": "code",
   "execution_count": null,
   "id": "71336f0b",
   "metadata": {},
   "outputs": [],
   "source": []
  }
 ],
 "metadata": {
  "kernelspec": {
   "display_name": "Python 3 (ipykernel)",
   "language": "python",
   "name": "python3"
  },
  "language_info": {
   "codemirror_mode": {
    "name": "ipython",
    "version": 3
   },
   "file_extension": ".py",
   "mimetype": "text/x-python",
   "name": "python",
   "nbconvert_exporter": "python",
   "pygments_lexer": "ipython3",
   "version": "3.9.7"
  }
 },
 "nbformat": 4,
 "nbformat_minor": 5
}
