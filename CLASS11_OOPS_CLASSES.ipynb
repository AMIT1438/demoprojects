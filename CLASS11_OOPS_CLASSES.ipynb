{
 "cells": [
  {
   "cell_type": "code",
   "execution_count": 3,
   "id": "1702b127",
   "metadata": {},
   "outputs": [
    {
     "name": "stdout",
     "output_type": "stream",
     "text": [
      "Name = Amit  Grade =  38\n"
     ]
    }
   ],
   "source": [
    "class student:\n",
    "    def __init__(self, n='Blank', g=0):\n",
    "        self.name = n\n",
    "        self.grade = g\n",
    "\n",
    "    def disp(self):\n",
    "        print(\"Name =\",self.name,\" Grade = \",self.grade)\n",
    "\n",
    "stud1=student('Amit',38)\n",
    "stud1.disp()\n"
   ]
  },
  {
   "cell_type": "code",
   "execution_count": 6,
   "id": "90ce2e52",
   "metadata": {},
   "outputs": [
    {
     "name": "stdout",
     "output_type": "stream",
     "text": [
      "Name = Mohan  Grade =  0\n"
     ]
    }
   ],
   "source": [
    "stud2=student('Mohan')\n",
    "stud2.disp()"
   ]
  },
  {
   "cell_type": "code",
   "execution_count": 7,
   "id": "1e315e8f",
   "metadata": {},
   "outputs": [
    {
     "name": "stdout",
     "output_type": "stream",
     "text": [
      "Name = Blank  Grade =  0\n"
     ]
    }
   ],
   "source": [
    "stud2=student()\n",
    "stud2.disp()"
   ]
  },
  {
   "cell_type": "code",
   "execution_count": 11,
   "id": "5e2c0ff9",
   "metadata": {},
   "outputs": [
    {
     "ename": "AttributeError",
     "evalue": "type object 'student' has no attribute 'grade'",
     "output_type": "error",
     "traceback": [
      "\u001b[1;31m---------------------------------------------------------------------------\u001b[0m",
      "\u001b[1;31mAttributeError\u001b[0m                            Traceback (most recent call last)",
      "\u001b[1;32m~\\AppData\\Local\\Temp/ipykernel_13040/1579767576.py\u001b[0m in \u001b[0;36m<module>\u001b[1;34m\u001b[0m\n\u001b[1;32m----> 1\u001b[1;33m \u001b[0mstudent\u001b[0m\u001b[1;33m.\u001b[0m\u001b[0mgrade\u001b[0m\u001b[1;33m\u001b[0m\u001b[1;33m\u001b[0m\u001b[0m\n\u001b[0m",
      "\u001b[1;31mAttributeError\u001b[0m: type object 'student' has no attribute 'grade'"
     ]
    }
   ],
   "source": [
    "student.grade"
   ]
  },
  {
   "cell_type": "code",
   "execution_count": 10,
   "id": "e27bc68d",
   "metadata": {},
   "outputs": [
    {
     "data": {
      "text/plain": [
       "0"
      ]
     },
     "execution_count": 10,
     "metadata": {},
     "output_type": "execute_result"
    }
   ],
   "source": [
    "stud2.grade"
   ]
  },
  {
   "cell_type": "code",
   "execution_count": 12,
   "id": "4926d96c",
   "metadata": {},
   "outputs": [
    {
     "name": "stdout",
     "output_type": "stream",
     "text": [
      "Name = Amit  Grade =  38\n"
     ]
    }
   ],
   "source": [
    "class student:\n",
    "    fee=8000\n",
    "    def __init__(self, n='Blank', g=0):\n",
    "        self.name = n\n",
    "        self.grade = g\n",
    "\n",
    "    def disp(self):\n",
    "        print(\"Name =\",self.name,\" Grade = \",self.grade)\n",
    "\n",
    "stud1=student('Amit',38)\n",
    "stud1.disp()"
   ]
  },
  {
   "cell_type": "code",
   "execution_count": 13,
   "id": "48b7a1e1",
   "metadata": {},
   "outputs": [
    {
     "data": {
      "text/plain": [
       "8000"
      ]
     },
     "execution_count": 13,
     "metadata": {},
     "output_type": "execute_result"
    }
   ],
   "source": [
    "stud1.fee"
   ]
  },
  {
   "cell_type": "code",
   "execution_count": 14,
   "id": "635740aa",
   "metadata": {},
   "outputs": [
    {
     "data": {
      "text/plain": [
       "8000"
      ]
     },
     "execution_count": 14,
     "metadata": {},
     "output_type": "execute_result"
    }
   ],
   "source": [
    "student.fee"
   ]
  },
  {
   "cell_type": "code",
   "execution_count": 15,
   "id": "77b3ba98",
   "metadata": {},
   "outputs": [],
   "source": [
    "stud1.fee=1000"
   ]
  },
  {
   "cell_type": "code",
   "execution_count": 16,
   "id": "dde68f3e",
   "metadata": {},
   "outputs": [
    {
     "data": {
      "text/plain": [
       "1000"
      ]
     },
     "execution_count": 16,
     "metadata": {},
     "output_type": "execute_result"
    }
   ],
   "source": [
    "stud1.fee"
   ]
  },
  {
   "cell_type": "code",
   "execution_count": 17,
   "id": "3316b388",
   "metadata": {},
   "outputs": [
    {
     "data": {
      "text/plain": [
       "8000"
      ]
     },
     "execution_count": 17,
     "metadata": {},
     "output_type": "execute_result"
    }
   ],
   "source": [
    "student.fee"
   ]
  },
  {
   "cell_type": "code",
   "execution_count": 18,
   "id": "88cce57d",
   "metadata": {},
   "outputs": [],
   "source": [
    "student.fee=2500"
   ]
  },
  {
   "cell_type": "code",
   "execution_count": 19,
   "id": "8a4e9eaf",
   "metadata": {},
   "outputs": [
    {
     "data": {
      "text/plain": [
       "2500"
      ]
     },
     "execution_count": 19,
     "metadata": {},
     "output_type": "execute_result"
    }
   ],
   "source": [
    "student.fee"
   ]
  },
  {
   "cell_type": "code",
   "execution_count": 20,
   "id": "7206ab91",
   "metadata": {},
   "outputs": [
    {
     "data": {
      "text/plain": [
       "1000"
      ]
     },
     "execution_count": 20,
     "metadata": {},
     "output_type": "execute_result"
    }
   ],
   "source": [
    "stud1.fee"
   ]
  },
  {
   "cell_type": "code",
   "execution_count": 22,
   "id": "140b81bd",
   "metadata": {},
   "outputs": [
    {
     "name": "stdout",
     "output_type": "stream",
     "text": [
      "Name = ravi  Grade =  67\n"
     ]
    }
   ],
   "source": [
    "stud3=student('ravi',67)\n",
    "stud3.disp()"
   ]
  },
  {
   "cell_type": "code",
   "execution_count": 23,
   "id": "794735cf",
   "metadata": {},
   "outputs": [
    {
     "name": "stdout",
     "output_type": "stream",
     "text": [
      "2500\n",
      "2500\n"
     ]
    }
   ],
   "source": [
    "print(stud3.fee)\n",
    "print(student.fee)"
   ]
  },
  {
   "cell_type": "code",
   "execution_count": 24,
   "id": "161a28ec",
   "metadata": {},
   "outputs": [
    {
     "name": "stdout",
     "output_type": "stream",
     "text": [
      "Name = Amit  id =  38\n"
     ]
    }
   ],
   "source": [
    "class person:\n",
    "    salary=8000\n",
    "    def __init__(self, n='Blank', i=0):\n",
    "        self.name = n\n",
    "        self.id = i\n",
    "\n",
    "    def disp(self):\n",
    "        print(\"Name =\",self.name,\" id = \",self.id)\n",
    "\n",
    "p1=person('Amit',38)\n",
    "p1.disp()"
   ]
  },
  {
   "cell_type": "code",
   "execution_count": 25,
   "id": "87a7067d",
   "metadata": {},
   "outputs": [
    {
     "name": "stdout",
     "output_type": "stream",
     "text": [
      "Inside display function\n",
      "Amit   38   101   65000\n"
     ]
    }
   ],
   "source": [
    "class employee:\n",
    "    salary=8000\n",
    "    def __init__(self, n='Blank',a=0, i=0, s=0):\n",
    "        self.name = n\n",
    "        self.age = a\n",
    "        self.id = i\n",
    "        self.salary = s\n",
    "\n",
    "    def disp(self):\n",
    "        print('Inside display function')\n",
    "        print(self.name,\" \",self.age,\" \",self.id,\" \",self.salary)\n",
    "\n",
    "e1=employee('Amit',38,101,65000)\n",
    "e1.disp()"
   ]
  },
  {
   "cell_type": "code",
   "execution_count": 26,
   "id": "8f712993",
   "metadata": {},
   "outputs": [
    {
     "name": "stdout",
     "output_type": "stream",
     "text": [
      "Amit\n",
      "38\n",
      "101\n",
      "65000\n"
     ]
    }
   ],
   "source": [
    "print(e1.name)\n",
    "print(e1.age)\n",
    "print(e1.id)\n",
    "print(e1.salary)"
   ]
  },
  {
   "cell_type": "code",
   "execution_count": 27,
   "id": "0875881a",
   "metadata": {},
   "outputs": [
    {
     "name": "stdout",
     "output_type": "stream",
     "text": [
      "Inside display function\n",
      "Amit   38   101   65000\n"
     ]
    }
   ],
   "source": [
    "def main():\n",
    "    e1=employee('Amit',38,101,65000)\n",
    "    e1.disp()\n",
    "    \n",
    "if __name__==\"__main__\":\n",
    "    main()"
   ]
  },
  {
   "cell_type": "code",
   "execution_count": 31,
   "id": "76e127ba",
   "metadata": {},
   "outputs": [
    {
     "name": "stdout",
     "output_type": "stream",
     "text": [
      "Inside display function\n",
      "Amit   38   101   65000\n"
     ]
    }
   ],
   "source": [
    "class emp:\n",
    "    salary=8000\n",
    "    def __init__(self, n='Blank',a=0, i=0, s=0):\n",
    "        self.name = n\n",
    "        self.age = a\n",
    "        self.id = i\n",
    "        self.salary = s\n",
    "    \n",
    "    def getdata(self, n='Blank',a=0, i=0, s=0):\n",
    "        self.name = n\n",
    "        self.age = a\n",
    "        self.id = i\n",
    "        self.salary = s\n",
    "\n",
    "    def disp(self):\n",
    "        print('Inside display function')\n",
    "        print(self.name,\" \",self.age,\" \",self.id,\" \",self.salary)\n",
    "\n",
    "e1=emp('Amit',38,101,65000)\n",
    "e1.disp()"
   ]
  },
  {
   "cell_type": "code",
   "execution_count": 32,
   "id": "d8e252a2",
   "metadata": {},
   "outputs": [
    {
     "name": "stdout",
     "output_type": "stream",
     "text": [
      "Inside display function\n",
      "Rohan   40   108   70000\n"
     ]
    }
   ],
   "source": [
    "e1.getdata(\"Rohan\",40,108,70000)\n",
    "e1.disp()"
   ]
  },
  {
   "cell_type": "code",
   "execution_count": 35,
   "id": "c3412a06",
   "metadata": {},
   "outputs": [],
   "source": [
    "class emp:\n",
    "    salary=8000\n",
    "    def __init__(self, n='Blank',a=0, i=0, s=0):\n",
    "        self.name = n\n",
    "        self.age = a\n",
    "        self.id = i\n",
    "        self.salary = s\n",
    "    \n",
    "    def getdata(self, n='Blank',a=0, i=0, s=0):\n",
    "        self.name = n\n",
    "        self.age = a\n",
    "        self.id = i\n",
    "        self.salary = s\n",
    "        \n",
    "    def askdata(self):\n",
    "        self.name = str(input(\"Enter name = \"))\n",
    "        self.age = int(input(\"Enter age = \"))\n",
    "        self.id = int(input(\"Enter id = \"))\n",
    "        self.salary = int(input(\"Enter salary = \"))\n",
    "\n",
    "    def disp(self):\n",
    "        print('Inside display function')\n",
    "        print(self.name,\" \",self.age,\" \",self.id,\" \",self.salary)\n",
    "\n",
    "\n",
    "        def main():\n",
    "            e1=emp('Amit',38,101,65000)\n",
    "            e1.disp()\n",
    "    \n",
    "        if __name__==\"__main__\":\n",
    "            main()\n",
    "        \n",
    "       "
   ]
  },
  {
   "cell_type": "code",
   "execution_count": 34,
   "id": "2a90a53c",
   "metadata": {},
   "outputs": [
    {
     "name": "stdout",
     "output_type": "stream",
     "text": [
      "Enter name = KAPIL\n",
      "Enter age = 34\n",
      "Enter id = 56\n",
      "Enter salary = 89000\n",
      "Inside display function\n",
      "KAPIL   34   56   89000\n"
     ]
    }
   ],
   "source": [
    "e1.askdata()\n",
    "e1.disp()"
   ]
  },
  {
   "cell_type": "code",
   "execution_count": null,
   "id": "dc2a80fd",
   "metadata": {},
   "outputs": [],
   "source": []
  }
 ],
 "metadata": {
  "kernelspec": {
   "display_name": "Python 3 (ipykernel)",
   "language": "python",
   "name": "python3"
  },
  "language_info": {
   "codemirror_mode": {
    "name": "ipython",
    "version": 3
   },
   "file_extension": ".py",
   "mimetype": "text/x-python",
   "name": "python",
   "nbconvert_exporter": "python",
   "pygments_lexer": "ipython3",
   "version": "3.9.7"
  }
 },
 "nbformat": 4,
 "nbformat_minor": 5
}
