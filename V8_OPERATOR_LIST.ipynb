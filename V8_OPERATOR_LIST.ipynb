{
 "cells": [
  {
   "cell_type": "code",
   "execution_count": 1,
   "id": "8c03a911",
   "metadata": {},
   "outputs": [
    {
     "data": {
      "text/plain": [
       "5.0"
      ]
     },
     "execution_count": 1,
     "metadata": {},
     "output_type": "execute_result"
    }
   ],
   "source": [
    "10/2\n"
   ]
  },
  {
   "cell_type": "markdown",
   "id": "8487cb51",
   "metadata": {},
   "source": [
    "# Modulo Operator"
   ]
  },
  {
   "cell_type": "code",
   "execution_count": 3,
   "id": "930f9db9",
   "metadata": {},
   "outputs": [
    {
     "data": {
      "text/plain": [
       "343"
      ]
     },
     "execution_count": 3,
     "metadata": {},
     "output_type": "execute_result"
    }
   ],
   "source": [
    "7**3"
   ]
  },
  {
   "cell_type": "code",
   "execution_count": 4,
   "id": "d4a1d16a",
   "metadata": {},
   "outputs": [
    {
     "data": {
      "text/plain": [
       "27"
      ]
     },
     "execution_count": 4,
     "metadata": {},
     "output_type": "execute_result"
    }
   ],
   "source": [
    "3**3"
   ]
  },
  {
   "cell_type": "code",
   "execution_count": 6,
   "id": "eed1270d",
   "metadata": {},
   "outputs": [],
   "source": [
    "a=10 "
   ]
  },
  {
   "cell_type": "code",
   "execution_count": 7,
   "id": "6d59670f",
   "metadata": {},
   "outputs": [],
   "source": [
    "b=6"
   ]
  },
  {
   "cell_type": "code",
   "execution_count": 8,
   "id": "1abfb9e9",
   "metadata": {},
   "outputs": [
    {
     "data": {
      "text/plain": [
       "16"
      ]
     },
     "execution_count": 8,
     "metadata": {},
     "output_type": "execute_result"
    }
   ],
   "source": [
    "a+b"
   ]
  },
  {
   "cell_type": "code",
   "execution_count": 9,
   "id": "55926e26",
   "metadata": {},
   "outputs": [],
   "source": [
    "a=12\n",
    "b=8"
   ]
  },
  {
   "cell_type": "code",
   "execution_count": 18,
   "id": "fab1268b",
   "metadata": {},
   "outputs": [
    {
     "name": "stdout",
     "output_type": "stream",
     "text": [
      "20   4\n"
     ]
    }
   ],
   "source": [
    "c=a+b\n",
    "d=a-b\n",
    "print(c,' ',d)"
   ]
  },
  {
   "cell_type": "code",
   "execution_count": 16,
   "id": "7ef34519",
   "metadata": {},
   "outputs": [
    {
     "name": "stdout",
     "output_type": "stream",
     "text": [
      "Sum = 20\n"
     ]
    }
   ],
   "source": [
    "print(\"Sum =\", c)"
   ]
  },
  {
   "cell_type": "code",
   "execution_count": 19,
   "id": "49831872",
   "metadata": {},
   "outputs": [
    {
     "name": "stdout",
     "output_type": "stream",
     "text": [
      "Difference = 4\n"
     ]
    }
   ],
   "source": [
    "print('Difference =',d)"
   ]
  },
  {
   "cell_type": "code",
   "execution_count": 23,
   "id": "95deb2da",
   "metadata": {},
   "outputs": [
    {
     "data": {
      "text/plain": [
       "4"
      ]
     },
     "execution_count": 23,
     "metadata": {},
     "output_type": "execute_result"
    }
   ],
   "source": [
    "#jupyter notebook password\n",
    "d"
   ]
  },
  {
   "cell_type": "code",
   "execution_count": 31,
   "id": "27278600",
   "metadata": {},
   "outputs": [
    {
     "data": {
      "text/plain": [
       "5"
      ]
     },
     "execution_count": 31,
     "metadata": {},
     "output_type": "execute_result"
    }
   ],
   "source": [
    "city='dehli'\n",
    "l=len(city)\n",
    "city\n",
    "l"
   ]
  },
  {
   "cell_type": "code",
   "execution_count": 29,
   "id": "3011c1b5",
   "metadata": {},
   "outputs": [
    {
     "data": {
      "text/plain": [
       "5"
      ]
     },
     "execution_count": 29,
     "metadata": {},
     "output_type": "execute_result"
    }
   ],
   "source": [
    "city\n",
    "l"
   ]
  },
  {
   "cell_type": "code",
   "execution_count": 30,
   "id": "5041d34a",
   "metadata": {},
   "outputs": [
    {
     "data": {
      "text/plain": [
       "4"
      ]
     },
     "execution_count": 30,
     "metadata": {},
     "output_type": "execute_result"
    }
   ],
   "source": [
    "len('amit')"
   ]
  },
  {
   "cell_type": "code",
   "execution_count": 2,
   "id": "4a9070a8",
   "metadata": {},
   "outputs": [
    {
     "name": "stdout",
     "output_type": "stream",
     "text": [
      "(1, 'rt', 89.54)\n"
     ]
    }
   ],
   "source": [
    "t=(1,'rt',89.54)\n",
    "print(t)"
   ]
  },
  {
   "cell_type": "code",
   "execution_count": 4,
   "id": "faa4bacb",
   "metadata": {},
   "outputs": [
    {
     "name": "stdout",
     "output_type": "stream",
     "text": [
      "[1, 'rt', 89.54]\n"
     ]
    }
   ],
   "source": [
    "l=list(t)\n",
    "print(l)"
   ]
  },
  {
   "cell_type": "code",
   "execution_count": 5,
   "id": "d08f135f",
   "metadata": {},
   "outputs": [
    {
     "data": {
      "text/plain": [
       "(1, 'rt', 89.54)"
      ]
     },
     "execution_count": 5,
     "metadata": {},
     "output_type": "execute_result"
    }
   ],
   "source": [
    "tuple(l)"
   ]
  },
  {
   "cell_type": "code",
   "execution_count": 6,
   "id": "6357c454",
   "metadata": {},
   "outputs": [
    {
     "data": {
      "text/plain": [
       "list"
      ]
     },
     "execution_count": 6,
     "metadata": {},
     "output_type": "execute_result"
    }
   ],
   "source": [
    "type(l)"
   ]
  },
  {
   "cell_type": "code",
   "execution_count": 7,
   "id": "a721cb6b",
   "metadata": {},
   "outputs": [
    {
     "data": {
      "text/plain": [
       "3"
      ]
     },
     "execution_count": 7,
     "metadata": {},
     "output_type": "execute_result"
    }
   ],
   "source": [
    "len(t)"
   ]
  },
  {
   "cell_type": "code",
   "execution_count": 8,
   "id": "4033c292",
   "metadata": {},
   "outputs": [
    {
     "data": {
      "text/plain": [
       "'rt'"
      ]
     },
     "execution_count": 8,
     "metadata": {},
     "output_type": "execute_result"
    }
   ],
   "source": [
    "t[-2]"
   ]
  },
  {
   "cell_type": "code",
   "execution_count": 9,
   "id": "6f4c2ece",
   "metadata": {},
   "outputs": [
    {
     "data": {
      "text/plain": [
       "1"
      ]
     },
     "execution_count": 9,
     "metadata": {},
     "output_type": "execute_result"
    }
   ],
   "source": [
    "t[-3]"
   ]
  },
  {
   "cell_type": "code",
   "execution_count": 10,
   "id": "1d81cc4c",
   "metadata": {},
   "outputs": [
    {
     "data": {
      "text/plain": [
       "'rt'"
      ]
     },
     "execution_count": 10,
     "metadata": {},
     "output_type": "execute_result"
    }
   ],
   "source": [
    "t[1]"
   ]
  },
  {
   "cell_type": "code",
   "execution_count": 11,
   "id": "f359cad2",
   "metadata": {},
   "outputs": [
    {
     "data": {
      "text/plain": [
       "1"
      ]
     },
     "execution_count": 11,
     "metadata": {},
     "output_type": "execute_result"
    }
   ],
   "source": [
    "t.index('rt')"
   ]
  },
  {
   "cell_type": "code",
   "execution_count": 14,
   "id": "d8a6f3fc",
   "metadata": {},
   "outputs": [],
   "source": [
    "newd={1:[2,3,4,5,6],2:[123,345,678]}"
   ]
  },
  {
   "cell_type": "code",
   "execution_count": 15,
   "id": "d78ff29c",
   "metadata": {},
   "outputs": [
    {
     "name": "stdout",
     "output_type": "stream",
     "text": [
      "{1: [2, 3, 4, 5, 6], 2: [123, 345, 678]}\n"
     ]
    }
   ],
   "source": [
    "print(newd)"
   ]
  },
  {
   "cell_type": "code",
   "execution_count": 16,
   "id": "7430b403",
   "metadata": {},
   "outputs": [],
   "source": [
    "newd1={'emp':[2,3,4,5,6],'sal':[123,345,678]}"
   ]
  },
  {
   "cell_type": "code",
   "execution_count": 17,
   "id": "39053d6d",
   "metadata": {},
   "outputs": [
    {
     "data": {
      "text/plain": [
       "{'emp': [2, 3, 4, 5, 6], 'sal': [123, 345, 678]}"
      ]
     },
     "execution_count": 17,
     "metadata": {},
     "output_type": "execute_result"
    }
   ],
   "source": [
    "newd1"
   ]
  },
  {
   "cell_type": "code",
   "execution_count": 18,
   "id": "5f773d34",
   "metadata": {},
   "outputs": [
    {
     "data": {
      "text/plain": [
       "[2, 3, 4, 5, 6]"
      ]
     },
     "execution_count": 18,
     "metadata": {},
     "output_type": "execute_result"
    }
   ],
   "source": [
    "newd1['emp']"
   ]
  },
  {
   "cell_type": "code",
   "execution_count": 19,
   "id": "4b838372",
   "metadata": {},
   "outputs": [
    {
     "data": {
      "text/plain": [
       "5"
      ]
     },
     "execution_count": 19,
     "metadata": {},
     "output_type": "execute_result"
    }
   ],
   "source": [
    "newd1['emp'][-2]"
   ]
  },
  {
   "cell_type": "code",
   "execution_count": 20,
   "id": "2cd72e0a",
   "metadata": {},
   "outputs": [],
   "source": [
    "newd1={'emp':['ram','shyam','mohan','sohan'],'sal':[123,345,678]}"
   ]
  },
  {
   "cell_type": "code",
   "execution_count": 21,
   "id": "5958468b",
   "metadata": {},
   "outputs": [
    {
     "data": {
      "text/plain": [
       "'mohan'"
      ]
     },
     "execution_count": 21,
     "metadata": {},
     "output_type": "execute_result"
    }
   ],
   "source": [
    "newd1['emp'][-2]"
   ]
  },
  {
   "cell_type": "code",
   "execution_count": 22,
   "id": "2b3f8e0f",
   "metadata": {},
   "outputs": [
    {
     "data": {
      "text/plain": [
       "'MOHAN'"
      ]
     },
     "execution_count": 22,
     "metadata": {},
     "output_type": "execute_result"
    }
   ],
   "source": [
    "newd1['emp'][-2].upper()"
   ]
  },
  {
   "cell_type": "code",
   "execution_count": 24,
   "id": "6f32b050",
   "metadata": {},
   "outputs": [],
   "source": [
    "d={}"
   ]
  },
  {
   "cell_type": "code",
   "execution_count": 25,
   "id": "a6a83179",
   "metadata": {},
   "outputs": [],
   "source": [
    "d['animal']='dog'\n",
    "d['number']=34"
   ]
  },
  {
   "cell_type": "code",
   "execution_count": 26,
   "id": "11a8ef7c",
   "metadata": {},
   "outputs": [
    {
     "data": {
      "text/plain": [
       "{'animal': 'dog', 'number': 34}"
      ]
     },
     "execution_count": 26,
     "metadata": {},
     "output_type": "execute_result"
    }
   ],
   "source": [
    "d"
   ]
  },
  {
   "cell_type": "code",
   "execution_count": 27,
   "id": "3d3c71d7",
   "metadata": {},
   "outputs": [
    {
     "data": {
      "text/plain": [
       "dict_keys(['animal', 'number'])"
      ]
     },
     "execution_count": 27,
     "metadata": {},
     "output_type": "execute_result"
    }
   ],
   "source": [
    "d.keys()"
   ]
  },
  {
   "cell_type": "code",
   "execution_count": 28,
   "id": "ef2acdf1",
   "metadata": {},
   "outputs": [
    {
     "data": {
      "text/plain": [
       "dict_values(['dog', 34])"
      ]
     },
     "execution_count": 28,
     "metadata": {},
     "output_type": "execute_result"
    }
   ],
   "source": [
    "d.values()"
   ]
  },
  {
   "cell_type": "code",
   "execution_count": 29,
   "id": "9f06b703",
   "metadata": {},
   "outputs": [
    {
     "data": {
      "text/plain": [
       "dict_items([('animal', 'dog'), ('number', 34)])"
      ]
     },
     "execution_count": 29,
     "metadata": {},
     "output_type": "execute_result"
    }
   ],
   "source": [
    "d.items()"
   ]
  },
  {
   "cell_type": "code",
   "execution_count": 30,
   "id": "868c88a5",
   "metadata": {},
   "outputs": [
    {
     "data": {
      "text/plain": [
       "{0: 0, 1: 1, 2: 4, 3: 9, 4: 16, 5: 25, 6: 36, 7: 49, 8: 64, 9: 81}"
      ]
     },
     "execution_count": 30,
     "metadata": {},
     "output_type": "execute_result"
    }
   ],
   "source": [
    "{x:x**2 for x in range(10)}"
   ]
  },
  {
   "cell_type": "code",
   "execution_count": 36,
   "id": "4551628d",
   "metadata": {},
   "outputs": [
    {
     "name": "stdout",
     "output_type": "stream",
     "text": [
      "(10000, 15000, 20000, 25000)\n"
     ]
    }
   ],
   "source": [
    "salary = (10000,15000,20000)\n",
    "salary = list(salary)\n",
    "salary.insert(4,25000)\n",
    "salary = tuple(salary)\n",
    "print (salary)\n"
   ]
  },
  {
   "cell_type": "code",
   "execution_count": 37,
   "id": "d281dac6",
   "metadata": {},
   "outputs": [
    {
     "name": "stdout",
     "output_type": "stream",
     "text": [
      "30\n"
     ]
    }
   ],
   "source": [
    "dct = {'Salary':[10,20,30], 'emp_num':[1,22,333]}\n",
    "\n",
    "for i,j in dct.items():\n",
    "\n",
    "    if i =='Salary':\n",
    "\n",
    "        print (j[2])"
   ]
  },
  {
   "cell_type": "code",
   "execution_count": null,
   "id": "81f7e74a",
   "metadata": {},
   "outputs": [],
   "source": []
  }
 ],
 "metadata": {
  "kernelspec": {
   "display_name": "Python 3 (ipykernel)",
   "language": "python",
   "name": "python3"
  },
  "language_info": {
   "codemirror_mode": {
    "name": "ipython",
    "version": 3
   },
   "file_extension": ".py",
   "mimetype": "text/x-python",
   "name": "python",
   "nbconvert_exporter": "python",
   "pygments_lexer": "ipython3",
   "version": "3.9.7"
  }
 },
 "nbformat": 4,
 "nbformat_minor": 5
}
