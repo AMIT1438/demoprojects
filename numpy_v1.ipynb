{
 "cells": [
  {
   "cell_type": "code",
   "execution_count": 1,
   "id": "ee76b489",
   "metadata": {},
   "outputs": [],
   "source": [
    "import numpy as np\n",
    "a=np.array([1,2,3])"
   ]
  },
  {
   "cell_type": "code",
   "execution_count": 2,
   "id": "d05d9865",
   "metadata": {},
   "outputs": [
    {
     "data": {
      "text/plain": [
       "numpy.ndarray"
      ]
     },
     "execution_count": 2,
     "metadata": {},
     "output_type": "execute_result"
    }
   ],
   "source": [
    "type(a)"
   ]
  },
  {
   "cell_type": "code",
   "execution_count": 3,
   "id": "e0997834",
   "metadata": {},
   "outputs": [
    {
     "name": "stdout",
     "output_type": "stream",
     "text": [
      "[1 2 3]\n"
     ]
    }
   ],
   "source": [
    "print(a)"
   ]
  },
  {
   "cell_type": "code",
   "execution_count": 4,
   "id": "b48b1479",
   "metadata": {},
   "outputs": [
    {
     "name": "stdout",
     "output_type": "stream",
     "text": [
      "\n",
      " [[1 2 3]\n",
      " [5 7 8]]\n",
      "\n",
      " ******************************\n"
     ]
    }
   ],
   "source": [
    "a=np.array([[1,2,3],[5,7,8]])\n",
    "print('\\n',a)\n",
    "print('\\n','*' * 30)"
   ]
  },
  {
   "cell_type": "code",
   "execution_count": 5,
   "id": "dfaea4c9",
   "metadata": {},
   "outputs": [
    {
     "name": "stdout",
     "output_type": "stream",
     "text": [
      "\n",
      " [[1 2 3]\n",
      " [5 7 8]]\n"
     ]
    }
   ],
   "source": [
    "print('\\n',a)"
   ]
  },
  {
   "cell_type": "code",
   "execution_count": 6,
   "id": "90c3726f",
   "metadata": {},
   "outputs": [
    {
     "name": "stdout",
     "output_type": "stream",
     "text": [
      "\n",
      " [[1 2 3]\n",
      " [4 5 6]]\n"
     ]
    }
   ],
   "source": [
    "a=np.array(np.mat('1,2,3;4,5,6'))\n",
    "print('\\n',a)"
   ]
  },
  {
   "cell_type": "code",
   "execution_count": 7,
   "id": "70fc551a",
   "metadata": {},
   "outputs": [
    {
     "name": "stdout",
     "output_type": "stream",
     "text": [
      "\n",
      " [[1 2 3]\n",
      " [5 7 8]]\n"
     ]
    }
   ],
   "source": [
    "a=np.array([[1,2,3],[5,7,8]])\n",
    "print('\\n',a)"
   ]
  },
  {
   "cell_type": "code",
   "execution_count": 8,
   "id": "ffe31595",
   "metadata": {},
   "outputs": [
    {
     "name": "stdout",
     "output_type": "stream",
     "text": [
      "[1 3]\n"
     ]
    }
   ],
   "source": [
    "a=[1,3]\n",
    "b=np.array(a)\n",
    "print(b)"
   ]
  },
  {
   "cell_type": "code",
   "execution_count": 9,
   "id": "b2ad226b",
   "metadata": {},
   "outputs": [
    {
     "name": "stdout",
     "output_type": "stream",
     "text": [
      "[1 3]\n"
     ]
    }
   ],
   "source": [
    "c=np.asarray(a)\n",
    "print(c)"
   ]
  },
  {
   "cell_type": "code",
   "execution_count": 10,
   "id": "550876b1",
   "metadata": {},
   "outputs": [
    {
     "name": "stdout",
     "output_type": "stream",
     "text": [
      "[1 3]\n"
     ]
    }
   ],
   "source": [
    "c=np.asarray(b)\n",
    "print(c)"
   ]
  },
  {
   "cell_type": "code",
   "execution_count": 11,
   "id": "dbaabdf3",
   "metadata": {},
   "outputs": [
    {
     "name": "stdout",
     "output_type": "stream",
     "text": [
      "\n",
      " type <class 'numpy.ndarray'>\n"
     ]
    }
   ],
   "source": [
    "my_mat=[[1,2,3],[4,5,6],[7,8,9]]\n",
    "mat=np.array(my_mat)\n",
    "print('\\n type',type(mat))"
   ]
  },
  {
   "cell_type": "code",
   "execution_count": 12,
   "id": "18e8b064",
   "metadata": {},
   "outputs": [
    {
     "name": "stdout",
     "output_type": "stream",
     "text": [
      "[[1 2 3]\n",
      " [4 5 6]\n",
      " [7 8 9]]\n"
     ]
    }
   ],
   "source": [
    "print(mat)"
   ]
  },
  {
   "cell_type": "code",
   "execution_count": 13,
   "id": "ff5e234e",
   "metadata": {},
   "outputs": [
    {
     "name": "stdout",
     "output_type": "stream",
     "text": [
      "\n",
      " [[1 2 3]\n",
      " [4 5 6]\n",
      " [7 8 9]] \n",
      "\n"
     ]
    }
   ],
   "source": [
    "print('\\n',mat,'\\n')"
   ]
  },
  {
   "cell_type": "code",
   "execution_count": 16,
   "id": "76b5861f",
   "metadata": {},
   "outputs": [
    {
     "name": "stdout",
     "output_type": "stream",
     "text": [
      "dimention of matrix =                 2\n"
     ]
    }
   ],
   "source": [
    "print('dimention of matrix = ',mat.ndim,sep=\"                \")"
   ]
  },
  {
   "cell_type": "code",
   "execution_count": 19,
   "id": "6521d6d9",
   "metadata": {},
   "outputs": [
    {
     "name": "stdout",
     "output_type": "stream",
     "text": [
      "size of matrix =                 9\n",
      "shape of matrix =                 (3, 3)\n",
      "dtype of matrix =                 int32\n"
     ]
    }
   ],
   "source": [
    "print('size of matrix = ',mat.size,sep=\"                \")\n",
    "print('shape of matrix = ',mat.shape,sep=\"                \")\n",
    "print('dtype of matrix = ',mat.dtype,sep=\"                \")"
   ]
  },
  {
   "cell_type": "code",
   "execution_count": 20,
   "id": "90e386e1",
   "metadata": {},
   "outputs": [
    {
     "ename": "TypeError",
     "evalue": "'float' object cannot be interpreted as an integer",
     "output_type": "error",
     "traceback": [
      "\u001b[1;31m---------------------------------------------------------------------------\u001b[0m",
      "\u001b[1;31mTypeError\u001b[0m                                 Traceback (most recent call last)",
      "\u001b[1;32m~\\AppData\\Local\\Temp/ipykernel_23108/2981135720.py\u001b[0m in \u001b[0;36m<module>\u001b[1;34m\u001b[0m\n\u001b[1;32m----> 1\u001b[1;33m \u001b[0mlist\u001b[0m\u001b[1;33m(\u001b[0m\u001b[0mrange\u001b[0m\u001b[1;33m(\u001b[0m\u001b[1;36m2\u001b[0m\u001b[1;33m,\u001b[0m\u001b[1;36m10.5\u001b[0m\u001b[1;33m,\u001b[0m\u001b[1;36m0.4\u001b[0m\u001b[1;33m)\u001b[0m\u001b[1;33m)\u001b[0m\u001b[1;33m\u001b[0m\u001b[1;33m\u001b[0m\u001b[0m\n\u001b[0m",
      "\u001b[1;31mTypeError\u001b[0m: 'float' object cannot be interpreted as an integer"
     ]
    }
   ],
   "source": [
    "list(range(2,10.5,0.4))"
   ]
  },
  {
   "cell_type": "code",
   "execution_count": 21,
   "id": "c4b87989",
   "metadata": {},
   "outputs": [
    {
     "data": {
      "text/plain": [
       "array([ 2. ,  2.4,  2.8,  3.2,  3.6,  4. ,  4.4,  4.8,  5.2,  5.6,  6. ,\n",
       "        6.4,  6.8,  7.2,  7.6,  8. ,  8.4,  8.8,  9.2,  9.6, 10. , 10.4])"
      ]
     },
     "execution_count": 21,
     "metadata": {},
     "output_type": "execute_result"
    }
   ],
   "source": [
    "a=np.arange(2,10.5,0.4)\n",
    "a"
   ]
  },
  {
   "cell_type": "code",
   "execution_count": 23,
   "id": "3ef8c2bb",
   "metadata": {},
   "outputs": [
    {
     "data": {
      "text/plain": [
       "array([10.4, 10. ,  9.6,  9.2,  8.8,  8.4,  8. ,  7.6,  7.2,  6.8,  6.4,\n",
       "        6. ,  5.6,  5.2,  4.8,  4.4,  4. ,  3.6,  3.2,  2.8,  2.4,  2. ])"
      ]
     },
     "execution_count": 23,
     "metadata": {},
     "output_type": "execute_result"
    }
   ],
   "source": [
    "a[::-1]"
   ]
  },
  {
   "cell_type": "code",
   "execution_count": 25,
   "id": "84c6c939",
   "metadata": {},
   "outputs": [
    {
     "name": "stdout",
     "output_type": "stream",
     "text": [
      "5th element in reverse\n",
      "  [50 45 40 35 30 25 20 15 10  5]\n"
     ]
    }
   ],
   "source": [
    "print(\"5th element in reverse\\n \",np.arange(50,0,-5))"
   ]
  },
  {
   "cell_type": "code",
   "execution_count": 31,
   "id": "95859f3b",
   "metadata": {},
   "outputs": [
    {
     "name": "stdout",
     "output_type": "stream",
     "text": [
      "5th element in reverse\n",
      "  [10. 13. 16. 19. 22. 25. 28. 31. 34. 37. 40.]\n"
     ]
    }
   ],
   "source": [
    "print(\"5th element in reverse\\n \",np.linspace(10,40,11)) #start , end , no of elements , equal distance no. bw start n end"
   ]
  },
  {
   "cell_type": "code",
   "execution_count": 36,
   "id": "f5d90f94",
   "metadata": {},
   "outputs": [
    {
     "data": {
      "text/plain": [
       "array([2.        , 2.33333333, 2.66666667, 3.        ])"
      ]
     },
     "execution_count": 36,
     "metadata": {},
     "output_type": "execute_result"
    }
   ],
   "source": [
    "np.linspace(2.0,3.0, num=4, endpoint=True, retstep=False) #endpoint=True will include endpoint"
   ]
  },
  {
   "cell_type": "code",
   "execution_count": 39,
   "id": "1c28ce3b",
   "metadata": {},
   "outputs": [
    {
     "data": {
      "text/plain": [
       "(array([2.        , 2.33333333, 2.66666667, 3.        ]), 0.3333333333333333)"
      ]
     },
     "execution_count": 39,
     "metadata": {},
     "output_type": "execute_result"
    }
   ],
   "source": [
    "np.linspace(2.0,3.0, num=4, endpoint=True, retstep=True)  #retstep=True will show the distance bw the nos at the end"
   ]
  },
  {
   "cell_type": "code",
   "execution_count": 40,
   "id": "37a9c204",
   "metadata": {},
   "outputs": [
    {
     "data": {
      "text/plain": [
       "(array([2.  , 2.25, 2.5 , 2.75]), 0.25)"
      ]
     },
     "execution_count": 40,
     "metadata": {},
     "output_type": "execute_result"
    }
   ],
   "source": [
    "np.linspace(2.0,3.0, num=4, endpoint=False, retstep=True)"
   ]
  },
  {
   "cell_type": "code",
   "execution_count": 41,
   "id": "d40fdcf5",
   "metadata": {},
   "outputs": [
    {
     "data": {
      "text/plain": [
       "array([0., 0., 0., 0., 0.])"
      ]
     },
     "execution_count": 41,
     "metadata": {},
     "output_type": "execute_result"
    }
   ],
   "source": [
    "np.zeros(5)"
   ]
  },
  {
   "cell_type": "code",
   "execution_count": 44,
   "id": "bf7ca7d9",
   "metadata": {},
   "outputs": [
    {
     "name": "stdout",
     "output_type": "stream",
     "text": [
      "[[0. 0. 0. 0.]\n",
      " [0. 0. 0. 0.]\n",
      " [0. 0. 0. 0.]\n",
      " [0. 0. 0. 0.]\n",
      " [0. 0. 0. 0.]]\n"
     ]
    }
   ],
   "source": [
    "print(np.zeros((5,4)))"
   ]
  },
  {
   "cell_type": "code",
   "execution_count": 46,
   "id": "adeabf0c",
   "metadata": {},
   "outputs": [
    {
     "name": "stdout",
     "output_type": "stream",
     "text": [
      "[[1. 1. 1. 1. 1. 1.]\n",
      " [1. 1. 1. 1. 1. 1.]\n",
      " [1. 1. 1. 1. 1. 1.]\n",
      " [1. 1. 1. 1. 1. 1.]\n",
      " [1. 1. 1. 1. 1. 1.]]\n"
     ]
    }
   ],
   "source": [
    "print(np.ones((5,6)))"
   ]
  },
  {
   "cell_type": "code",
   "execution_count": 48,
   "id": "d9cc0494",
   "metadata": {},
   "outputs": [
    {
     "name": "stdout",
     "output_type": "stream",
     "text": [
      "[[5. 5. 5. 5. 5. 5.]\n",
      " [5. 5. 5. 5. 5. 5.]\n",
      " [5. 5. 5. 5. 5. 5.]\n",
      " [5. 5. 5. 5. 5. 5.]\n",
      " [5. 5. 5. 5. 5. 5.]]\n"
     ]
    }
   ],
   "source": [
    "print(5*np.ones((5,6)))"
   ]
  },
  {
   "cell_type": "code",
   "execution_count": 49,
   "id": "0bf86c62",
   "metadata": {},
   "outputs": [
    {
     "name": "stdout",
     "output_type": "stream",
     "text": [
      "[[ 0  1  2  3  4  5  6  7  8  9]\n",
      " [10 11 12 13 14 15 16 17 18 19]\n",
      " [20 21 22 23 24 25 26 27 28 29]]\n"
     ]
    }
   ],
   "source": [
    "x=np.arange(30).reshape(3,10)\n",
    "print(x)"
   ]
  },
  {
   "cell_type": "code",
   "execution_count": 50,
   "id": "f5e042e5",
   "metadata": {},
   "outputs": [
    {
     "ename": "ValueError",
     "evalue": "cannot reshape array of size 31 into shape (3,10)",
     "output_type": "error",
     "traceback": [
      "\u001b[1;31m---------------------------------------------------------------------------\u001b[0m",
      "\u001b[1;31mValueError\u001b[0m                                Traceback (most recent call last)",
      "\u001b[1;32m~\\AppData\\Local\\Temp/ipykernel_23108/4225471364.py\u001b[0m in \u001b[0;36m<module>\u001b[1;34m\u001b[0m\n\u001b[1;32m----> 1\u001b[1;33m \u001b[0mx\u001b[0m\u001b[1;33m=\u001b[0m\u001b[0mnp\u001b[0m\u001b[1;33m.\u001b[0m\u001b[0marange\u001b[0m\u001b[1;33m(\u001b[0m\u001b[1;36m31\u001b[0m\u001b[1;33m)\u001b[0m\u001b[1;33m.\u001b[0m\u001b[0mreshape\u001b[0m\u001b[1;33m(\u001b[0m\u001b[1;36m3\u001b[0m\u001b[1;33m,\u001b[0m\u001b[1;36m10\u001b[0m\u001b[1;33m)\u001b[0m\u001b[1;33m\u001b[0m\u001b[1;33m\u001b[0m\u001b[0m\n\u001b[0m",
      "\u001b[1;31mValueError\u001b[0m: cannot reshape array of size 31 into shape (3,10)"
     ]
    }
   ],
   "source": [
    "x=np.arange(31).reshape(3,10) #generated number 31 is not fitting in 3*10=30 size"
   ]
  },
  {
   "cell_type": "code",
   "execution_count": 56,
   "id": "748f98ee",
   "metadata": {},
   "outputs": [
    {
     "name": "stdout",
     "output_type": "stream",
     "text": [
      "random no with uniform distance \n",
      "\n"
     ]
    },
    {
     "data": {
      "text/plain": [
       "array([[0.89286015, 0.33197981, 0.82122912, 0.04169663],\n",
       "       [0.10765668, 0.59505206, 0.52981736, 0.41880743],\n",
       "       [0.33540785, 0.62251943, 0.43814143, 0.73588211],\n",
       "       [0.51803641, 0.5788586 , 0.6453551 , 0.99022427],\n",
       "       [0.8198582 , 0.41320093, 0.87626766, 0.82375943],\n",
       "       [0.05447451, 0.71863724, 0.80217056, 0.73640664],\n",
       "       [0.70913175, 0.54093685, 0.12482417, 0.9576473 ],\n",
       "       [0.4032563 , 0.21695116, 0.71727585, 0.99420744],\n",
       "       [0.25561406, 0.67130943, 0.59900591, 0.71733215],\n",
       "       [0.93734953, 0.35180977, 0.2536341 , 0.40247251]])"
      ]
     },
     "execution_count": 56,
     "metadata": {},
     "output_type": "execute_result"
    }
   ],
   "source": [
    "np.random.seed(6)\n",
    "print('random no with uniform distance/distribution \\n')\n",
    "np.random.rand(10,4)"
   ]
  },
  {
   "cell_type": "code",
   "execution_count": 59,
   "id": "26dbe63b",
   "metadata": {},
   "outputs": [
    {
     "name": "stdout",
     "output_type": "stream",
     "text": [
      "random no with uniform distance/distribution \n",
      "\n",
      "[[-0.31178367  0.72900392  0.21782079 -0.8990918 ]\n",
      " [-2.48678065  0.91325152  1.12706373 -1.51409323]\n",
      " [ 1.63929108 -0.4298936   2.63128056  0.60182225]\n",
      " [-0.33588161  1.23773784  0.11112817  0.12915125]\n",
      " [ 0.07612761 -0.15512816  0.63422534  0.810655  ]\n",
      " [ 0.35480861  1.81259031 -1.3564758  -0.46363197]\n",
      " [ 0.82465384 -1.17643148  1.56448966  0.71270509]\n",
      " [-0.1810066   0.53419953 -0.58661296 -1.48185327]\n",
      " [ 0.85724762  0.94309899  0.11444143 -0.02195668]\n",
      " [-2.12714455 -0.83440747 -0.46550831  0.23371059]]\n"
     ]
    }
   ],
   "source": [
    "np.random.seed(6)\n",
    "print('random no with normal distribution \\n')\n",
    "print(np.random.randn(10,4))"
   ]
  },
  {
   "cell_type": "code",
   "execution_count": 64,
   "id": "46bb3dbd",
   "metadata": {},
   "outputs": [
    {
     "name": "stdout",
     "output_type": "stream",
     "text": [
      "random no random integer vector \n",
      "\n",
      "[ 6 16 18 14 15  6 17 19  9  6]\n"
     ]
    }
   ],
   "source": [
    "print('random no random integer vector \\n')\n",
    "print(np.random.randint(5,20,10))                   # numbers bw 5 to 20 total 10 elements"
   ]
  },
  {
   "cell_type": "code",
   "execution_count": 66,
   "id": "e65f5377",
   "metadata": {},
   "outputs": [
    {
     "name": "stdout",
     "output_type": "stream",
     "text": [
      "random no random integer vector \n",
      "\n",
      "[[ 9  3 13 21 28  3  6]\n",
      " [27 16 26 23 19 12  6]\n",
      " [ 6 18  5  6 17  3  3]\n",
      " [20 22 29 29 12 26  6]\n",
      " [19 27 15 24  9  6  7]\n",
      " [11 27 11  4 22 12  2]]\n"
     ]
    }
   ],
   "source": [
    "print('random no random integer vector \\n')\n",
    "print(np.random.randint(1,30,(6,7)))                  # numbers bw 1 to 30 to create a matrix of 6 X 7"
   ]
  },
  {
   "cell_type": "code",
   "execution_count": 68,
   "id": "44d26d52",
   "metadata": {},
   "outputs": [
    {
     "data": {
      "text/plain": [
       "array([ 5, 34, 16,  6, 22,  7,  2, 10, 38, 14])"
      ]
     },
     "execution_count": 68,
     "metadata": {},
     "output_type": "execute_result"
    }
   ],
   "source": [
    "a=np.random.randint(1,40,10)\n",
    "a"
   ]
  },
  {
   "cell_type": "code",
   "execution_count": 69,
   "id": "9b226c61",
   "metadata": {},
   "outputs": [
    {
     "data": {
      "text/plain": [
       "array([10, 25, 16, 10, 22, 10, 10, 10, 25, 14])"
      ]
     },
     "execution_count": 69,
     "metadata": {},
     "output_type": "execute_result"
    }
   ],
   "source": [
    "np.clip(a,a_min=10,a_max=25)               #all element less than 10 will be made 10 and greater than 25 will be made 25"
   ]
  },
  {
   "cell_type": "code",
   "execution_count": 70,
   "id": "fc5d812f",
   "metadata": {},
   "outputs": [
    {
     "data": {
      "text/plain": [
       "array([ 5, 25, 16,  6, 22,  7,  5, 10, 25, 14])"
      ]
     },
     "execution_count": 70,
     "metadata": {},
     "output_type": "execute_result"
    }
   ],
   "source": [
    "np.clip(a,a_min=5,a_max=25)               #all element less than 5 will be made 5 and greater than 25 will be made 25"
   ]
  },
  {
   "cell_type": "code",
   "execution_count": 71,
   "id": "11d7abda",
   "metadata": {},
   "outputs": [
    {
     "name": "stdout",
     "output_type": "stream",
     "text": [
      "(array([0, 3, 5, 6], dtype=int64),)\n"
     ]
    }
   ],
   "source": [
    "print(np.where(a<10))     #shows the index no. of elements which are less than 10 "
   ]
  },
  {
   "cell_type": "code",
   "execution_count": 73,
   "id": "ce2aaab3",
   "metadata": {},
   "outputs": [
    {
     "name": "stdout",
     "output_type": "stream",
     "text": [
      "(array([1], dtype=int64),)\n"
     ]
    }
   ],
   "source": [
    "print(np.where(a==34))     #shows the index no. of elements which is equal to 34 , 34 is at 1 index in a arrary above "
   ]
  },
  {
   "cell_type": "code",
   "execution_count": 76,
   "id": "34268233",
   "metadata": {},
   "outputs": [
    {
     "name": "stdout",
     "output_type": "stream",
     "text": [
      "[61 79 75 59 21 83 71 29 51 70 35 92 29 77 56 47 93 79 86 64 45  2 18 92\n",
      "  8 86 51 89 96 41]\n"
     ]
    }
   ],
   "source": [
    "from numpy.random import randint as ri\n",
    "a=ri(1,99,30)\n",
    "print(a)"
   ]
  },
  {
   "cell_type": "code",
   "execution_count": 77,
   "id": "9178aad5",
   "metadata": {},
   "outputs": [
    {
     "name": "stdout",
     "output_type": "stream",
     "text": [
      "[[[61 79 75 59 21]\n",
      "  [83 71 29 51 70]\n",
      "  [35 92 29 77 56]]\n",
      "\n",
      " [[47 93 79 86 64]\n",
      "  [45  2 18 92  8]\n",
      "  [86 51 89 96 41]]]\n"
     ]
    }
   ],
   "source": [
    "b=a.reshape(2,3,5)   #2 matrix of 3X5 elements , it is reshaping\n",
    "print(b)"
   ]
  },
  {
   "cell_type": "code",
   "execution_count": 79,
   "id": "841fd9d6",
   "metadata": {},
   "outputs": [
    {
     "name": "stdout",
     "output_type": "stream",
     "text": [
      "2\n",
      "96\n"
     ]
    }
   ],
   "source": [
    "print(b.min())\n",
    "print(b.max())\n"
   ]
  },
  {
   "cell_type": "markdown",
   "id": "96ed70de",
   "metadata": {},
   "source": [
    "# Sorting"
   ]
  },
  {
   "cell_type": "code",
   "execution_count": 86,
   "id": "1bb40069",
   "metadata": {},
   "outputs": [
    {
     "name": "stdout",
     "output_type": "stream",
     "text": [
      "original matrix \n",
      " -------------------------------------------------- \n",
      " [[39 43 17 10 22]\n",
      " [30 64 96 59 25]\n",
      " [67 92 21 35 42]\n",
      " [63 37 64 64 49]\n",
      " [ 6 27 40 87 98]]\n",
      "sorted by row matrix \n",
      " -------------------------------------------------- \n",
      " [[10 17 22 39 43]\n",
      " [25 30 59 64 96]\n",
      " [21 35 42 67 92]\n",
      " [37 49 63 64 64]\n",
      " [ 6 27 40 87 98]]\n",
      "sorted by column, matrix \n",
      " -------------------------------------------------- \n",
      " [[ 6 27 17 10 22]\n",
      " [30 37 21 35 25]\n",
      " [39 43 40 59 42]\n",
      " [63 64 64 64 49]\n",
      " [67 92 96 87 98]]\n"
     ]
    }
   ],
   "source": [
    "m=ri(1,100,25).reshape(5,5)\n",
    "print('original matrix \\n','-'*50,'\\n',m)\n",
    "print('sorted by row matrix \\n','-'*50,'\\n',np.sort(m))\n",
    "print('sorted by column, matrix \\n','-'*50,'\\n',np.sort(m,axis=0))"
   ]
  },
  {
   "cell_type": "markdown",
   "id": "e77a41d6",
   "metadata": {},
   "source": [
    "# Indexing sort index"
   ]
  },
  {
   "cell_type": "code",
   "execution_count": 88,
   "id": "ab7d062d",
   "metadata": {},
   "outputs": [
    {
     "name": "stdout",
     "output_type": "stream",
     "text": [
      "array  [13 14 15 16 17 18 19 20 21 22 23 24 25 26 27 28 29]\n"
     ]
    }
   ],
   "source": [
    "arr=np.arange(13,30)\n",
    "print('array ',arr)"
   ]
  },
  {
   "cell_type": "code",
   "execution_count": 90,
   "id": "2fd9c21a",
   "metadata": {},
   "outputs": [
    {
     "name": "stdout",
     "output_type": "stream",
     "text": [
      "element at 7th index 20\n",
      "element 3rd to 5th [16 17 18]\n",
      "element from 4th index till end [17 18 19 20 21 22 23 24 25 26 27 28 29]\n",
      "element from 4th index till end [13 14 15 16]\n"
     ]
    }
   ],
   "source": [
    "print('element at 7th index',arr[7])\n",
    "print('element 3rd to 5th',arr[3:6])\n",
    "print('element from 4th index till end',arr[4:])\n",
    "print('element upto 3rd index from 0th element',arr[:4])"
   ]
  },
  {
   "cell_type": "code",
   "execution_count": 92,
   "id": "fd95a89b",
   "metadata": {},
   "outputs": [
    {
     "name": "stdout",
     "output_type": "stream",
     "text": [
      "array  [13 14 15 16 17 18 19 20 21 22 23 24 25 26 27 28 29]\n",
      "element in reverse step2 -1 means from las element to everything [29 27 25 23 21 19 17 15 13]\n"
     ]
    }
   ],
   "source": [
    "print('array ',arr)\n",
    "print('element in reverse step2 -1 means from las element to everything',arr[-1::-2])"
   ]
  },
  {
   "cell_type": "code",
   "execution_count": 94,
   "id": "114d5c04",
   "metadata": {},
   "outputs": [
    {
     "name": "stdout",
     "output_type": "stream",
     "text": [
      "element in reverse step -1 means from last element to 7th index from last [29 28 27 26 25 24 23]\n"
     ]
    }
   ],
   "source": [
    "print('element in reverse step -1 means from last element to 7th index from last',arr[-1:-8:-1])"
   ]
  },
  {
   "cell_type": "code",
   "execution_count": 95,
   "id": "bd66f3fa",
   "metadata": {},
   "outputs": [
    {
     "name": "stdout",
     "output_type": "stream",
     "text": [
      "new arrar [ 0  2  4  6  8 10 12 14 16 18 20]\n"
     ]
    }
   ],
   "source": [
    "arr=np.arange(0,21,2)\n",
    "print('new arrar',arr)"
   ]
  },
  {
   "cell_type": "code",
   "execution_count": 96,
   "id": "6696416d",
   "metadata": {},
   "outputs": [
    {
     "name": "stdout",
     "output_type": "stream",
     "text": [
      "element 2, 4 and 9 index [ 4  8 18]\n"
     ]
    }
   ],
   "source": [
    "print('element 2, 4 and 9 index',arr[[2,4,9]])"
   ]
  },
  {
   "cell_type": "code",
   "execution_count": 98,
   "id": "3eb87669",
   "metadata": {},
   "outputs": [
    {
     "data": {
      "text/plain": [
       "array([[1, 2, 3],\n",
       "       [4, 5, 6],\n",
       "       [7, 8, 9]])"
      ]
     },
     "execution_count": 98,
     "metadata": {},
     "output_type": "execute_result"
    }
   ],
   "source": [
    "my_mat=[[1,2,3],[4,5,6],[7,8,9]]\n",
    "mat=np.array(my_mat)\n",
    "mat"
   ]
  },
  {
   "cell_type": "code",
   "execution_count": 99,
   "id": "81168f30",
   "metadata": {},
   "outputs": [
    {
     "name": "stdout",
     "output_type": "stream",
     "text": [
      "1 row and column 2 index data 6\n"
     ]
    }
   ],
   "source": [
    "print('1 row and column 2 index data',mat[1][2])"
   ]
  },
  {
   "cell_type": "code",
   "execution_count": 101,
   "id": "22c17895",
   "metadata": {},
   "outputs": [
    {
     "name": "stdout",
     "output_type": "stream",
     "text": [
      "2 index row [7 8 9]\n"
     ]
    }
   ],
   "source": [
    "print('2 index row',mat[2])"
   ]
  },
  {
   "cell_type": "code",
   "execution_count": 107,
   "id": "71e8bdc1",
   "metadata": {},
   "outputs": [
    {
     "name": "stdout",
     "output_type": "stream",
     "text": [
      "all rows and column 1 to all [[2 3]\n",
      " [5 6]\n",
      " [8 9]]\n"
     ]
    }
   ],
   "source": [
    "print('all rows and column 1 to all',mat[:,1:])"
   ]
  },
  {
   "cell_type": "code",
   "execution_count": 108,
   "id": "48edb3e6",
   "metadata": {},
   "outputs": [
    {
     "name": "stdout",
     "output_type": "stream",
     "text": [
      "row 1 and column 1 [[5]]\n"
     ]
    }
   ],
   "source": [
    "print('row 1 and column 1',mat[1:2,1:2])"
   ]
  },
  {
   "cell_type": "code",
   "execution_count": 109,
   "id": "baed698d",
   "metadata": {},
   "outputs": [
    {
     "name": "stdout",
     "output_type": "stream",
     "text": [
      "all row but column only 1 and 2\n",
      " [[2 3]\n",
      " [5 6]]\n"
     ]
    }
   ],
   "source": [
    "print('all row but column only 1 and 2\\n',mat[0:2,[1,2]])"
   ]
  },
  {
   "cell_type": "code",
   "execution_count": 112,
   "id": "9d87b9e6",
   "metadata": {},
   "outputs": [
    {
     "name": "stdout",
     "output_type": "stream",
     "text": [
      "[[  1 500   3]\n",
      " [  4   5   6]\n",
      " [  7   8   9]]\n",
      "\n",
      " [[  1 200   3]\n",
      " [  4   5   6]\n",
      " [  7   8   9]]\n"
     ]
    }
   ],
   "source": [
    "print(mat)\n",
    "mat[0,1]=200\n",
    "print('\\n',mat)"
   ]
  },
  {
   "cell_type": "code",
   "execution_count": null,
   "id": "afff615e",
   "metadata": {},
   "outputs": [],
   "source": []
  }
 ],
 "metadata": {
  "kernelspec": {
   "display_name": "Python 3 (ipykernel)",
   "language": "python",
   "name": "python3"
  },
  "language_info": {
   "codemirror_mode": {
    "name": "ipython",
    "version": 3
   },
   "file_extension": ".py",
   "mimetype": "text/x-python",
   "name": "python",
   "nbconvert_exporter": "python",
   "pygments_lexer": "ipython3",
   "version": "3.9.7"
  }
 },
 "nbformat": 4,
 "nbformat_minor": 5
}
