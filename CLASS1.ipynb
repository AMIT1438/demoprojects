{
 "cells": [
  {
   "cell_type": "code",
   "execution_count": 1,
   "id": "e1c67099",
   "metadata": {},
   "outputs": [
    {
     "data": {
      "text/plain": [
       "5.0"
      ]
     },
     "execution_count": 1,
     "metadata": {},
     "output_type": "execute_result"
    }
   ],
   "source": [
    "10/2\n"
   ]
  },
  {
   "cell_type": "markdown",
   "id": "fac3564f",
   "metadata": {},
   "source": [
    "# Modulo Operator"
   ]
  },
  {
   "cell_type": "code",
   "execution_count": 3,
   "id": "655d7173",
   "metadata": {},
   "outputs": [
    {
     "data": {
      "text/plain": [
       "343"
      ]
     },
     "execution_count": 3,
     "metadata": {},
     "output_type": "execute_result"
    }
   ],
   "source": [
    "7**3"
   ]
  },
  {
   "cell_type": "code",
   "execution_count": 4,
   "id": "a82b0ce8",
   "metadata": {},
   "outputs": [
    {
     "data": {
      "text/plain": [
       "27"
      ]
     },
     "execution_count": 4,
     "metadata": {},
     "output_type": "execute_result"
    }
   ],
   "source": [
    "3**3"
   ]
  },
  {
   "cell_type": "code",
   "execution_count": 6,
   "id": "fdb28100",
   "metadata": {},
   "outputs": [],
   "source": [
    "a=10 "
   ]
  },
  {
   "cell_type": "code",
   "execution_count": 7,
   "id": "73a5b09a",
   "metadata": {},
   "outputs": [],
   "source": [
    "b=6"
   ]
  },
  {
   "cell_type": "code",
   "execution_count": 8,
   "id": "b79aa786",
   "metadata": {},
   "outputs": [
    {
     "data": {
      "text/plain": [
       "16"
      ]
     },
     "execution_count": 8,
     "metadata": {},
     "output_type": "execute_result"
    }
   ],
   "source": [
    "a+b"
   ]
  },
  {
   "cell_type": "code",
   "execution_count": 9,
   "id": "d50999bd",
   "metadata": {},
   "outputs": [],
   "source": [
    "a=12\n",
    "b=8"
   ]
  },
  {
   "cell_type": "code",
   "execution_count": 18,
   "id": "8dca2fbb",
   "metadata": {},
   "outputs": [
    {
     "name": "stdout",
     "output_type": "stream",
     "text": [
      "20   4\n"
     ]
    }
   ],
   "source": [
    "c=a+b\n",
    "d=a-b\n",
    "print(c,' ',d)"
   ]
  },
  {
   "cell_type": "code",
   "execution_count": 16,
   "id": "b7d848cf",
   "metadata": {},
   "outputs": [
    {
     "name": "stdout",
     "output_type": "stream",
     "text": [
      "Sum = 20\n"
     ]
    }
   ],
   "source": [
    "print(\"Sum =\", c)"
   ]
  },
  {
   "cell_type": "code",
   "execution_count": 19,
   "id": "08b55334",
   "metadata": {},
   "outputs": [
    {
     "name": "stdout",
     "output_type": "stream",
     "text": [
      "Difference = 4\n"
     ]
    }
   ],
   "source": [
    "print('Difference =',d)"
   ]
  },
  {
   "cell_type": "code",
   "execution_count": 23,
   "id": "2e073c40",
   "metadata": {},
   "outputs": [
    {
     "data": {
      "text/plain": [
       "4"
      ]
     },
     "execution_count": 23,
     "metadata": {},
     "output_type": "execute_result"
    }
   ],
   "source": [
    "#jupyter notebook password\n",
    "d"
   ]
  },
  {
   "cell_type": "code",
   "execution_count": 31,
   "id": "36bccbaf",
   "metadata": {},
   "outputs": [
    {
     "data": {
      "text/plain": [
       "5"
      ]
     },
     "execution_count": 31,
     "metadata": {},
     "output_type": "execute_result"
    }
   ],
   "source": [
    "city='dehli'\n",
    "l=len(city)\n",
    "city\n",
    "l"
   ]
  },
  {
   "cell_type": "code",
   "execution_count": 29,
   "id": "5b595a92",
   "metadata": {},
   "outputs": [
    {
     "data": {
      "text/plain": [
       "5"
      ]
     },
     "execution_count": 29,
     "metadata": {},
     "output_type": "execute_result"
    }
   ],
   "source": [
    "city\n",
    "l"
   ]
  },
  {
   "cell_type": "code",
   "execution_count": 30,
   "id": "c34c3f58",
   "metadata": {},
   "outputs": [
    {
     "data": {
      "text/plain": [
       "4"
      ]
     },
     "execution_count": 30,
     "metadata": {},
     "output_type": "execute_result"
    }
   ],
   "source": [
    "len('amit')"
   ]
  },
  {
   "cell_type": "code",
   "execution_count": 32,
   "id": "4962ab00",
   "metadata": {},
   "outputs": [
    {
     "data": {
      "text/plain": [
       "'99'"
      ]
     },
     "execution_count": 32,
     "metadata": {},
     "output_type": "execute_result"
    }
   ],
   "source": [
    "\"9\"+\"9\"\n",
    "'9'+'9'"
   ]
  },
  {
   "cell_type": "code",
   "execution_count": 35,
   "id": "b5416839",
   "metadata": {},
   "outputs": [
    {
     "data": {
      "text/plain": [
       "'AMIT puri '"
      ]
     },
     "execution_count": 35,
     "metadata": {},
     "output_type": "execute_result"
    }
   ],
   "source": [
    "fn='AMIT '\n",
    "ln='puri '\n",
    "fn+ln"
   ]
  },
  {
   "cell_type": "code",
   "execution_count": 38,
   "id": "10fac76f",
   "metadata": {},
   "outputs": [
    {
     "name": "stdout",
     "output_type": "stream",
     "text": [
      "20\n"
     ]
    },
    {
     "data": {
      "text/plain": [
       "4"
      ]
     },
     "execution_count": 38,
     "metadata": {},
     "output_type": "execute_result"
    }
   ],
   "source": [
    "print(a+b)\n",
    "a-b"
   ]
  },
  {
   "cell_type": "code",
   "execution_count": 40,
   "id": "9b9020d3",
   "metadata": {},
   "outputs": [
    {
     "name": "stdout",
     "output_type": "stream",
     "text": [
      "12 8\n",
      "12 8\n"
     ]
    }
   ],
   "source": [
    "print(a,b)\n",
    "print(a,b)"
   ]
  },
  {
   "cell_type": "markdown",
   "id": "55807ab9",
   "metadata": {},
   "source": [
    "Area of Rectanble in Simple way"
   ]
  },
  {
   "cell_type": "code",
   "execution_count": 44,
   "id": "4379e1d3",
   "metadata": {},
   "outputs": [
    {
     "name": "stdout",
     "output_type": "stream",
     "text": [
      "Area of Rectanble =  24\n",
      "Area of Rectanble with length =  6  and breath =  4 is =  24\n"
     ]
    }
   ],
   "source": [
    "l=6\n",
    "b=4\n",
    "print(\"Area of Rectanble = \", l*b)\n",
    "print(\"Area of Rectanble with length = \",l,\" and breath = \", b, \"is = \", l*b)"
   ]
  },
  {
   "cell_type": "code",
   "execution_count": 46,
   "id": "2f2ff1da",
   "metadata": {},
   "outputs": [
    {
     "data": {
      "text/plain": [
       "False"
      ]
     },
     "execution_count": 46,
     "metadata": {},
     "output_type": "execute_result"
    }
   ],
   "source": [
    "67>8\n",
    "6>89"
   ]
  },
  {
   "cell_type": "code",
   "execution_count": 47,
   "id": "23e7b828",
   "metadata": {},
   "outputs": [
    {
     "data": {
      "text/plain": [
       "True"
      ]
     },
     "execution_count": 47,
     "metadata": {},
     "output_type": "execute_result"
    }
   ],
   "source": [
    "70==70"
   ]
  },
  {
   "cell_type": "code",
   "execution_count": 48,
   "id": "cc516fe4",
   "metadata": {},
   "outputs": [
    {
     "data": {
      "text/plain": [
       "False"
      ]
     },
     "execution_count": 48,
     "metadata": {},
     "output_type": "execute_result"
    }
   ],
   "source": [
    "70!=70"
   ]
  },
  {
   "cell_type": "code",
   "execution_count": 49,
   "id": "bd0714cf",
   "metadata": {},
   "outputs": [
    {
     "data": {
      "text/plain": [
       "False"
      ]
     },
     "execution_count": 49,
     "metadata": {},
     "output_type": "execute_result"
    }
   ],
   "source": [
    "t=5\n",
    "p=10\n",
    "t>p"
   ]
  },
  {
   "cell_type": "code",
   "execution_count": 50,
   "id": "a4f62580",
   "metadata": {},
   "outputs": [
    {
     "data": {
      "text/plain": [
       "True"
      ]
     },
     "execution_count": 50,
     "metadata": {},
     "output_type": "execute_result"
    }
   ],
   "source": [
    "p>t"
   ]
  },
  {
   "cell_type": "code",
   "execution_count": 51,
   "id": "3eeb6b61",
   "metadata": {},
   "outputs": [
    {
     "data": {
      "text/plain": [
       "True"
      ]
     },
     "execution_count": 51,
     "metadata": {},
     "output_type": "execute_result"
    }
   ],
   "source": [
    "p!=t"
   ]
  },
  {
   "cell_type": "code",
   "execution_count": 54,
   "id": "48cb760c",
   "metadata": {},
   "outputs": [
    {
     "name": "stdout",
     "output_type": "stream",
     "text": [
      "Enter the name of countryyuuy\n"
     ]
    },
    {
     "data": {
      "text/plain": [
       "'yuuy'"
      ]
     },
     "execution_count": 54,
     "metadata": {},
     "output_type": "execute_result"
    }
   ],
   "source": [
    "countryname=input(\"Enter the name of country\")\n",
    "countryname"
   ]
  },
  {
   "cell_type": "code",
   "execution_count": null,
   "id": "01567d74",
   "metadata": {},
   "outputs": [],
   "source": []
  },
  {
   "cell_type": "code",
   "execution_count": null,
   "id": "f1f23572",
   "metadata": {},
   "outputs": [],
   "source": []
  }
 ],
 "metadata": {
  "kernelspec": {
   "display_name": "Python 3 (ipykernel)",
   "language": "python",
   "name": "python3"
  },
  "language_info": {
   "codemirror_mode": {
    "name": "ipython",
    "version": 3
   },
   "file_extension": ".py",
   "mimetype": "text/x-python",
   "name": "python",
   "nbconvert_exporter": "python",
   "pygments_lexer": "ipython3",
   "version": "3.9.7"
  }
 },
 "nbformat": 4,
 "nbformat_minor": 5
}
