{
 "cells": [
  {
   "cell_type": "code",
   "execution_count": 2,
   "id": "eb7005ac",
   "metadata": {},
   "outputs": [
    {
     "data": {
      "text/plain": [
       "False"
      ]
     },
     "execution_count": 2,
     "metadata": {},
     "output_type": "execute_result"
    }
   ],
   "source": [
    "True and False\n"
   ]
  },
  {
   "cell_type": "code",
   "execution_count": 2,
   "id": "d382564d",
   "metadata": {},
   "outputs": [],
   "source": [
    "x=10"
   ]
  },
  {
   "cell_type": "code",
   "execution_count": 3,
   "id": "7fd1b6e7",
   "metadata": {},
   "outputs": [
    {
     "data": {
      "text/plain": [
       "10"
      ]
     },
     "execution_count": 3,
     "metadata": {},
     "output_type": "execute_result"
    }
   ],
   "source": [
    "x"
   ]
  },
  {
   "cell_type": "code",
   "execution_count": 12,
   "id": "ade59336",
   "metadata": {},
   "outputs": [],
   "source": [
    "import sqlite3\n",
    "db=sqlite3.connect(\"mydb1\", timeout=10)\n",
    "db.execute(\"drop table if exists grade1\")\n",
    "db.execute(\"create table grade1(id int,name text,score int)\")\n",
    "db.execute(\"insert into grade1(id,name,score) values(1,'Ram',100)\")\n",
    "db.execute(\"insert into grade1(id,name,score) values(2,'Mohan',105)\")\n",
    "db.execute(\"insert into grade1(id,name,score) values(3,'Sohan',110)\")\n",
    "db.execute(\"insert into grade1(id,name,score) values(4,'Kapil',115)\")\n",
    "db.execute(\"insert into grade1(id,name,score) values(5,'Ravi',120)\")\n",
    "db.execute(\"insert into grade1(id,name,score) values(6,'Rajesh',125)\")\n",
    "db.execute(\"insert into grade1(id,name,score) values(7,'Sona',130)\")\n",
    "db.execute(\"insert into grade1(id,name,score) values(8,'Mona',135)\")\n",
    "db.commit()"
   ]
  },
  {
   "cell_type": "code",
   "execution_count": 14,
   "id": "93221d4a",
   "metadata": {},
   "outputs": [
    {
     "name": "stdout",
     "output_type": "stream",
     "text": [
      "(1, 'Ram', 100)\n",
      "(2, 'Mohan', 105)\n",
      "(3, 'Sohan', 110)\n",
      "(4, 'Kapil', 115)\n",
      "(5, 'Ravi', 120)\n",
      "(6, 'Rajesh', 125)\n",
      "(7, 'Sona', 130)\n",
      "(8, 'Mona', 135)\n",
      "------------------------------\n"
     ]
    }
   ],
   "source": [
    "res=db.execute('select * from grade1 order by id')\n",
    "for row in res:\n",
    "    print(row)\n",
    "print('-'*30)"
   ]
  },
  {
   "cell_type": "code",
   "execution_count": 15,
   "id": "fddaf740",
   "metadata": {},
   "outputs": [
    {
     "name": "stdout",
     "output_type": "stream",
     "text": [
      "(1, 'Ram', 100)\n",
      "(2, 'Mohan', 105)\n",
      "(3, 'Sohan', 110)\n",
      "(4, 'Kapil', 115)\n",
      "------------------------------\n"
     ]
    }
   ],
   "source": [
    "res=db.execute('select * from grade1 where score<120 order by id')\n",
    "for row in res:\n",
    "    print(row)\n",
    "print('-'*30)"
   ]
  },
  {
   "cell_type": "code",
   "execution_count": 16,
   "id": "9aff06fd",
   "metadata": {},
   "outputs": [
    {
     "name": "stdout",
     "output_type": "stream",
     "text": [
      "(4, 'Kapil', 115)\n",
      "(3, 'Sohan', 110)\n",
      "(2, 'Mohan', 105)\n",
      "(1, 'Ram', 100)\n",
      "------------------------------\n"
     ]
    }
   ],
   "source": [
    "res=db.execute('select * from grade1 where score<120 order by id desc')\n",
    "for row in res:\n",
    "    print(row)\n",
    "print('-'*30)"
   ]
  },
  {
   "cell_type": "code",
   "execution_count": null,
   "id": "b2ad144e",
   "metadata": {},
   "outputs": [],
   "source": []
  }
 ],
 "metadata": {
  "kernelspec": {
   "display_name": "Python 3 (ipykernel)",
   "language": "python",
   "name": "python3"
  },
  "language_info": {
   "codemirror_mode": {
    "name": "ipython",
    "version": 3
   },
   "file_extension": ".py",
   "mimetype": "text/x-python",
   "name": "python",
   "nbconvert_exporter": "python",
   "pygments_lexer": "ipython3",
   "version": "3.9.7"
  }
 },
 "nbformat": 4,
 "nbformat_minor": 5
}
