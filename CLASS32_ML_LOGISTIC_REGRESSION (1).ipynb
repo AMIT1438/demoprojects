{
 "cells": [
  {
   "cell_type": "code",
   "execution_count": 1,
   "id": "573d9456",
   "metadata": {},
   "outputs": [],
   "source": [
    "import sklearn\n",
    "import numpy as np\n",
    "import pandas as pd\n",
    "import seaborn as sns\n",
    "import matplotlib.pyplot as plt\n",
    "from sklearn.linear_model import LogisticRegression\n",
    "from sklearn.model_selection import train_test_split\n",
    "from sklearn.metrics import confusion_matrix,accuracy_score,classification_report  #error checking system\n",
    "import warnings\n",
    "warnings.filterwarnings('ignore')"
   ]
  },
  {
   "cell_type": "code",
   "execution_count": null,
   "id": "30e36929",
   "metadata": {},
   "outputs": [],
   "source": [
    "from sklearn.datasets import load_breast_cancer"
   ]
  },
  {
   "cell_type": "code",
   "execution_count": null,
   "id": "9fe6caa9",
   "metadata": {},
   "outputs": [],
   "source": [
    "cancerset=load_breast_cancer()"
   ]
  },
  {
   "cell_type": "code",
   "execution_count": null,
   "id": "728bfd44",
   "metadata": {},
   "outputs": [],
   "source": [
    "cancerset"
   ]
  },
  {
   "cell_type": "code",
   "execution_count": null,
   "id": "79bf32ff",
   "metadata": {},
   "outputs": [],
   "source": [
    "cancerset.keys()"
   ]
  },
  {
   "cell_type": "code",
   "execution_count": null,
   "id": "c973cafb",
   "metadata": {},
   "outputs": [],
   "source": [
    "cancerset.data"
   ]
  },
  {
   "cell_type": "code",
   "execution_count": null,
   "id": "c5cd72dd",
   "metadata": {},
   "outputs": [],
   "source": [
    "cancerset.target"
   ]
  },
  {
   "cell_type": "code",
   "execution_count": null,
   "id": "88f0a3de",
   "metadata": {},
   "outputs": [],
   "source": [
    "cancerset.feature_names"
   ]
  },
  {
   "cell_type": "code",
   "execution_count": null,
   "id": "65035238",
   "metadata": {},
   "outputs": [],
   "source": [
    "cancerset.DESCR"
   ]
  },
  {
   "cell_type": "code",
   "execution_count": null,
   "id": "2f7ca895",
   "metadata": {},
   "outputs": [],
   "source": [
    "df=pd.DataFrame(data=cancerset.data)"
   ]
  },
  {
   "cell_type": "code",
   "execution_count": null,
   "id": "b1f4f752",
   "metadata": {},
   "outputs": [],
   "source": [
    "df"
   ]
  },
  {
   "cell_type": "code",
   "execution_count": null,
   "id": "93edf7a8",
   "metadata": {},
   "outputs": [],
   "source": [
    "df=pd.DataFrame(data=cancerset.data,columns=cancerset.feature_names)"
   ]
  },
  {
   "cell_type": "code",
   "execution_count": null,
   "id": "76319e85",
   "metadata": {},
   "outputs": [],
   "source": [
    "df"
   ]
  },
  {
   "cell_type": "code",
   "execution_count": null,
   "id": "7eac6944",
   "metadata": {},
   "outputs": [],
   "source": [
    "df['target']=pd.DataFrame(data=cancerset.target)"
   ]
  },
  {
   "cell_type": "code",
   "execution_count": null,
   "id": "98aa29d8",
   "metadata": {},
   "outputs": [],
   "source": [
    "df"
   ]
  },
  {
   "cell_type": "code",
   "execution_count": null,
   "id": "eee78e4f",
   "metadata": {},
   "outputs": [],
   "source": [
    "df.shape"
   ]
  },
  {
   "cell_type": "code",
   "execution_count": null,
   "id": "b52911f5",
   "metadata": {},
   "outputs": [],
   "source": [
    "df.info()"
   ]
  },
  {
   "cell_type": "code",
   "execution_count": null,
   "id": "a3b96b91",
   "metadata": {},
   "outputs": [],
   "source": [
    "df.isnull().sum()"
   ]
  },
  {
   "cell_type": "code",
   "execution_count": null,
   "id": "bbd224ee",
   "metadata": {},
   "outputs": [],
   "source": [
    "df.head()"
   ]
  },
  {
   "cell_type": "code",
   "execution_count": null,
   "id": "3b831d80",
   "metadata": {},
   "outputs": [],
   "source": [
    "df.head(10)"
   ]
  },
  {
   "cell_type": "code",
   "execution_count": null,
   "id": "201c37bf",
   "metadata": {},
   "outputs": [],
   "source": [
    "df.tail()"
   ]
  },
  {
   "cell_type": "code",
   "execution_count": null,
   "id": "471e1d56",
   "metadata": {},
   "outputs": [],
   "source": [
    "df.tail(9)"
   ]
  },
  {
   "cell_type": "code",
   "execution_count": null,
   "id": "d9d07224",
   "metadata": {},
   "outputs": [],
   "source": [
    "df.sample"
   ]
  },
  {
   "cell_type": "code",
   "execution_count": null,
   "id": "5e1fb018",
   "metadata": {},
   "outputs": [],
   "source": [
    "df.sample(5)"
   ]
  },
  {
   "cell_type": "code",
   "execution_count": null,
   "id": "d4afd669",
   "metadata": {},
   "outputs": [],
   "source": [
    "df.describe()"
   ]
  },
  {
   "cell_type": "code",
   "execution_count": null,
   "id": "75b9d2ff",
   "metadata": {},
   "outputs": [],
   "source": [
    "df.corr()"
   ]
  },
  {
   "cell_type": "code",
   "execution_count": null,
   "id": "5c8c55b1",
   "metadata": {},
   "outputs": [],
   "source": [
    "plt.figure(figsize=(15,10))\n",
    "sns.heatmap(df.corr())\n",
    "plt.show()"
   ]
  },
  {
   "cell_type": "code",
   "execution_count": null,
   "id": "06691e85",
   "metadata": {},
   "outputs": [],
   "source": [
    "plt.figure(figsize=(15,10))\n",
    "sns.heatmap(df.corr(),annot=True)\n",
    "plt.show()"
   ]
  },
  {
   "cell_type": "code",
   "execution_count": null,
   "id": "802419cf",
   "metadata": {},
   "outputs": [],
   "source": [
    "sns.countplot(df['target'])"
   ]
  },
  {
   "cell_type": "code",
   "execution_count": null,
   "id": "688d8ee7",
   "metadata": {},
   "outputs": [],
   "source": [
    "#sns.pairplot(df,hue='target')"
   ]
  },
  {
   "cell_type": "code",
   "execution_count": null,
   "id": "716b2bf1",
   "metadata": {},
   "outputs": [],
   "source": [
    "#x=df.iloc[:,0:-1]\n",
    "x=df.drop(['target'],axis=1)"
   ]
  },
  {
   "cell_type": "code",
   "execution_count": null,
   "id": "f59bd261",
   "metadata": {},
   "outputs": [],
   "source": [
    "#y=df.iloc[:,-1]\n",
    "y=df['target']"
   ]
  },
  {
   "cell_type": "code",
   "execution_count": null,
   "id": "d17a73b1",
   "metadata": {},
   "outputs": [],
   "source": [
    "y"
   ]
  },
  {
   "cell_type": "code",
   "execution_count": null,
   "id": "fc58b32e",
   "metadata": {},
   "outputs": [],
   "source": [
    "x.shape"
   ]
  },
  {
   "cell_type": "code",
   "execution_count": null,
   "id": "507e9872",
   "metadata": {},
   "outputs": [],
   "source": [
    "y.shape"
   ]
  },
  {
   "cell_type": "code",
   "execution_count": null,
   "id": "480ff958",
   "metadata": {},
   "outputs": [],
   "source": [
    "x_train,x_test,y_train,y_test=train_test_split(x,y,test_size=.20,random_state=45)"
   ]
  },
  {
   "cell_type": "code",
   "execution_count": null,
   "id": "0bb7e496",
   "metadata": {},
   "outputs": [],
   "source": [
    "x_train"
   ]
  },
  {
   "cell_type": "code",
   "execution_count": null,
   "id": "4164120c",
   "metadata": {},
   "outputs": [],
   "source": [
    "x_train.shape"
   ]
  },
  {
   "cell_type": "code",
   "execution_count": null,
   "id": "24f8de62",
   "metadata": {},
   "outputs": [],
   "source": [
    "y_test"
   ]
  },
  {
   "cell_type": "code",
   "execution_count": null,
   "id": "29f9e194",
   "metadata": {},
   "outputs": [],
   "source": [
    "y_test.shape"
   ]
  },
  {
   "cell_type": "code",
   "execution_count": null,
   "id": "e20a9efc",
   "metadata": {},
   "outputs": [],
   "source": [
    "lg=LogisticRegression()"
   ]
  },
  {
   "cell_type": "code",
   "execution_count": null,
   "id": "4d8fd670",
   "metadata": {},
   "outputs": [],
   "source": [
    "lg.fit(x_train,y_train)"
   ]
  },
  {
   "cell_type": "code",
   "execution_count": null,
   "id": "8ae4e7e1",
   "metadata": {},
   "outputs": [],
   "source": [
    "pred=lg.predict(x_test)"
   ]
  },
  {
   "cell_type": "code",
   "execution_count": null,
   "id": "69043cce",
   "metadata": {},
   "outputs": [],
   "source": [
    "print(pred)"
   ]
  },
  {
   "cell_type": "code",
   "execution_count": null,
   "id": "803f364d",
   "metadata": {},
   "outputs": [],
   "source": [
    "print('accuracy score =',accuracy_score(y_test,pred)) #confusion_matrix,accuracy_score,classification_report"
   ]
  },
  {
   "cell_type": "code",
   "execution_count": null,
   "id": "66ba7daa",
   "metadata": {},
   "outputs": [],
   "source": [
    "#print('accuracy score =',accuracy_score(y_test,pred))\n",
    "print(confusion_matrix(y_test,pred))"
   ]
  },
  {
   "cell_type": "code",
   "execution_count": null,
   "id": "e25608f5",
   "metadata": {},
   "outputs": [],
   "source": [
    "#print('accuracy score =',accuracy_score(y_test,pred))\n",
    "#print(confusion_matrix(y_test,pred))\n",
    "print('classification_report =',classification_report(y_test,pred))"
   ]
  },
  {
   "cell_type": "code",
   "execution_count": null,
   "id": "7cc5ed02",
   "metadata": {},
   "outputs": [],
   "source": [
    "p=confusion_matrix(y_test,pred)\n",
    "sns.heatmap(p,annot=True)"
   ]
  },
  {
   "cell_type": "code",
   "execution_count": null,
   "id": "dd5a9f15",
   "metadata": {},
   "outputs": [],
   "source": [
    "data=pd.read_csv('sonar.csv',names=range(0,61),header=0)"
   ]
  },
  {
   "cell_type": "code",
   "execution_count": null,
   "id": "884dba99",
   "metadata": {},
   "outputs": [],
   "source": [
    "data"
   ]
  },
  {
   "cell_type": "code",
   "execution_count": null,
   "id": "bf7e0007",
   "metadata": {},
   "outputs": [],
   "source": [
    "data=pd.DataFrame(data=data)"
   ]
  },
  {
   "cell_type": "code",
   "execution_count": null,
   "id": "9366ffa8",
   "metadata": {},
   "outputs": [],
   "source": [
    "data"
   ]
  },
  {
   "cell_type": "code",
   "execution_count": null,
   "id": "9aebcf73",
   "metadata": {},
   "outputs": [],
   "source": [
    "x=df.iloc[:,0:-1]\n",
    "y=df.iloc[:,-1]"
   ]
  },
  {
   "cell_type": "code",
   "execution_count": null,
   "id": "8ad8ed7d",
   "metadata": {},
   "outputs": [],
   "source": [
    "x_train,x_test,y_train,y_test=train_test_split(x,y,test_size=.33,random_state=42)"
   ]
  },
  {
   "cell_type": "code",
   "execution_count": null,
   "id": "8cd93d4c",
   "metadata": {},
   "outputs": [],
   "source": [
    "x_train.shape"
   ]
  },
  {
   "cell_type": "code",
   "execution_count": null,
   "id": "855073e7",
   "metadata": {},
   "outputs": [],
   "source": [
    "y_test.shape"
   ]
  },
  {
   "cell_type": "code",
   "execution_count": null,
   "id": "014e37b6",
   "metadata": {},
   "outputs": [],
   "source": [
    "lg=LogisticRegression()\n",
    "lg.fit(x_train,y_train)\n",
    "pred=lg.predict(x_test)"
   ]
  },
  {
   "cell_type": "code",
   "execution_count": null,
   "id": "cf03f985",
   "metadata": {},
   "outputs": [],
   "source": [
    "print('accuracy score =',accuracy_score(y_test,pred))\n"
   ]
  },
  {
   "cell_type": "code",
   "execution_count": null,
   "id": "6cbc737e",
   "metadata": {},
   "outputs": [],
   "source": [
    "print(confusion_matrix(y_test,pred))\n"
   ]
  },
  {
   "cell_type": "code",
   "execution_count": null,
   "id": "0e16588c",
   "metadata": {},
   "outputs": [],
   "source": [
    "print('classification_report =',classification_report(y_test,pred))"
   ]
  },
  {
   "cell_type": "code",
   "execution_count": null,
   "id": "020e1fc6",
   "metadata": {},
   "outputs": [],
   "source": [
    "p=confusion_matrix(y_test,pred)\n",
    "sns.heatmap(p,annot=True)"
   ]
  },
  {
   "cell_type": "code",
   "execution_count": null,
   "id": "6db3cb6c",
   "metadata": {},
   "outputs": [],
   "source": []
  }
 ],
 "metadata": {
  "kernelspec": {
   "display_name": "Python 3 (ipykernel)",
   "language": "python",
   "name": "python3"
  },
  "language_info": {
   "codemirror_mode": {
    "name": "ipython",
    "version": 3
   },
   "file_extension": ".py",
   "mimetype": "text/x-python",
   "name": "python",
   "nbconvert_exporter": "python",
   "pygments_lexer": "ipython3",
   "version": "3.9.7"
  }
 },
 "nbformat": 4,
 "nbformat_minor": 5
}
