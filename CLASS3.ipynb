{
 "cells": [
  {
   "cell_type": "markdown",
   "id": "df8d6c88",
   "metadata": {},
   "source": [
    "Data Structure : Live Class 3"
   ]
  },
  {
   "cell_type": "code",
   "execution_count": 3,
   "id": "96dad89c",
   "metadata": {},
   "outputs": [
    {
     "data": {
      "text/plain": [
       "4"
      ]
     },
     "execution_count": 3,
     "metadata": {},
     "output_type": "execute_result"
    }
   ],
   "source": [
    "list1=[1,2,3,4,5]\n",
    "list1\n",
    "list1[3]"
   ]
  },
  {
   "cell_type": "code",
   "execution_count": 10,
   "id": "31898ed4",
   "metadata": {},
   "outputs": [
    {
     "data": {
      "text/plain": [
       "3"
      ]
     },
     "execution_count": 10,
     "metadata": {},
     "output_type": "execute_result"
    }
   ],
   "source": [
    "list1[2]"
   ]
  },
  {
   "cell_type": "code",
   "execution_count": null,
   "id": "60fee1c0",
   "metadata": {},
   "outputs": [],
   "source": []
  },
  {
   "cell_type": "code",
   "execution_count": null,
   "id": "e3ba4389",
   "metadata": {},
   "outputs": [],
   "source": []
  },
  {
   "cell_type": "code",
   "execution_count": 4,
   "id": "0ba83bdc",
   "metadata": {},
   "outputs": [],
   "source": [
    "list2=[23,45,67,89,53]"
   ]
  },
  {
   "cell_type": "code",
   "execution_count": 6,
   "id": "00c87bfb",
   "metadata": {},
   "outputs": [
    {
     "data": {
      "text/plain": [
       "'Mouse'"
      ]
     },
     "execution_count": 6,
     "metadata": {},
     "output_type": "execute_result"
    }
   ],
   "source": [
    "list3=['Computer','Laptop','Mouse']\n",
    "list3\n",
    "list3[2]"
   ]
  },
  {
   "cell_type": "code",
   "execution_count": 11,
   "id": "926c9f14",
   "metadata": {},
   "outputs": [
    {
     "name": "stdout",
     "output_type": "stream",
     "text": [
      "230\n",
      "450\n",
      "670\n",
      "890\n",
      "530\n"
     ]
    }
   ],
   "source": [
    "list2=[23,45,67,89,53]\n",
    "for num in list2:\n",
    "    print(num*10)"
   ]
  },
  {
   "cell_type": "code",
   "execution_count": 13,
   "id": "e866bf3b",
   "metadata": {},
   "outputs": [
    {
     "name": "stdout",
     "output_type": "stream",
     "text": [
      "1\n",
      "2\n",
      "3\n",
      "4\n",
      "5\n",
      "6\n",
      "7\n",
      "8\n",
      "9\n"
     ]
    }
   ],
   "source": [
    "for i in range(1,10):\n",
    "    print(i)\n"
   ]
  },
  {
   "cell_type": "code",
   "execution_count": 14,
   "id": "12330313",
   "metadata": {},
   "outputs": [
    {
     "data": {
      "text/plain": [
       "list[slice(0, 1, None)]"
      ]
     },
     "execution_count": 14,
     "metadata": {},
     "output_type": "execute_result"
    }
   ],
   "source": [
    "list3=list[0:1]\n",
    "list3"
   ]
  },
  {
   "cell_type": "code",
   "execution_count": 15,
   "id": "925a979a",
   "metadata": {},
   "outputs": [
    {
     "data": {
      "text/plain": [
       "['Computer', 'Laptop', 'Mouse']"
      ]
     },
     "execution_count": 15,
     "metadata": {},
     "output_type": "execute_result"
    }
   ],
   "source": [
    "list3=['Computer','Laptop','Mouse']\n",
    "list3\n"
   ]
  },
  {
   "cell_type": "code",
   "execution_count": 16,
   "id": "a45b0f8b",
   "metadata": {},
   "outputs": [
    {
     "data": {
      "text/plain": [
       "['Computer']"
      ]
     },
     "execution_count": 16,
     "metadata": {},
     "output_type": "execute_result"
    }
   ],
   "source": [
    "list3[0:1]"
   ]
  },
  {
   "cell_type": "code",
   "execution_count": 18,
   "id": "70aef02f",
   "metadata": {},
   "outputs": [
    {
     "data": {
      "text/plain": [
       "['kivi', 'anar']"
      ]
     },
     "execution_count": 18,
     "metadata": {},
     "output_type": "execute_result"
    }
   ],
   "source": [
    "fruitlist=['app','kivi','anar','banana','bitter guard','beat']\n",
    "fruitlist[1:3]"
   ]
  },
  {
   "cell_type": "code",
   "execution_count": 19,
   "id": "4f409a82",
   "metadata": {},
   "outputs": [
    {
     "data": {
      "text/plain": [
       "['kivi', 'anar', 'banana']"
      ]
     },
     "execution_count": 19,
     "metadata": {},
     "output_type": "execute_result"
    }
   ],
   "source": [
    "fruitlist[1:4]"
   ]
  },
  {
   "cell_type": "code",
   "execution_count": 20,
   "id": "5b26b116",
   "metadata": {},
   "outputs": [
    {
     "data": {
      "text/plain": [
       "['app']"
      ]
     },
     "execution_count": 20,
     "metadata": {},
     "output_type": "execute_result"
    }
   ],
   "source": [
    "fruitlist[0:1]"
   ]
  },
  {
   "cell_type": "code",
   "execution_count": 21,
   "id": "907038b2",
   "metadata": {},
   "outputs": [
    {
     "data": {
      "text/plain": [
       "[]"
      ]
     },
     "execution_count": 21,
     "metadata": {},
     "output_type": "execute_result"
    }
   ],
   "source": [
    "fruitlist[0:0]"
   ]
  },
  {
   "cell_type": "code",
   "execution_count": 22,
   "id": "6a7d72f4",
   "metadata": {},
   "outputs": [
    {
     "data": {
      "text/plain": [
       "'app'"
      ]
     },
     "execution_count": 22,
     "metadata": {},
     "output_type": "execute_result"
    }
   ],
   "source": [
    "fruitlist[0]"
   ]
  },
  {
   "cell_type": "markdown",
   "id": "235198da",
   "metadata": {},
   "source": [
    "Negative Indexing"
   ]
  },
  {
   "cell_type": "code",
   "execution_count": 23,
   "id": "05682940",
   "metadata": {},
   "outputs": [
    {
     "data": {
      "text/plain": [
       "'beat'"
      ]
     },
     "execution_count": 23,
     "metadata": {},
     "output_type": "execute_result"
    }
   ],
   "source": [
    "fruitlist=['app','kivi','anar','banana','bitter guard','beat']\n",
    "fruitlist[-1]"
   ]
  },
  {
   "cell_type": "code",
   "execution_count": 24,
   "id": "d692bf0c",
   "metadata": {},
   "outputs": [
    {
     "data": {
      "text/plain": [
       "'banana'"
      ]
     },
     "execution_count": 24,
     "metadata": {},
     "output_type": "execute_result"
    }
   ],
   "source": [
    "fruitlist[-3]"
   ]
  },
  {
   "cell_type": "code",
   "execution_count": 25,
   "id": "d1d75f29",
   "metadata": {},
   "outputs": [
    {
     "data": {
      "text/plain": [
       "['banana', 'bitter guard']"
      ]
     },
     "execution_count": 25,
     "metadata": {},
     "output_type": "execute_result"
    }
   ],
   "source": [
    "fruitlist[-3:-1]"
   ]
  },
  {
   "cell_type": "code",
   "execution_count": 26,
   "id": "472ab6c4",
   "metadata": {},
   "outputs": [
    {
     "data": {
      "text/plain": [
       "['banana', 'bitter guard', 'beat']"
      ]
     },
     "execution_count": 26,
     "metadata": {},
     "output_type": "execute_result"
    }
   ],
   "source": [
    "fruitlist[-3:]"
   ]
  },
  {
   "cell_type": "code",
   "execution_count": 27,
   "id": "e7336b72",
   "metadata": {},
   "outputs": [
    {
     "data": {
      "text/plain": [
       "['app', 'kivi', 'anar', 'banana', 'bitter guard']"
      ]
     },
     "execution_count": 27,
     "metadata": {},
     "output_type": "execute_result"
    }
   ],
   "source": [
    "fruitlist[:-1]"
   ]
  },
  {
   "cell_type": "code",
   "execution_count": 28,
   "id": "7370a407",
   "metadata": {},
   "outputs": [
    {
     "data": {
      "text/plain": [
       "['app', 'kivi', 'anar', 'banana']"
      ]
     },
     "execution_count": 28,
     "metadata": {},
     "output_type": "execute_result"
    }
   ],
   "source": [
    "fruitlist[:-2]"
   ]
  },
  {
   "cell_type": "code",
   "execution_count": 29,
   "id": "167a49a3",
   "metadata": {},
   "outputs": [
    {
     "data": {
      "text/plain": [
       "['app', 'kivi', 'anar', 'banana']"
      ]
     },
     "execution_count": 29,
     "metadata": {},
     "output_type": "execute_result"
    }
   ],
   "source": [
    "fruitlist[0:-2]"
   ]
  },
  {
   "cell_type": "code",
   "execution_count": 30,
   "id": "274210f7",
   "metadata": {},
   "outputs": [
    {
     "data": {
      "text/plain": [
       "[]"
      ]
     },
     "execution_count": 30,
     "metadata": {},
     "output_type": "execute_result"
    }
   ],
   "source": [
    "fruitlist[3:0]"
   ]
  },
  {
   "cell_type": "code",
   "execution_count": 31,
   "id": "13ea9db6",
   "metadata": {},
   "outputs": [
    {
     "data": {
      "text/plain": [
       "['app', 'kivi', 'anar', 'banana', 'bitter guard', 'beat']"
      ]
     },
     "execution_count": 31,
     "metadata": {},
     "output_type": "execute_result"
    }
   ],
   "source": [
    "fruitlist[:]"
   ]
  },
  {
   "cell_type": "code",
   "execution_count": null,
   "id": "80969a91",
   "metadata": {},
   "outputs": [],
   "source": []
  }
 ],
 "metadata": {
  "kernelspec": {
   "display_name": "Python 3 (ipykernel)",
   "language": "python",
   "name": "python3"
  },
  "language_info": {
   "codemirror_mode": {
    "name": "ipython",
    "version": 3
   },
   "file_extension": ".py",
   "mimetype": "text/x-python",
   "name": "python",
   "nbconvert_exporter": "python",
   "pygments_lexer": "ipython3",
   "version": "3.9.7"
  }
 },
 "nbformat": 4,
 "nbformat_minor": 5
}
