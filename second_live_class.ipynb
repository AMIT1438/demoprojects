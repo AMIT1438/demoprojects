{
 "cells": [
  {
   "cell_type": "markdown",
   "id": "626a3c9a",
   "metadata": {},
   "source": [
    "type casting"
   ]
  },
  {
   "cell_type": "code",
   "execution_count": 1,
   "id": "dd9a11ee",
   "metadata": {},
   "outputs": [
    {
     "data": {
      "text/plain": [
       "int"
      ]
     },
     "execution_count": 1,
     "metadata": {},
     "output_type": "execute_result"
    }
   ],
   "source": [
    "type(90)"
   ]
  },
  {
   "cell_type": "code",
   "execution_count": 2,
   "id": "2c0be325",
   "metadata": {},
   "outputs": [
    {
     "data": {
      "text/plain": [
       "float"
      ]
     },
     "execution_count": 2,
     "metadata": {},
     "output_type": "execute_result"
    }
   ],
   "source": [
    "type(23.4)"
   ]
  },
  {
   "cell_type": "code",
   "execution_count": 3,
   "id": "df6cf9ed",
   "metadata": {},
   "outputs": [
    {
     "data": {
      "text/plain": [
       "str"
      ]
     },
     "execution_count": 3,
     "metadata": {},
     "output_type": "execute_result"
    }
   ],
   "source": [
    "type('amit')"
   ]
  },
  {
   "cell_type": "code",
   "execution_count": 5,
   "id": "f783ff7e",
   "metadata": {},
   "outputs": [
    {
     "data": {
      "text/plain": [
       "bool"
      ]
     },
     "execution_count": 5,
     "metadata": {},
     "output_type": "execute_result"
    }
   ],
   "source": [
    "type(True)"
   ]
  },
  {
   "cell_type": "code",
   "execution_count": 6,
   "id": "25f89d23",
   "metadata": {},
   "outputs": [],
   "source": [
    "p=90"
   ]
  },
  {
   "cell_type": "code",
   "execution_count": 7,
   "id": "b24beb64",
   "metadata": {},
   "outputs": [
    {
     "data": {
      "text/plain": [
       "int"
      ]
     },
     "execution_count": 7,
     "metadata": {},
     "output_type": "execute_result"
    }
   ],
   "source": [
    "type(p)"
   ]
  },
  {
   "cell_type": "code",
   "execution_count": 8,
   "id": "064b1bc1",
   "metadata": {},
   "outputs": [
    {
     "data": {
      "text/plain": [
       "90.0"
      ]
     },
     "execution_count": 8,
     "metadata": {},
     "output_type": "execute_result"
    }
   ],
   "source": [
    "float(p)"
   ]
  },
  {
   "cell_type": "code",
   "execution_count": 9,
   "id": "fab8fb56",
   "metadata": {},
   "outputs": [],
   "source": [
    "j=79\n",
    "k=float(j)"
   ]
  },
  {
   "cell_type": "code",
   "execution_count": 10,
   "id": "7fb2f0aa",
   "metadata": {},
   "outputs": [
    {
     "data": {
      "text/plain": [
       "int"
      ]
     },
     "execution_count": 10,
     "metadata": {},
     "output_type": "execute_result"
    }
   ],
   "source": [
    "type(j)"
   ]
  },
  {
   "cell_type": "code",
   "execution_count": 11,
   "id": "133556f2",
   "metadata": {},
   "outputs": [
    {
     "data": {
      "text/plain": [
       "float"
      ]
     },
     "execution_count": 11,
     "metadata": {},
     "output_type": "execute_result"
    }
   ],
   "source": [
    "type(k)"
   ]
  },
  {
   "cell_type": "code",
   "execution_count": 12,
   "id": "e1e590f5",
   "metadata": {},
   "outputs": [
    {
     "data": {
      "text/plain": [
       "79.0"
      ]
     },
     "execution_count": 12,
     "metadata": {},
     "output_type": "execute_result"
    }
   ],
   "source": [
    "float(k)"
   ]
  },
  {
   "cell_type": "code",
   "execution_count": 13,
   "id": "27138b58",
   "metadata": {},
   "outputs": [
    {
     "data": {
      "text/plain": [
       "float"
      ]
     },
     "execution_count": 13,
     "metadata": {},
     "output_type": "execute_result"
    }
   ],
   "source": [
    "type(k)"
   ]
  },
  {
   "cell_type": "code",
   "execution_count": 14,
   "id": "b3590c71",
   "metadata": {},
   "outputs": [
    {
     "data": {
      "text/plain": [
       "79.0"
      ]
     },
     "execution_count": 14,
     "metadata": {},
     "output_type": "execute_result"
    }
   ],
   "source": [
    "k"
   ]
  },
  {
   "cell_type": "code",
   "execution_count": 15,
   "id": "622310f1",
   "metadata": {},
   "outputs": [
    {
     "data": {
      "text/plain": [
       "79"
      ]
     },
     "execution_count": 15,
     "metadata": {},
     "output_type": "execute_result"
    }
   ],
   "source": [
    "int(k)"
   ]
  },
  {
   "cell_type": "code",
   "execution_count": 16,
   "id": "06a93e3c",
   "metadata": {},
   "outputs": [
    {
     "data": {
      "text/plain": [
       "79.0"
      ]
     },
     "execution_count": 16,
     "metadata": {},
     "output_type": "execute_result"
    }
   ],
   "source": [
    "k"
   ]
  },
  {
   "cell_type": "code",
   "execution_count": 17,
   "id": "ff136627",
   "metadata": {},
   "outputs": [
    {
     "data": {
      "text/plain": [
       "float"
      ]
     },
     "execution_count": 17,
     "metadata": {},
     "output_type": "execute_result"
    }
   ],
   "source": [
    "type(k)"
   ]
  },
  {
   "cell_type": "code",
   "execution_count": 18,
   "id": "335d7ae1",
   "metadata": {},
   "outputs": [
    {
     "name": "stdout",
     "output_type": "stream",
     "text": [
      "Enter value of num1 = 5\n"
     ]
    }
   ],
   "source": [
    "a=input('Enter value of num1 = ')"
   ]
  },
  {
   "cell_type": "code",
   "execution_count": 19,
   "id": "beaf7c74",
   "metadata": {},
   "outputs": [
    {
     "name": "stdout",
     "output_type": "stream",
     "text": [
      "Enter value of num2 = 9\n"
     ]
    }
   ],
   "source": [
    "b=input('Enter value of num2 = ')"
   ]
  },
  {
   "cell_type": "code",
   "execution_count": 20,
   "id": "a02d4f06",
   "metadata": {},
   "outputs": [
    {
     "data": {
      "text/plain": [
       "'59'"
      ]
     },
     "execution_count": 20,
     "metadata": {},
     "output_type": "execute_result"
    }
   ],
   "source": [
    "c=a+b\n",
    "c"
   ]
  },
  {
   "cell_type": "code",
   "execution_count": 21,
   "id": "70eab9f9",
   "metadata": {},
   "outputs": [
    {
     "data": {
      "text/plain": [
       "14"
      ]
     },
     "execution_count": 21,
     "metadata": {},
     "output_type": "execute_result"
    }
   ],
   "source": [
    "c=int(a)+int(b)\n",
    "c"
   ]
  },
  {
   "cell_type": "code",
   "execution_count": 22,
   "id": "d742b100",
   "metadata": {},
   "outputs": [
    {
     "name": "stdout",
     "output_type": "stream",
     "text": [
      "Enter value of num1 = 5\n"
     ]
    }
   ],
   "source": [
    "a=int(input('Enter value of num1 = '))"
   ]
  },
  {
   "cell_type": "code",
   "execution_count": 23,
   "id": "ef3271af",
   "metadata": {},
   "outputs": [
    {
     "name": "stdout",
     "output_type": "stream",
     "text": [
      "Enter value of num1 = 10\n"
     ]
    }
   ],
   "source": [
    "b=int(input('Enter value of num1 = '))"
   ]
  },
  {
   "cell_type": "code",
   "execution_count": 31,
   "id": "72f21940",
   "metadata": {},
   "outputs": [],
   "source": [
    "c=a+b"
   ]
  },
  {
   "cell_type": "code",
   "execution_count": 28,
   "id": "60f0b0c9",
   "metadata": {},
   "outputs": [
    {
     "name": "stdout",
     "output_type": "stream",
     "text": [
      "Enter value of num1 = 78\n"
     ]
    }
   ],
   "source": [
    "c=int(input('Enter value of num1 = '))"
   ]
  },
  {
   "cell_type": "code",
   "execution_count": 32,
   "id": "8575c737",
   "metadata": {},
   "outputs": [
    {
     "data": {
      "text/plain": [
       "15"
      ]
     },
     "execution_count": 32,
     "metadata": {},
     "output_type": "execute_result"
    }
   ],
   "source": [
    "c"
   ]
  },
  {
   "cell_type": "code",
   "execution_count": 33,
   "id": "7fb3d840",
   "metadata": {},
   "outputs": [
    {
     "name": "stdout",
     "output_type": "stream",
     "text": [
      "Enter length of rectanble = 5\n",
      "Enter breath of rectanble = 3\n",
      "Area of Rectanble with length  5  and breath  3  is =  15\n"
     ]
    }
   ],
   "source": [
    "length=int(input('Enter length of rectanble = '))\n",
    "breath=int(input('Enter breath of rectanble = '))\n",
    "area=length*breath\n",
    "print('Area of Rectanble with length ',length,' and breath ',breath,' is = ',area)"
   ]
  },
  {
   "cell_type": "code",
   "execution_count": 34,
   "id": "e589d7fd",
   "metadata": {},
   "outputs": [
    {
     "name": "stdout",
     "output_type": "stream",
     "text": [
      "Enter radius = 4\n"
     ]
    },
    {
     "data": {
      "text/plain": [
       "50.24"
      ]
     },
     "execution_count": 34,
     "metadata": {},
     "output_type": "execute_result"
    }
   ],
   "source": [
    "r=int(input('Enter radius = '))\n",
    "area=3.14*r**2\n",
    "area"
   ]
  },
  {
   "cell_type": "code",
   "execution_count": 1,
   "id": "b7a96dc2",
   "metadata": {},
   "outputs": [
    {
     "name": "stdout",
     "output_type": "stream",
     "text": [
      "Enter base of triangle = 2\n",
      "Enter height of triangle = 4\n"
     ]
    },
    {
     "data": {
      "text/plain": [
       "4.0"
      ]
     },
     "execution_count": 1,
     "metadata": {},
     "output_type": "execute_result"
    }
   ],
   "source": [
    "b=int(input('Enter base of triangle = '))\n",
    "h=int(input('Enter height of triangle = '))\n",
    "area=1/2*b*h\n",
    "area"
   ]
  },
  {
   "cell_type": "code",
   "execution_count": 3,
   "id": "6661c125",
   "metadata": {},
   "outputs": [
    {
     "data": {
      "text/plain": [
       "34.568"
      ]
     },
     "execution_count": 3,
     "metadata": {},
     "output_type": "execute_result"
    }
   ],
   "source": [
    "d=round(34.56783,3)\n",
    "d"
   ]
  },
  {
   "cell_type": "code",
   "execution_count": 6,
   "id": "77d55c25",
   "metadata": {},
   "outputs": [
    {
     "name": "stdout",
     "output_type": "stream",
     "text": [
      "Enter radius = 345\n"
     ]
    },
    {
     "data": {
      "text/plain": [
       "2856.6"
      ]
     },
     "execution_count": 6,
     "metadata": {},
     "output_type": "execute_result"
    }
   ],
   "source": [
    "r=int(input('Enter radius = '))\n",
    "pi=4.14\n",
    "cirf=2*pi*r\n",
    "round(cirf,2)"
   ]
  },
  {
   "cell_type": "markdown",
   "id": "61c3ce4a",
   "metadata": {},
   "source": [
    "Data Structure"
   ]
  },
  {
   "cell_type": "code",
   "execution_count": 7,
   "id": "8e4d6e77",
   "metadata": {},
   "outputs": [],
   "source": [
    "list1=[1,2,4,6]"
   ]
  },
  {
   "cell_type": "code",
   "execution_count": 8,
   "id": "c74d6e15",
   "metadata": {},
   "outputs": [
    {
     "data": {
      "text/plain": [
       "[1, 2, 4, 6]"
      ]
     },
     "execution_count": 8,
     "metadata": {},
     "output_type": "execute_result"
    }
   ],
   "source": [
    "list1"
   ]
  },
  {
   "cell_type": "code",
   "execution_count": 9,
   "id": "f0a2bafd",
   "metadata": {},
   "outputs": [
    {
     "data": {
      "text/plain": [
       "[34.5, 78.0, 56]"
      ]
     },
     "execution_count": 9,
     "metadata": {},
     "output_type": "execute_result"
    }
   ],
   "source": [
    "list2=[34.5,78.0,56]\n",
    "list2"
   ]
  },
  {
   "cell_type": "code",
   "execution_count": 10,
   "id": "5e7a071a",
   "metadata": {},
   "outputs": [
    {
     "data": {
      "text/plain": [
       "[2, 34.5, 'amit', True]"
      ]
     },
     "execution_count": 10,
     "metadata": {},
     "output_type": "execute_result"
    }
   ],
   "source": [
    "list3=[2,34.5,'amit',True]\n",
    "list3"
   ]
  },
  {
   "cell_type": "code",
   "execution_count": null,
   "id": "a904cf87",
   "metadata": {},
   "outputs": [],
   "source": []
  }
 ],
 "metadata": {
  "kernelspec": {
   "display_name": "Python 3 (ipykernel)",
   "language": "python",
   "name": "python3"
  },
  "language_info": {
   "codemirror_mode": {
    "name": "ipython",
    "version": 3
   },
   "file_extension": ".py",
   "mimetype": "text/x-python",
   "name": "python",
   "nbconvert_exporter": "python",
   "pygments_lexer": "ipython3",
   "version": "3.9.7"
  }
 },
 "nbformat": 4,
 "nbformat_minor": 5
}
