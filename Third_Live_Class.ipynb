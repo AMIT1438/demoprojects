{
 "cells": [
  {
   "cell_type": "markdown",
   "id": "308efe51",
   "metadata": {},
   "source": [
    "Data Structure : Live Class 3"
   ]
  },
  {
   "cell_type": "code",
   "execution_count": 3,
   "id": "7fe87465",
   "metadata": {},
   "outputs": [
    {
     "data": {
      "text/plain": [
       "4"
      ]
     },
     "execution_count": 3,
     "metadata": {},
     "output_type": "execute_result"
    }
   ],
   "source": [
    "list1=[1,2,3,4,5]\n",
    "list1\n",
    "list1[3]"
   ]
  },
  {
   "cell_type": "code",
   "execution_count": 10,
   "id": "a80add8e",
   "metadata": {},
   "outputs": [
    {
     "data": {
      "text/plain": [
       "3"
      ]
     },
     "execution_count": 10,
     "metadata": {},
     "output_type": "execute_result"
    }
   ],
   "source": [
    "list1[2]"
   ]
  },
  {
   "cell_type": "code",
   "execution_count": null,
   "id": "2522094e",
   "metadata": {},
   "outputs": [],
   "source": []
  },
  {
   "cell_type": "code",
   "execution_count": null,
   "id": "51c34d3b",
   "metadata": {},
   "outputs": [],
   "source": []
  },
  {
   "cell_type": "code",
   "execution_count": 4,
   "id": "93ec9090",
   "metadata": {},
   "outputs": [],
   "source": [
    "list2=[23,45,67,89,53]"
   ]
  },
  {
   "cell_type": "code",
   "execution_count": 6,
   "id": "594d55f8",
   "metadata": {},
   "outputs": [
    {
     "data": {
      "text/plain": [
       "'Mouse'"
      ]
     },
     "execution_count": 6,
     "metadata": {},
     "output_type": "execute_result"
    }
   ],
   "source": [
    "list3=['Computer','Laptop','Mouse']\n",
    "list3\n",
    "list3[2]"
   ]
  },
  {
   "cell_type": "code",
   "execution_count": 11,
   "id": "337811c1",
   "metadata": {},
   "outputs": [
    {
     "name": "stdout",
     "output_type": "stream",
     "text": [
      "230\n",
      "450\n",
      "670\n",
      "890\n",
      "530\n"
     ]
    }
   ],
   "source": [
    "list2=[23,45,67,89,53]\n",
    "for num in list2:\n",
    "    print(num*10)"
   ]
  },
  {
   "cell_type": "code",
   "execution_count": 13,
   "id": "f46d5a4c",
   "metadata": {},
   "outputs": [
    {
     "name": "stdout",
     "output_type": "stream",
     "text": [
      "1\n",
      "2\n",
      "3\n",
      "4\n",
      "5\n",
      "6\n",
      "7\n",
      "8\n",
      "9\n"
     ]
    }
   ],
   "source": [
    "for i in range(1,10):\n",
    "    print(i)\n"
   ]
  },
  {
   "cell_type": "code",
   "execution_count": 14,
   "id": "d20baf66",
   "metadata": {},
   "outputs": [
    {
     "data": {
      "text/plain": [
       "list[slice(0, 1, None)]"
      ]
     },
     "execution_count": 14,
     "metadata": {},
     "output_type": "execute_result"
    }
   ],
   "source": [
    "list3=list[0:1]\n",
    "list3"
   ]
  },
  {
   "cell_type": "code",
   "execution_count": 15,
   "id": "658c4779",
   "metadata": {},
   "outputs": [
    {
     "data": {
      "text/plain": [
       "['Computer', 'Laptop', 'Mouse']"
      ]
     },
     "execution_count": 15,
     "metadata": {},
     "output_type": "execute_result"
    }
   ],
   "source": [
    "list3=['Computer','Laptop','Mouse']\n",
    "list3\n"
   ]
  },
  {
   "cell_type": "code",
   "execution_count": 16,
   "id": "713b7905",
   "metadata": {},
   "outputs": [
    {
     "data": {
      "text/plain": [
       "['Computer']"
      ]
     },
     "execution_count": 16,
     "metadata": {},
     "output_type": "execute_result"
    }
   ],
   "source": [
    "list3[0:1]"
   ]
  },
  {
   "cell_type": "code",
   "execution_count": 18,
   "id": "70033765",
   "metadata": {},
   "outputs": [
    {
     "data": {
      "text/plain": [
       "['kivi', 'anar']"
      ]
     },
     "execution_count": 18,
     "metadata": {},
     "output_type": "execute_result"
    }
   ],
   "source": [
    "fruitlist=['app','kivi','anar','banana','bitter guard','beat']\n",
    "fruitlist[1:3]"
   ]
  },
  {
   "cell_type": "code",
   "execution_count": 19,
   "id": "afd5abe8",
   "metadata": {},
   "outputs": [
    {
     "data": {
      "text/plain": [
       "['kivi', 'anar', 'banana']"
      ]
     },
     "execution_count": 19,
     "metadata": {},
     "output_type": "execute_result"
    }
   ],
   "source": [
    "fruitlist[1:4]"
   ]
  },
  {
   "cell_type": "code",
   "execution_count": 20,
   "id": "0dd0e11e",
   "metadata": {},
   "outputs": [
    {
     "data": {
      "text/plain": [
       "['app']"
      ]
     },
     "execution_count": 20,
     "metadata": {},
     "output_type": "execute_result"
    }
   ],
   "source": [
    "fruitlist[0:1]"
   ]
  },
  {
   "cell_type": "code",
   "execution_count": 21,
   "id": "28275ef9",
   "metadata": {},
   "outputs": [
    {
     "data": {
      "text/plain": [
       "[]"
      ]
     },
     "execution_count": 21,
     "metadata": {},
     "output_type": "execute_result"
    }
   ],
   "source": [
    "fruitlist[0:0]"
   ]
  },
  {
   "cell_type": "code",
   "execution_count": 22,
   "id": "b25d587b",
   "metadata": {},
   "outputs": [
    {
     "data": {
      "text/plain": [
       "'app'"
      ]
     },
     "execution_count": 22,
     "metadata": {},
     "output_type": "execute_result"
    }
   ],
   "source": [
    "fruitlist[0]"
   ]
  },
  {
   "cell_type": "markdown",
   "id": "ac2a0b77",
   "metadata": {},
   "source": [
    "Negative Indexing"
   ]
  },
  {
   "cell_type": "code",
   "execution_count": 4,
   "id": "6b6f1887",
   "metadata": {},
   "outputs": [
    {
     "data": {
      "text/plain": [
       "'beat'"
      ]
     },
     "execution_count": 4,
     "metadata": {},
     "output_type": "execute_result"
    }
   ],
   "source": [
    "fruitlist=['app','kivi','anar','banana','bitter guard','beat']\n",
    "fruitlist[-1]"
   ]
  },
  {
   "cell_type": "code",
   "execution_count": 24,
   "id": "c23fa849",
   "metadata": {},
   "outputs": [
    {
     "data": {
      "text/plain": [
       "'banana'"
      ]
     },
     "execution_count": 24,
     "metadata": {},
     "output_type": "execute_result"
    }
   ],
   "source": [
    "fruitlist[-3]"
   ]
  },
  {
   "cell_type": "code",
   "execution_count": 25,
   "id": "8db93bb3",
   "metadata": {},
   "outputs": [
    {
     "data": {
      "text/plain": [
       "['banana', 'bitter guard']"
      ]
     },
     "execution_count": 25,
     "metadata": {},
     "output_type": "execute_result"
    }
   ],
   "source": [
    "fruitlist[-3:-1]"
   ]
  },
  {
   "cell_type": "code",
   "execution_count": 26,
   "id": "af77b04d",
   "metadata": {},
   "outputs": [
    {
     "data": {
      "text/plain": [
       "['banana', 'bitter guard', 'beat']"
      ]
     },
     "execution_count": 26,
     "metadata": {},
     "output_type": "execute_result"
    }
   ],
   "source": [
    "fruitlist[-3:]"
   ]
  },
  {
   "cell_type": "code",
   "execution_count": 27,
   "id": "3cc86216",
   "metadata": {},
   "outputs": [
    {
     "data": {
      "text/plain": [
       "['app', 'kivi', 'anar', 'banana', 'bitter guard']"
      ]
     },
     "execution_count": 27,
     "metadata": {},
     "output_type": "execute_result"
    }
   ],
   "source": [
    "fruitlist[:-1]"
   ]
  },
  {
   "cell_type": "code",
   "execution_count": 28,
   "id": "d1cf08b4",
   "metadata": {},
   "outputs": [
    {
     "data": {
      "text/plain": [
       "['app', 'kivi', 'anar', 'banana']"
      ]
     },
     "execution_count": 28,
     "metadata": {},
     "output_type": "execute_result"
    }
   ],
   "source": [
    "fruitlist[:-2]"
   ]
  },
  {
   "cell_type": "code",
   "execution_count": 29,
   "id": "dec16e6d",
   "metadata": {},
   "outputs": [
    {
     "data": {
      "text/plain": [
       "['app', 'kivi', 'anar', 'banana']"
      ]
     },
     "execution_count": 29,
     "metadata": {},
     "output_type": "execute_result"
    }
   ],
   "source": [
    "fruitlist[0:-2]"
   ]
  },
  {
   "cell_type": "code",
   "execution_count": 30,
   "id": "936d2c33",
   "metadata": {},
   "outputs": [
    {
     "data": {
      "text/plain": [
       "[]"
      ]
     },
     "execution_count": 30,
     "metadata": {},
     "output_type": "execute_result"
    }
   ],
   "source": [
    "fruitlist[3:0]"
   ]
  },
  {
   "cell_type": "code",
   "execution_count": 7,
   "id": "cce188ea",
   "metadata": {},
   "outputs": [
    {
     "data": {
      "text/plain": [
       "['app', 'kivi', 'anar', 'banana', 'bitter guard', 'beat']"
      ]
     },
     "execution_count": 7,
     "metadata": {},
     "output_type": "execute_result"
    }
   ],
   "source": [
    "fruitlist[:]"
   ]
  },
  {
   "cell_type": "code",
   "execution_count": 8,
   "id": "47ec774c",
   "metadata": {},
   "outputs": [],
   "source": [
    "fruitlist.append('Papaiya')"
   ]
  },
  {
   "cell_type": "code",
   "execution_count": 9,
   "id": "6d45c10c",
   "metadata": {},
   "outputs": [
    {
     "data": {
      "text/plain": [
       "['app', 'kivi', 'anar', 'banana', 'bitter guard', 'beat', 'Papaiya']"
      ]
     },
     "execution_count": 9,
     "metadata": {},
     "output_type": "execute_result"
    }
   ],
   "source": [
    "fruitlist[:]"
   ]
  },
  {
   "cell_type": "code",
   "execution_count": 12,
   "id": "92f4ed92",
   "metadata": {},
   "outputs": [],
   "source": [
    "fruitlist.insert(2,'Lichi')"
   ]
  },
  {
   "cell_type": "code",
   "execution_count": 13,
   "id": "aef6533f",
   "metadata": {},
   "outputs": [
    {
     "data": {
      "text/plain": [
       "['app', 'kivi', 'Lichi', 'anar', 'banana', 'bitter guard', 'beat', 'Papaiya']"
      ]
     },
     "execution_count": 13,
     "metadata": {},
     "output_type": "execute_result"
    }
   ],
   "source": [
    "fruitlist[:]"
   ]
  },
  {
   "cell_type": "code",
   "execution_count": 17,
   "id": "39d5b1bc",
   "metadata": {},
   "outputs": [],
   "source": [
    "fruitlist.sort()"
   ]
  },
  {
   "cell_type": "code",
   "execution_count": 18,
   "id": "f5c7641a",
   "metadata": {},
   "outputs": [
    {
     "data": {
      "text/plain": [
       "['Lichi', 'Papaiya', 'anar', 'app', 'banana', 'beat', 'bitter guard', 'kivi']"
      ]
     },
     "execution_count": 18,
     "metadata": {},
     "output_type": "execute_result"
    }
   ],
   "source": [
    "fruitlist[:]"
   ]
  },
  {
   "cell_type": "code",
   "execution_count": 19,
   "id": "55fe7a82",
   "metadata": {},
   "outputs": [],
   "source": [
    "fruitlist.reverse()"
   ]
  },
  {
   "cell_type": "code",
   "execution_count": 20,
   "id": "538ca1eb",
   "metadata": {},
   "outputs": [
    {
     "data": {
      "text/plain": [
       "['kivi', 'bitter guard', 'beat', 'banana', 'app', 'anar', 'Papaiya', 'Lichi']"
      ]
     },
     "execution_count": 20,
     "metadata": {},
     "output_type": "execute_result"
    }
   ],
   "source": [
    "fruitlist"
   ]
  },
  {
   "cell_type": "code",
   "execution_count": 21,
   "id": "c89e2820",
   "metadata": {},
   "outputs": [
    {
     "data": {
      "text/plain": [
       "'Lichi'"
      ]
     },
     "execution_count": 21,
     "metadata": {},
     "output_type": "execute_result"
    }
   ],
   "source": [
    "fruitlist.pop()"
   ]
  },
  {
   "cell_type": "code",
   "execution_count": 22,
   "id": "4ab1403c",
   "metadata": {},
   "outputs": [
    {
     "data": {
      "text/plain": [
       "['kivi', 'bitter guard', 'beat', 'banana', 'app', 'anar', 'Papaiya']"
      ]
     },
     "execution_count": 22,
     "metadata": {},
     "output_type": "execute_result"
    }
   ],
   "source": [
    "fruitlist"
   ]
  },
  {
   "cell_type": "code",
   "execution_count": 23,
   "id": "aac129f8",
   "metadata": {},
   "outputs": [
    {
     "data": {
      "text/plain": [
       "5"
      ]
     },
     "execution_count": 23,
     "metadata": {},
     "output_type": "execute_result"
    }
   ],
   "source": [
    "fruitlist.index('anar')"
   ]
  },
  {
   "cell_type": "code",
   "execution_count": 24,
   "id": "5a1ba0e0",
   "metadata": {},
   "outputs": [
    {
     "data": {
      "text/plain": [
       "'anar'"
      ]
     },
     "execution_count": 24,
     "metadata": {},
     "output_type": "execute_result"
    }
   ],
   "source": [
    "fruitlist.pop(5)"
   ]
  },
  {
   "cell_type": "code",
   "execution_count": 25,
   "id": "1f1946fc",
   "metadata": {},
   "outputs": [
    {
     "data": {
      "text/plain": [
       "['kivi', 'bitter guard', 'beat', 'banana', 'app', 'Papaiya']"
      ]
     },
     "execution_count": 25,
     "metadata": {},
     "output_type": "execute_result"
    }
   ],
   "source": [
    "fruitlist"
   ]
  },
  {
   "cell_type": "code",
   "execution_count": 26,
   "id": "46f9883c",
   "metadata": {},
   "outputs": [],
   "source": [
    "fruitlist.remove('beat')"
   ]
  },
  {
   "cell_type": "code",
   "execution_count": 27,
   "id": "82458a1c",
   "metadata": {},
   "outputs": [
    {
     "data": {
      "text/plain": [
       "['kivi', 'bitter guard', 'banana', 'app', 'Papaiya']"
      ]
     },
     "execution_count": 27,
     "metadata": {},
     "output_type": "execute_result"
    }
   ],
   "source": [
    "fruitlist"
   ]
  },
  {
   "cell_type": "code",
   "execution_count": 28,
   "id": "b6398d13",
   "metadata": {},
   "outputs": [],
   "source": [
    "fruitlist.clear()"
   ]
  },
  {
   "cell_type": "code",
   "execution_count": 29,
   "id": "183695e1",
   "metadata": {},
   "outputs": [
    {
     "data": {
      "text/plain": [
       "[]"
      ]
     },
     "execution_count": 29,
     "metadata": {},
     "output_type": "execute_result"
    }
   ],
   "source": [
    "fruitlist"
   ]
  },
  {
   "cell_type": "code",
   "execution_count": 30,
   "id": "fcf6e538",
   "metadata": {},
   "outputs": [],
   "source": [
    "del fruitlist"
   ]
  },
  {
   "cell_type": "code",
   "execution_count": 31,
   "id": "6054080c",
   "metadata": {},
   "outputs": [
    {
     "ename": "NameError",
     "evalue": "name 'fruitlist' is not defined",
     "output_type": "error",
     "traceback": [
      "\u001b[1;31m---------------------------------------------------------------------------\u001b[0m",
      "\u001b[1;31mNameError\u001b[0m                                 Traceback (most recent call last)",
      "\u001b[1;32m~\\AppData\\Local\\Temp/ipykernel_5252/83626785.py\u001b[0m in \u001b[0;36m<module>\u001b[1;34m\u001b[0m\n\u001b[1;32m----> 1\u001b[1;33m \u001b[0mfruitlist\u001b[0m\u001b[1;33m\u001b[0m\u001b[1;33m\u001b[0m\u001b[0m\n\u001b[0m",
      "\u001b[1;31mNameError\u001b[0m: name 'fruitlist' is not defined"
     ]
    }
   ],
   "source": [
    "fruitlist"
   ]
  },
  {
   "cell_type": "code",
   "execution_count": 32,
   "id": "25abfb11",
   "metadata": {},
   "outputs": [],
   "source": [
    "list3=[10,20,30,40]"
   ]
  },
  {
   "cell_type": "code",
   "execution_count": 33,
   "id": "97f90380",
   "metadata": {},
   "outputs": [
    {
     "data": {
      "text/plain": [
       "[10, 20, 30, 40]"
      ]
     },
     "execution_count": 33,
     "metadata": {},
     "output_type": "execute_result"
    }
   ],
   "source": [
    "list3"
   ]
  },
  {
   "cell_type": "code",
   "execution_count": 34,
   "id": "4c3fe151",
   "metadata": {},
   "outputs": [],
   "source": [
    "list3[2]=90"
   ]
  },
  {
   "cell_type": "code",
   "execution_count": 35,
   "id": "1bfb5d1a",
   "metadata": {},
   "outputs": [
    {
     "data": {
      "text/plain": [
       "[10, 20, 90, 40]"
      ]
     },
     "execution_count": 35,
     "metadata": {},
     "output_type": "execute_result"
    }
   ],
   "source": [
    "list3"
   ]
  },
  {
   "cell_type": "code",
   "execution_count": 36,
   "id": "10f870ca",
   "metadata": {},
   "outputs": [],
   "source": [
    "list3.extend([110,130])"
   ]
  },
  {
   "cell_type": "code",
   "execution_count": 37,
   "id": "1a901b0d",
   "metadata": {},
   "outputs": [
    {
     "data": {
      "text/plain": [
       "[10, 20, 90, 40, 110, 130]"
      ]
     },
     "execution_count": 37,
     "metadata": {},
     "output_type": "execute_result"
    }
   ],
   "source": [
    "list3"
   ]
  },
  {
   "cell_type": "markdown",
   "id": "ce217307",
   "metadata": {},
   "source": [
    "# Tuples"
   ]
  },
  {
   "cell_type": "code",
   "execution_count": 38,
   "id": "8bb3f73f",
   "metadata": {},
   "outputs": [],
   "source": [
    "t1=(2,4,6,8,11)"
   ]
  },
  {
   "cell_type": "code",
   "execution_count": 39,
   "id": "eceb1176",
   "metadata": {},
   "outputs": [
    {
     "data": {
      "text/plain": [
       "(2, 4, 6, 8, 11)"
      ]
     },
     "execution_count": 39,
     "metadata": {},
     "output_type": "execute_result"
    }
   ],
   "source": [
    "t1"
   ]
  },
  {
   "cell_type": "code",
   "execution_count": 40,
   "id": "e8be1988",
   "metadata": {},
   "outputs": [
    {
     "ename": "SyntaxError",
     "evalue": "cannot assign to function call (Temp/ipykernel_5252/2993693404.py, line 1)",
     "output_type": "error",
     "traceback": [
      "\u001b[1;36m  File \u001b[1;32m\"C:\\Users\\Hp\\AppData\\Local\\Temp/ipykernel_5252/2993693404.py\"\u001b[1;36m, line \u001b[1;32m1\u001b[0m\n\u001b[1;33m    t1(2)=9\u001b[0m\n\u001b[1;37m    ^\u001b[0m\n\u001b[1;31mSyntaxError\u001b[0m\u001b[1;31m:\u001b[0m cannot assign to function call\n"
     ]
    }
   ],
   "source": [
    "t1(2)=9"
   ]
  },
  {
   "cell_type": "code",
   "execution_count": 41,
   "id": "01eac2ca",
   "metadata": {},
   "outputs": [
    {
     "ename": "TypeError",
     "evalue": "'tuple' object does not support item assignment",
     "output_type": "error",
     "traceback": [
      "\u001b[1;31m---------------------------------------------------------------------------\u001b[0m",
      "\u001b[1;31mTypeError\u001b[0m                                 Traceback (most recent call last)",
      "\u001b[1;32m~\\AppData\\Local\\Temp/ipykernel_5252/1095857756.py\u001b[0m in \u001b[0;36m<module>\u001b[1;34m\u001b[0m\n\u001b[1;32m----> 1\u001b[1;33m \u001b[0mt1\u001b[0m\u001b[1;33m[\u001b[0m\u001b[1;36m2\u001b[0m\u001b[1;33m]\u001b[0m\u001b[1;33m=\u001b[0m\u001b[1;36m9\u001b[0m\u001b[1;33m\u001b[0m\u001b[1;33m\u001b[0m\u001b[0m\n\u001b[0m",
      "\u001b[1;31mTypeError\u001b[0m: 'tuple' object does not support item assignment"
     ]
    }
   ],
   "source": [
    "t1[2]=9"
   ]
  },
  {
   "cell_type": "code",
   "execution_count": 42,
   "id": "c6ce1fd4",
   "metadata": {},
   "outputs": [
    {
     "ename": "SyntaxError",
     "evalue": "invalid syntax (Temp/ipykernel_5252/1772828998.py, line 1)",
     "output_type": "error",
     "traceback": [
      "\u001b[1;36m  File \u001b[1;32m\"C:\\Users\\Hp\\AppData\\Local\\Temp/ipykernel_5252/1772828998.py\"\u001b[1;36m, line \u001b[1;32m1\u001b[0m\n\u001b[1;33m    t1{2}=9\u001b[0m\n\u001b[1;37m      ^\u001b[0m\n\u001b[1;31mSyntaxError\u001b[0m\u001b[1;31m:\u001b[0m invalid syntax\n"
     ]
    }
   ],
   "source": [
    "t1{2}=9"
   ]
  },
  {
   "cell_type": "code",
   "execution_count": null,
   "id": "dc969aef",
   "metadata": {},
   "outputs": [],
   "source": []
  }
 ],
 "metadata": {
  "kernelspec": {
   "display_name": "Python 3 (ipykernel)",
   "language": "python",
   "name": "python3"
  },
  "language_info": {
   "codemirror_mode": {
    "name": "ipython",
    "version": 3
   },
   "file_extension": ".py",
   "mimetype": "text/x-python",
   "name": "python",
   "nbconvert_exporter": "python",
   "pygments_lexer": "ipython3",
   "version": "3.9.7"
  }
 },
 "nbformat": 4,
 "nbformat_minor": 5
}
