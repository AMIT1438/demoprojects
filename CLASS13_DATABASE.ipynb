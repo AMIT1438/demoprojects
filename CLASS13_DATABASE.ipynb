{
 "cells": [
  {
   "cell_type": "code",
   "execution_count": 1,
   "id": "aeccb736",
   "metadata": {},
   "outputs": [],
   "source": [
    "import sqlite3\n",
    "db=sqlite3.connect(\"E:\\\\DATA_TRAINED\\\\myfiles\\\\mydata.db\", timeout=10)\n",
    "cur=db.cursor()"
   ]
  },
  {
   "cell_type": "code",
   "execution_count": 5,
   "id": "18098307",
   "metadata": {},
   "outputs": [],
   "source": [
    "cur.execute(\"drop table if exists student\")\n",
    "cur.execute(\"create table student(id int primary key,name text,marks int)\")\n",
    "cur.execute(\"insert into student(id,name,marks) values(1,'Ram',100)\")\n",
    "cur.execute(\"insert into student(id,name,marks) values(2,'Mohan',105)\")\n",
    "cur.execute(\"insert into student(id,name,marks) values(3,'Sohan',110)\")\n",
    "cur.execute(\"insert into student(id,name,marks) values(4,'Kapil',115)\")\n",
    "cur.execute(\"insert into student(id,name,marks) values(5,'Ravi',120)\")\n",
    "cur.execute(\"insert into student(id,name,marks) values(6,'Rajesh',125)\")\n",
    "cur.execute(\"insert into student(id,name,marks) values(7,'Sona',130)\")\n",
    "cur.execute(\"insert into student(id,name,marks) values(8,'Mona',135)\")\n",
    "db.commit()\n"
   ]
  },
  {
   "cell_type": "code",
   "execution_count": 15,
   "id": "40e62e2c",
   "metadata": {},
   "outputs": [
    {
     "name": "stdout",
     "output_type": "stream",
     "text": [
      "-1  Record inserted\n"
     ]
    }
   ],
   "source": [
    "print(cur.rowcount,\" Record inserted\")"
   ]
  },
  {
   "cell_type": "code",
   "execution_count": 17,
   "id": "7aaf6b01",
   "metadata": {},
   "outputs": [
    {
     "name": "stdout",
     "output_type": "stream",
     "text": [
      "(1, 'Ram', 100)\n",
      "(2, 'Mohan', 105)\n",
      "(3, 'Sohan', 110)\n",
      "(4, 'Kapil', 115)\n",
      "(5, 'Ravi', 120)\n",
      "(6, 'Rajesh', 125)\n",
      "(7, 'Sona', 130)\n",
      "(8, 'Mona', 135)\n",
      "(9, 'Ravi', 99)\n",
      "------------------------------\n"
     ]
    }
   ],
   "source": [
    "res=db.execute('select * from student order by id')\n",
    "for row in res:\n",
    "    print(row)\n",
    "print('-'*30)"
   ]
  },
  {
   "cell_type": "code",
   "execution_count": 12,
   "id": "916f72b2",
   "metadata": {},
   "outputs": [],
   "source": [
    "r=cur.execute('select count(*) from student')"
   ]
  },
  {
   "cell_type": "code",
   "execution_count": 13,
   "id": "06468667",
   "metadata": {},
   "outputs": [
    {
     "name": "stdout",
     "output_type": "stream",
     "text": [
      "<sqlite3.Cursor object at 0x0000022D33236E30>\n"
     ]
    }
   ],
   "source": [
    "print(r)"
   ]
  },
  {
   "cell_type": "code",
   "execution_count": 18,
   "id": "c9408605",
   "metadata": {},
   "outputs": [
    {
     "ename": "IntegrityError",
     "evalue": "UNIQUE constraint failed: student.id",
     "output_type": "error",
     "traceback": [
      "\u001b[1;31m---------------------------------------------------------------------------\u001b[0m",
      "\u001b[1;31mIntegrityError\u001b[0m                            Traceback (most recent call last)",
      "\u001b[1;32m~\\AppData\\Local\\Temp/ipykernel_9916/2248126129.py\u001b[0m in \u001b[0;36m<module>\u001b[1;34m\u001b[0m\n\u001b[1;32m----> 1\u001b[1;33m \u001b[0mcur\u001b[0m\u001b[1;33m.\u001b[0m\u001b[0mexecute\u001b[0m\u001b[1;33m(\u001b[0m\u001b[1;34m\"insert into student values(9,'Ravi',99)\"\u001b[0m\u001b[1;33m)\u001b[0m\u001b[1;33m\u001b[0m\u001b[1;33m\u001b[0m\u001b[0m\n\u001b[0m",
      "\u001b[1;31mIntegrityError\u001b[0m: UNIQUE constraint failed: student.id"
     ]
    }
   ],
   "source": [
    "cur.execute(\"insert into student values(9,'Ravi',99)\")"
   ]
  },
  {
   "cell_type": "code",
   "execution_count": 27,
   "id": "84d11148",
   "metadata": {},
   "outputs": [
    {
     "name": "stdout",
     "output_type": "stream",
     "text": [
      "1\n"
     ]
    }
   ],
   "source": [
    "c=cur.execute('select count(*) from student')\n",
    "print(len(c.fetchall()))"
   ]
  },
  {
   "cell_type": "code",
   "execution_count": 30,
   "id": "3d7c0f95",
   "metadata": {},
   "outputs": [
    {
     "name": "stdout",
     "output_type": "stream",
     "text": [
      "None\n"
     ]
    }
   ],
   "source": [
    "print(cur.fetchone())"
   ]
  },
  {
   "cell_type": "code",
   "execution_count": 28,
   "id": "8d2a7fb3",
   "metadata": {},
   "outputs": [
    {
     "name": "stdout",
     "output_type": "stream",
     "text": [
      "9\n"
     ]
    }
   ],
   "source": [
    "c=cur.execute('select * from student')\n",
    "print(len(c.fetchall()))"
   ]
  },
  {
   "cell_type": "code",
   "execution_count": 29,
   "id": "fcf8778b",
   "metadata": {},
   "outputs": [
    {
     "name": "stdout",
     "output_type": "stream",
     "text": [
      "9\n"
     ]
    }
   ],
   "source": [
    "c=cur.execute('select * from student')\n",
    "print(len(c.fetchall()))"
   ]
  },
  {
   "cell_type": "code",
   "execution_count": 32,
   "id": "f456f6d4",
   "metadata": {},
   "outputs": [
    {
     "name": "stdout",
     "output_type": "stream",
     "text": [
      "(1, 'Ram')\n",
      "(2, 'Mohan')\n",
      "(3, 'Sohan')\n",
      "(4, 'Kapil')\n",
      "(5, 'Ravi')\n",
      "(6, 'Rajesh')\n",
      "(7, 'Sona')\n",
      "(8, 'Mona')\n",
      "(9, 'Ravi')\n"
     ]
    }
   ],
   "source": [
    "res=cur.execute('select id,name from student')\n",
    "for row in res:\n",
    "    print(row)"
   ]
  },
  {
   "cell_type": "code",
   "execution_count": null,
   "id": "c17acd7f",
   "metadata": {},
   "outputs": [],
   "source": []
  }
 ],
 "metadata": {
  "kernelspec": {
   "display_name": "Python 3 (ipykernel)",
   "language": "python",
   "name": "python3"
  },
  "language_info": {
   "codemirror_mode": {
    "name": "ipython",
    "version": 3
   },
   "file_extension": ".py",
   "mimetype": "text/x-python",
   "name": "python",
   "nbconvert_exporter": "python",
   "pygments_lexer": "ipython3",
   "version": "3.9.7"
  }
 },
 "nbformat": 4,
 "nbformat_minor": 5
}
