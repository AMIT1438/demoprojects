{
 "cells": [
  {
   "cell_type": "code",
   "execution_count": 2,
   "id": "cf7db84d",
   "metadata": {},
   "outputs": [
    {
     "name": "stdout",
     "output_type": "stream",
     "text": [
      "I am 21 year old\n"
     ]
    }
   ],
   "source": [
    "x='I am '\n",
    "y=21\n",
    "z=' year old'\n",
    "print (x+str(y)+z)"
   ]
  },
  {
   "cell_type": "code",
   "execution_count": 3,
   "id": "7d4d3f3a",
   "metadata": {},
   "outputs": [
    {
     "data": {
      "text/plain": [
       "'I am 21 year old'"
      ]
     },
     "execution_count": 3,
     "metadata": {},
     "output_type": "execute_result"
    }
   ],
   "source": [
    "x+str(y)+z"
   ]
  },
  {
   "cell_type": "code",
   "execution_count": 4,
   "id": "1c357792",
   "metadata": {},
   "outputs": [
    {
     "name": "stdout",
     "output_type": "stream",
     "text": [
      "9\n"
     ]
    }
   ],
   "source": [
    "def addnum(n1,n2):\n",
    "    return(n1+n2)\n",
    "print(addnum(4,5))"
   ]
  },
  {
   "cell_type": "code",
   "execution_count": 6,
   "id": "0fd1bab8",
   "metadata": {},
   "outputs": [],
   "source": [
    "def isprime(n):\n",
    "    for i in range(2,n):\n",
    "        if(n%i==0):\n",
    "            print('not prime ', n)\n",
    "            break\n",
    "    else:\n",
    "        print('Prime no.',n)"
   ]
  },
  {
   "cell_type": "code",
   "execution_count": 7,
   "id": "d852107b",
   "metadata": {},
   "outputs": [
    {
     "name": "stdout",
     "output_type": "stream",
     "text": [
      "Prime no. 23\n"
     ]
    }
   ],
   "source": [
    "isprime(23)"
   ]
  },
  {
   "cell_type": "code",
   "execution_count": 8,
   "id": "a92e2d1a",
   "metadata": {},
   "outputs": [
    {
     "name": "stdout",
     "output_type": "stream",
     "text": [
      "not prime  22\n"
     ]
    }
   ],
   "source": [
    "isprime(22)"
   ]
  },
  {
   "cell_type": "code",
   "execution_count": 9,
   "id": "e94ad841",
   "metadata": {},
   "outputs": [],
   "source": [
    "def myfun(*arg):\n",
    "    for i in arg:\n",
    "        print(i)"
   ]
  },
  {
   "cell_type": "code",
   "execution_count": 10,
   "id": "e0586693",
   "metadata": {},
   "outputs": [
    {
     "name": "stdout",
     "output_type": "stream",
     "text": [
      "aa\n",
      "45\n",
      "56\n",
      "yyyyy\n"
     ]
    }
   ],
   "source": [
    "myfun('aa',45,56,'yyyyy')"
   ]
  },
  {
   "cell_type": "code",
   "execution_count": 11,
   "id": "2150adc2",
   "metadata": {},
   "outputs": [],
   "source": [
    "def my_quargs(**kwarg):\n",
    "    for key,value in kwarg.items():\n",
    "        print(key,value)"
   ]
  },
  {
   "cell_type": "code",
   "execution_count": 12,
   "id": "78e3d8f5",
   "metadata": {},
   "outputs": [
    {
     "name": "stdout",
     "output_type": "stream",
     "text": [
      "name amit\n",
      "qualifacation ['Sci', 'teacher']\n"
     ]
    }
   ],
   "source": [
    "my_quargs(name='amit',qualifacation=[\"Sci\",'teacher'])"
   ]
  },
  {
   "cell_type": "code",
   "execution_count": 14,
   "id": "fa67860c",
   "metadata": {},
   "outputs": [
    {
     "name": "stdout",
     "output_type": "stream",
     "text": [
      "name ['amit', 'yu', 'ffff']\n",
      "qualifacation ['Sci', 'teacher']\n"
     ]
    }
   ],
   "source": [
    "my_quargs(name=['amit','yu','ffff'],qualifacation=[\"Sci\",'teacher'])"
   ]
  },
  {
   "cell_type": "code",
   "execution_count": null,
   "id": "9e4391d9",
   "metadata": {},
   "outputs": [],
   "source": []
  },
  {
   "cell_type": "code",
   "execution_count": null,
   "id": "18ca63d0",
   "metadata": {},
   "outputs": [],
   "source": []
  }
 ],
 "metadata": {
  "kernelspec": {
   "display_name": "Python 3 (ipykernel)",
   "language": "python",
   "name": "python3"
  },
  "language_info": {
   "codemirror_mode": {
    "name": "ipython",
    "version": 3
   },
   "file_extension": ".py",
   "mimetype": "text/x-python",
   "name": "python",
   "nbconvert_exporter": "python",
   "pygments_lexer": "ipython3",
   "version": "3.9.7"
  }
 },
 "nbformat": 4,
 "nbformat_minor": 5
}
