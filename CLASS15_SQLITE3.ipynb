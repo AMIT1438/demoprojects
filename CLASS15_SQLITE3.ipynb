{
 "cells": [
  {
   "cell_type": "code",
   "execution_count": 1,
   "id": "46b98be7",
   "metadata": {},
   "outputs": [],
   "source": [
    "import sqlite3\n",
    "db=sqlite3.connect(\"E:\\\\DATA_TRAINED\\\\myfiles\\\\sports.db\")\n",
    "cur=db.cursor()"
   ]
  },
  {
   "cell_type": "code",
   "execution_count": 2,
   "id": "f5840f3d",
   "metadata": {},
   "outputs": [
    {
     "data": {
      "text/plain": [
       "<sqlite3.Cursor at 0x150fd607e30>"
      ]
     },
     "execution_count": 2,
     "metadata": {},
     "output_type": "execute_result"
    }
   ],
   "source": [
    "cur.execute(\"create table sport(id int primary key,sportname text unique,dateofevent date,country text not null)\")"
   ]
  },
  {
   "cell_type": "code",
   "execution_count": 3,
   "id": "c458298d",
   "metadata": {},
   "outputs": [
    {
     "data": {
      "text/plain": [
       "<sqlite3.Cursor at 0x150fd607e30>"
      ]
     },
     "execution_count": 3,
     "metadata": {},
     "output_type": "execute_result"
    }
   ],
   "source": [
    "cur.execute(\"insert into sport values(1,'Cricket','2021-11-09','India')\")"
   ]
  },
  {
   "cell_type": "code",
   "execution_count": 4,
   "id": "5b019707",
   "metadata": {},
   "outputs": [
    {
     "data": {
      "text/plain": [
       "<sqlite3.Cursor at 0x150fd607e30>"
      ]
     },
     "execution_count": 4,
     "metadata": {},
     "output_type": "execute_result"
    }
   ],
   "source": [
    "cur.execute(\"insert into sport values(2,'Tennis','2021-12-08','Srilanka')\")"
   ]
  },
  {
   "cell_type": "code",
   "execution_count": 5,
   "id": "f512a393",
   "metadata": {},
   "outputs": [
    {
     "name": "stdout",
     "output_type": "stream",
     "text": [
      "1   records inserted\n"
     ]
    }
   ],
   "source": [
    "print(cur.rowcount,\"  records inserted\")"
   ]
  },
  {
   "cell_type": "code",
   "execution_count": 6,
   "id": "a2a0090c",
   "metadata": {},
   "outputs": [
    {
     "data": {
      "text/plain": [
       "[(1, 'Cricket', '2021-11-09', 'India'),\n",
       " (2, 'Tennis', '2021-12-08', 'Srilanka')]"
      ]
     },
     "execution_count": 6,
     "metadata": {},
     "output_type": "execute_result"
    }
   ],
   "source": [
    "res=cur.execute('select * from sport')\n",
    "res.fetchall()"
   ]
  },
  {
   "cell_type": "code",
   "execution_count": 7,
   "id": "2e4b92c4",
   "metadata": {},
   "outputs": [
    {
     "name": "stdout",
     "output_type": "stream",
     "text": [
      "<sqlite3.Cursor object at 0x00000150FD607E30>\n"
     ]
    }
   ],
   "source": [
    "print(res)"
   ]
  },
  {
   "cell_type": "code",
   "execution_count": 8,
   "id": "7dce5646",
   "metadata": {},
   "outputs": [
    {
     "ename": "SyntaxError",
     "evalue": "invalid syntax (Temp/ipykernel_17956/2973463866.py, line 1)",
     "output_type": "error",
     "traceback": [
      "\u001b[1;36m  File \u001b[1;32m\"C:\\Users\\Hp\\AppData\\Local\\Temp/ipykernel_17956/2973463866.py\"\u001b[1;36m, line \u001b[1;32m1\u001b[0m\n\u001b[1;33m    res=cur.execute('insert into sport values(2,'Tennis','2021-12-08','Srilanka')\")\u001b[0m\n\u001b[1;37m                                                 ^\u001b[0m\n\u001b[1;31mSyntaxError\u001b[0m\u001b[1;31m:\u001b[0m invalid syntax\n"
     ]
    }
   ],
   "source": [
    "res=cur.execute('insert into sport values(2,'Tennis','2021-12-08','Srilanka')\")"
   ]
  },
  {
   "cell_type": "code",
   "execution_count": 19,
   "id": "5d4f9994",
   "metadata": {},
   "outputs": [
    {
     "ename": "IntegrityError",
     "evalue": "NOT NULL constraint failed: sport.country",
     "output_type": "error",
     "traceback": [
      "\u001b[1;31m---------------------------------------------------------------------------\u001b[0m",
      "\u001b[1;31mIntegrityError\u001b[0m                            Traceback (most recent call last)",
      "\u001b[1;32m~\\AppData\\Local\\Temp/ipykernel_17956/1776690924.py\u001b[0m in \u001b[0;36m<module>\u001b[1;34m\u001b[0m\n\u001b[1;32m----> 1\u001b[1;33m \u001b[0mcur\u001b[0m\u001b[1;33m.\u001b[0m\u001b[0mexecute\u001b[0m\u001b[1;33m(\u001b[0m\u001b[1;34m\"insert into sport values(4,'Foot','2021-12-19',Null)\"\u001b[0m\u001b[1;33m)\u001b[0m\u001b[1;33m\u001b[0m\u001b[1;33m\u001b[0m\u001b[0m\n\u001b[0m",
      "\u001b[1;31mIntegrityError\u001b[0m: NOT NULL constraint failed: sport.country"
     ]
    }
   ],
   "source": [
    "cur.execute(\"insert into sport values(4,'Foot','2021-12-19',Null)\")"
   ]
  },
  {
   "cell_type": "code",
   "execution_count": 18,
   "id": "453bf12e",
   "metadata": {},
   "outputs": [
    {
     "data": {
      "text/plain": [
       "<sqlite3.Cursor at 0x150fd607e30>"
      ]
     },
     "execution_count": 18,
     "metadata": {},
     "output_type": "execute_result"
    }
   ],
   "source": [
    "cur.execute(\"insert into sport values(3,'Football','2021-12-09','America')\")"
   ]
  },
  {
   "cell_type": "code",
   "execution_count": 22,
   "id": "2cbe9eeb",
   "metadata": {},
   "outputs": [
    {
     "data": {
      "text/plain": [
       "[(1, 'Cricket', '2021-11-09', 'India'),\n",
       " (2, 'Tennis', '2021-12-08', 'Srilanka'),\n",
       " (3, 'Football', '2021-12-09', 'America')]"
      ]
     },
     "execution_count": 22,
     "metadata": {},
     "output_type": "execute_result"
    }
   ],
   "source": [
    "res=cur.execute('select * from sport')\n",
    "db.commit()\n",
    "res.fetchall()"
   ]
  },
  {
   "cell_type": "code",
   "execution_count": 24,
   "id": "161f1368",
   "metadata": {},
   "outputs": [],
   "source": [
    "import sqlite3\n",
    "con=sqlite3.connect(\"E:\\\\DATA_TRAINED\\\\myfiles\\\\empdatabase.db\")"
   ]
  },
  {
   "cell_type": "code",
   "execution_count": 25,
   "id": "12c18d13",
   "metadata": {},
   "outputs": [],
   "source": [
    "def sql_table(con):\n",
    "    cur=con.cursor()\n",
    "    cur.execute(\"create table employee(id int primary key,name text,salary real,department text,position text,hiredate date)\")\n",
    "    con.commit()\n",
    "    "
   ]
  },
  {
   "cell_type": "code",
   "execution_count": 31,
   "id": "4fa8347a",
   "metadata": {},
   "outputs": [],
   "source": [
    "con.execute(\"drop table employee\")\n",
    "sql_table(con)"
   ]
  },
  {
   "cell_type": "code",
   "execution_count": 33,
   "id": "5179becb",
   "metadata": {},
   "outputs": [],
   "source": [
    "cur=con.cursor()"
   ]
  },
  {
   "cell_type": "code",
   "execution_count": 35,
   "id": "ec3b6982",
   "metadata": {},
   "outputs": [
    {
     "data": {
      "text/plain": [
       "<sqlite3.Cursor at 0x150fd7cb340>"
      ]
     },
     "execution_count": 35,
     "metadata": {},
     "output_type": "execute_result"
    }
   ],
   "source": [
    "cur.execute(\"insert into employee values(1,'Amit',20000,'Accounts','Manager','2022-06-23')\")"
   ]
  },
  {
   "cell_type": "code",
   "execution_count": 38,
   "id": "ec5e5b82",
   "metadata": {},
   "outputs": [],
   "source": [
    "def sql_insert(con,entities):\n",
    "    cur=con.cursor()\n",
    "    cur.execute(\"insert into employee values(?,?,?,?,?,?)\",entities)\n",
    "    con.commit()"
   ]
  },
  {
   "cell_type": "code",
   "execution_count": 43,
   "id": "89c8cdc2",
   "metadata": {},
   "outputs": [],
   "source": [
    "entities=(3,'ravi',30000,'Admin','Asst Manager','2022-05-21')"
   ]
  },
  {
   "cell_type": "code",
   "execution_count": 44,
   "id": "5331dcf2",
   "metadata": {},
   "outputs": [],
   "source": [
    "sql_insert(con,entities)"
   ]
  },
  {
   "cell_type": "code",
   "execution_count": 45,
   "id": "d172adc5",
   "metadata": {},
   "outputs": [
    {
     "data": {
      "text/plain": [
       "[(1, 'Amit', 20000.0, 'Accounts', 'Manager', '2022-06-23'),\n",
       " (2, 'Mohan', 30000.0, 'Admin', 'Asst Manager', '2022-05-21'),\n",
       " (3, 'ravi', 30000.0, 'Admin', 'Asst Manager', '2022-05-21')]"
      ]
     },
     "execution_count": 45,
     "metadata": {},
     "output_type": "execute_result"
    }
   ],
   "source": [
    "cur.execute(\"select * from employee\")\n",
    "cur.fetchall()"
   ]
  },
  {
   "cell_type": "code",
   "execution_count": 46,
   "id": "7230d791",
   "metadata": {},
   "outputs": [
    {
     "data": {
      "text/plain": [
       "[(1, 'Amit', 20000.0, 'Accounts', 'Manager', '2022-06-23'),\n",
       " (2, 'Mohan', 30000.0, 'Admin', 'Asst Manager', '2022-05-21'),\n",
       " (3, 'ravi', 30000.0, 'Admin', 'Asst Manager', '2022-05-21')]"
      ]
     },
     "execution_count": 46,
     "metadata": {},
     "output_type": "execute_result"
    }
   ],
   "source": [
    "res=cur.execute(\"select * from employee\")\n",
    "res.fetchall()"
   ]
  },
  {
   "cell_type": "code",
   "execution_count": 47,
   "id": "c1293ab8",
   "metadata": {},
   "outputs": [],
   "source": [
    "def sql_update(con):\n",
    "    cur=con.cursor()\n",
    "    cur.execute(\"update employee set Name='Martin' where id=1\")\n",
    "    con.commit()"
   ]
  },
  {
   "cell_type": "code",
   "execution_count": 48,
   "id": "fef19478",
   "metadata": {},
   "outputs": [],
   "source": [
    "sql_update(con)"
   ]
  },
  {
   "cell_type": "code",
   "execution_count": 49,
   "id": "1b881f04",
   "metadata": {},
   "outputs": [
    {
     "data": {
      "text/plain": [
       "[(1, 'Martin', 20000.0, 'Accounts', 'Manager', '2022-06-23'),\n",
       " (2, 'Mohan', 30000.0, 'Admin', 'Asst Manager', '2022-05-21'),\n",
       " (3, 'ravi', 30000.0, 'Admin', 'Asst Manager', '2022-05-21')]"
      ]
     },
     "execution_count": 49,
     "metadata": {},
     "output_type": "execute_result"
    }
   ],
   "source": [
    "res=cur.execute(\"select * from employee\")\n",
    "res.fetchall()"
   ]
  },
  {
   "cell_type": "code",
   "execution_count": 4,
   "id": "9a8b9438",
   "metadata": {},
   "outputs": [
    {
     "data": {
      "text/plain": [
       "<sqlite3.Cursor at 0x214fe3e7c70>"
      ]
     },
     "execution_count": 4,
     "metadata": {},
     "output_type": "execute_result"
    }
   ],
   "source": [
    "cur.execute(\"insert into employee values(4,'Rohit',40000,'IT','Manager','2022-06-23')\")"
   ]
  },
  {
   "cell_type": "code",
   "execution_count": 5,
   "id": "c384b295",
   "metadata": {},
   "outputs": [
    {
     "data": {
      "text/plain": [
       "<sqlite3.Cursor at 0x214fe3e7c70>"
      ]
     },
     "execution_count": 5,
     "metadata": {},
     "output_type": "execute_result"
    }
   ],
   "source": [
    "cur.execute(\"insert into employee values(5,'Ravi',8000,'IT','Clerk','2022-06-23')\")"
   ]
  },
  {
   "cell_type": "code",
   "execution_count": 52,
   "id": "1daba9d9",
   "metadata": {},
   "outputs": [
    {
     "data": {
      "text/plain": [
       "[(1, 'Martin', 20000.0, 'Accounts', 'Manager', '2022-06-23'),\n",
       " (2, 'Mohan', 30000.0, 'Admin', 'Asst Manager', '2022-05-21'),\n",
       " (3, 'ravi', 30000.0, 'Admin', 'Asst Manager', '2022-05-21'),\n",
       " (4, 'Rohit', 40000.0, 'IT', 'Manager', '2022-06-23'),\n",
       " (5, 'Ravi', 8000.0, 'IT', 'Clerk', '2022-06-23')]"
      ]
     },
     "execution_count": 52,
     "metadata": {},
     "output_type": "execute_result"
    }
   ],
   "source": [
    "res=cur.execute(\"select * from employee\")\n",
    "res.fetchall()"
   ]
  },
  {
   "cell_type": "code",
   "execution_count": 61,
   "id": "8e51c44f",
   "metadata": {},
   "outputs": [],
   "source": [
    "def sql_query(query):\n",
    "    cur=con.cursor()\n",
    "    res=cur.execute(query)\n",
    "    return res"
   ]
  },
  {
   "cell_type": "code",
   "execution_count": 62,
   "id": "d0b6a9fb",
   "metadata": {},
   "outputs": [],
   "source": [
    "res=sql_query(\"select * from employee\")"
   ]
  },
  {
   "cell_type": "code",
   "execution_count": 63,
   "id": "dcccdaed",
   "metadata": {},
   "outputs": [
    {
     "data": {
      "text/plain": [
       "[(1, 'Martin', 20000.0, 'Accounts', 'Manager', '2022-06-23'),\n",
       " (2, 'Mohan', 30000.0, 'Admin', 'Asst Manager', '2022-05-21'),\n",
       " (3, 'ravi', 30000.0, 'Admin', 'Asst Manager', '2022-05-21'),\n",
       " (4, 'Rohit', 40000.0, 'IT', 'Manager', '2022-06-23'),\n",
       " (5, 'Ravi', 8000.0, 'IT', 'Clerk', '2022-06-23')]"
      ]
     },
     "execution_count": 63,
     "metadata": {},
     "output_type": "execute_result"
    }
   ],
   "source": [
    "res.fetchall()"
   ]
  },
  {
   "cell_type": "code",
   "execution_count": 64,
   "id": "2490549a",
   "metadata": {},
   "outputs": [
    {
     "data": {
      "text/plain": [
       "[(1, 'Martin', 20000.0, 'Accounts', 'Manager', '2022-06-23'),\n",
       " (2, 'Mohan', 30000.0, 'Admin', 'Asst Manager', '2022-05-21'),\n",
       " (3, 'ravi', 30000.0, 'Admin', 'Asst Manager', '2022-05-21')]"
      ]
     },
     "execution_count": 64,
     "metadata": {},
     "output_type": "execute_result"
    }
   ],
   "source": [
    "q=\"select * from employee where id<4\"\n",
    "res=sql_query(q)\n",
    "res.fetchall()"
   ]
  },
  {
   "cell_type": "code",
   "execution_count": 65,
   "id": "b1f14bb9",
   "metadata": {},
   "outputs": [
    {
     "data": {
      "text/plain": [
       "[('Accounts',), ('Admin',), ('IT',)]"
      ]
     },
     "execution_count": 65,
     "metadata": {},
     "output_type": "execute_result"
    }
   ],
   "source": [
    "q=\"select distinct department from employee \"\n",
    "res=sql_query(q)\n",
    "res.fetchall()"
   ]
  },
  {
   "cell_type": "code",
   "execution_count": 68,
   "id": "4f2f29f1",
   "metadata": {},
   "outputs": [
    {
     "data": {
      "text/plain": [
       "[(3,)]"
      ]
     },
     "execution_count": 68,
     "metadata": {},
     "output_type": "execute_result"
    }
   ],
   "source": [
    "q=\"select count(distinct department) from employee \"\n",
    "res=sql_query(q)\n",
    "res.fetchall()"
   ]
  },
  {
   "cell_type": "code",
   "execution_count": 67,
   "id": "1edfdbe8",
   "metadata": {},
   "outputs": [
    {
     "data": {
      "text/plain": [
       "[(3,)]"
      ]
     },
     "execution_count": 67,
     "metadata": {},
     "output_type": "execute_result"
    }
   ],
   "source": [
    "q=\"select count(distinct (department)) from employee \"\n",
    "res=sql_query(q)\n",
    "res.fetchall()"
   ]
  },
  {
   "cell_type": "code",
   "execution_count": 69,
   "id": "c13a934c",
   "metadata": {},
   "outputs": [
    {
     "data": {
      "text/plain": [
       "[(60000.0, 'Asst Manager'), (8000.0, 'Clerk'), (60000.0, 'Manager')]"
      ]
     },
     "execution_count": 69,
     "metadata": {},
     "output_type": "execute_result"
    }
   ],
   "source": [
    "q=\"select sum(salary),position from employee group by position \"\n",
    "res=sql_query(q)\n",
    "res.fetchall()"
   ]
  },
  {
   "cell_type": "code",
   "execution_count": 70,
   "id": "e9e26e7b",
   "metadata": {},
   "outputs": [
    {
     "data": {
      "text/plain": [
       "[(128000.0, 'Manager')]"
      ]
     },
     "execution_count": 70,
     "metadata": {},
     "output_type": "execute_result"
    }
   ],
   "source": [
    "q=\"select sum(salary),position from employee  \"\n",
    "res=sql_query(q)\n",
    "res.fetchall()"
   ]
  },
  {
   "cell_type": "code",
   "execution_count": 1,
   "id": "9ff3a675",
   "metadata": {},
   "outputs": [],
   "source": [
    "import sqlite3 as s\n",
    "db=s.connect(\"E:\\\\DATA_TRAINED\\\\myfiles\\\\empdatabase.db\")\n",
    "cur=db.cursor()"
   ]
  },
  {
   "cell_type": "code",
   "execution_count": 2,
   "id": "3e178293",
   "metadata": {},
   "outputs": [
    {
     "data": {
      "text/plain": [
       "<sqlite3.Cursor at 0x214fe3e7c70>"
      ]
     },
     "execution_count": 2,
     "metadata": {},
     "output_type": "execute_result"
    }
   ],
   "source": [
    "entities=[(6,'Kalu',3000,'Accounts','Clerk','2022-05-21'),(7,'Bholu',13000,'Accounts','DM','2022-05-21')]\n",
    "cur.executemany(\"insert into employee values(?,?,?,?,?,?)\",entities)\n",
    "db.commit()"
   ]
  },
  {
   "cell_type": "code",
   "execution_count": 7,
   "id": "093c47a6",
   "metadata": {},
   "outputs": [
    {
     "data": {
      "text/plain": [
       "[(1, 'Martin', 20000.0, 'Accounts', 'Manager', '2022-06-23'),\n",
       " (2, 'Mohan', 30000.0, 'Admin', 'Asst Manager', '2022-05-21'),\n",
       " (3, 'ravi', 30000.0, 'Admin', 'Asst Manager', '2022-05-21'),\n",
       " (4, 'Rohit', 40000.0, 'IT', 'Manager', '2022-06-23'),\n",
       " (5, 'Ravi', 8000.0, 'IT', 'Clerk', '2022-06-23'),\n",
       " (6, 'Kalu', 3000.0, 'Accounts', 'Clerk', '2022-05-21'),\n",
       " (7, 'Bholu', 13000.0, 'Accounts', 'DM', '2022-05-21')]"
      ]
     },
     "execution_count": 7,
     "metadata": {},
     "output_type": "execute_result"
    }
   ],
   "source": [
    "res=cur.execute('select * from employee order by id')\n",
    "res.fetchall()"
   ]
  },
  {
   "cell_type": "code",
   "execution_count": 8,
   "id": "1adc93e6",
   "metadata": {},
   "outputs": [],
   "source": [
    "entities=[(8,'Kalu',3000,'Accounts','Clerk','2022-05-21'),(9,'Bholu',13000,'Accounts','DM','2022-05-21')]\n",
    "cur.executemany(\"insert into employee values(?,?,?,?,?,?)\",entities)\n",
    "db.commit()"
   ]
  },
  {
   "cell_type": "code",
   "execution_count": 9,
   "id": "e70b3e12",
   "metadata": {},
   "outputs": [
    {
     "data": {
      "text/plain": [
       "[(1, 'Martin', 20000.0, 'Accounts', 'Manager', '2022-06-23'),\n",
       " (2, 'Mohan', 30000.0, 'Admin', 'Asst Manager', '2022-05-21'),\n",
       " (3, 'ravi', 30000.0, 'Admin', 'Asst Manager', '2022-05-21'),\n",
       " (4, 'Rohit', 40000.0, 'IT', 'Manager', '2022-06-23'),\n",
       " (5, 'Ravi', 8000.0, 'IT', 'Clerk', '2022-06-23'),\n",
       " (6, 'Kalu', 3000.0, 'Accounts', 'Clerk', '2022-05-21'),\n",
       " (7, 'Bholu', 13000.0, 'Accounts', 'DM', '2022-05-21'),\n",
       " (8, 'Kalu', 3000.0, 'Accounts', 'Clerk', '2022-05-21'),\n",
       " (9, 'Bholu', 13000.0, 'Accounts', 'DM', '2022-05-21')]"
      ]
     },
     "execution_count": 9,
     "metadata": {},
     "output_type": "execute_result"
    }
   ],
   "source": [
    "res=cur.execute('select * from employee order by id')\n",
    "res.fetchall()"
   ]
  },
  {
   "cell_type": "code",
   "execution_count": 11,
   "id": "20d3e42c",
   "metadata": {},
   "outputs": [
    {
     "name": "stdout",
     "output_type": "stream",
     "text": [
      "(1, 'Martin', 20000.0, 'Accounts', 'Manager', '2022-06-23')\n",
      "(2, 'Mohan', 30000.0, 'Admin', 'Asst Manager', '2022-05-21')\n",
      "(3, 'ravi', 30000.0, 'Admin', 'Asst Manager', '2022-05-21')\n",
      "(4, 'Rohit', 40000.0, 'IT', 'Manager', '2022-06-23')\n",
      "(5, 'Ravi', 8000.0, 'IT', 'Clerk', '2022-06-23')\n",
      "(6, 'Kalu', 3000.0, 'Accounts', 'Clerk', '2022-05-21')\n",
      "(7, 'Bholu', 13000.0, 'Accounts', 'DM', '2022-05-21')\n",
      "(8, 'Kalu', 3000.0, 'Accounts', 'Clerk', '2022-05-21')\n",
      "(9, 'Bholu', 13000.0, 'Accounts', 'DM', '2022-05-21')\n"
     ]
    }
   ],
   "source": [
    "res=cur.execute('select * from employee order by id')\n",
    "for row in res:\n",
    "    print(row)"
   ]
  },
  {
   "cell_type": "code",
   "execution_count": 12,
   "id": "162461f9",
   "metadata": {},
   "outputs": [],
   "source": [
    "import sqlite3 as s\n",
    "db=s.connect(\"E:\\\\DATA_TRAINED\\\\myfiles\\\\studentdatabase.db\")\n",
    "cur=db.cursor()"
   ]
  },
  {
   "cell_type": "code",
   "execution_count": 25,
   "id": "0391956f",
   "metadata": {},
   "outputs": [
    {
     "data": {
      "text/plain": [
       "<sqlite3.Cursor at 0x214fe4d2b90>"
      ]
     },
     "execution_count": 25,
     "metadata": {},
     "output_type": "execute_result"
    }
   ],
   "source": [
    "cur.execute(\"drop table course\")\n",
    "cur.execute(\"create table course(course_id int primary key,coursename text,duration int)\")"
   ]
  },
  {
   "cell_type": "code",
   "execution_count": 26,
   "id": "4ecd0349",
   "metadata": {},
   "outputs": [
    {
     "data": {
      "text/plain": [
       "<sqlite3.Cursor at 0x214fe4d2b90>"
      ]
     },
     "execution_count": 26,
     "metadata": {},
     "output_type": "execute_result"
    }
   ],
   "source": [
    "cur.execute(\"drop table student\")\n",
    "cur.execute(\"create table student(student_id int primary key,studentname text,age int,course_id int,foreign key(course_id) references course(course_id))\")"
   ]
  },
  {
   "cell_type": "code",
   "execution_count": 27,
   "id": "2558e9ec",
   "metadata": {},
   "outputs": [
    {
     "data": {
      "text/plain": [
       "<sqlite3.Cursor at 0x214fe4d2b90>"
      ]
     },
     "execution_count": 27,
     "metadata": {},
     "output_type": "execute_result"
    }
   ],
   "source": [
    "cur.execute(\"insert into course values(1,'DS',2),(2,'DCO',3),(3,'Funda',1),(4,'SE',1)\")"
   ]
  },
  {
   "cell_type": "code",
   "execution_count": 28,
   "id": "97f653b8",
   "metadata": {},
   "outputs": [
    {
     "name": "stdout",
     "output_type": "stream",
     "text": [
      "(1, 'DS', 2)\n",
      "(2, 'DCO', 3)\n",
      "(3, 'Funda', 1)\n",
      "(4, 'SE', 1)\n"
     ]
    }
   ],
   "source": [
    "res=cur.execute(\"select * from course\")\n",
    "for row in res:\n",
    "    print(row)"
   ]
  },
  {
   "cell_type": "code",
   "execution_count": 29,
   "id": "5aeca6a7",
   "metadata": {},
   "outputs": [
    {
     "data": {
      "text/plain": [
       "<sqlite3.Cursor at 0x214fe4d2b90>"
      ]
     },
     "execution_count": 29,
     "metadata": {},
     "output_type": "execute_result"
    }
   ],
   "source": [
    "cur.execute(\"insert into student values(101,'Amit',25,4),(102,'Sumit',28,2),(103,'Kapil',30,2),(104,'Raju',31,1)\")"
   ]
  },
  {
   "cell_type": "code",
   "execution_count": 30,
   "id": "1d567d56",
   "metadata": {},
   "outputs": [
    {
     "name": "stdout",
     "output_type": "stream",
     "text": [
      "(101, 'Amit', 25, 4)\n",
      "(102, 'Sumit', 28, 2)\n",
      "(103, 'Kapil', 30, 2)\n",
      "(104, 'Raju', 31, 1)\n"
     ]
    }
   ],
   "source": [
    "res=cur.execute(\"select * from student\")\n",
    "for row in res:\n",
    "    print(row)"
   ]
  },
  {
   "cell_type": "code",
   "execution_count": 31,
   "id": "875e1f2b",
   "metadata": {},
   "outputs": [
    {
     "ename": "IntegrityError",
     "evalue": "UNIQUE constraint failed: student.student_id",
     "output_type": "error",
     "traceback": [
      "\u001b[1;31m---------------------------------------------------------------------------\u001b[0m",
      "\u001b[1;31mIntegrityError\u001b[0m                            Traceback (most recent call last)",
      "\u001b[1;32m~\\AppData\\Local\\Temp/ipykernel_19048/249444567.py\u001b[0m in \u001b[0;36m<module>\u001b[1;34m\u001b[0m\n\u001b[1;32m----> 1\u001b[1;33m \u001b[0mcur\u001b[0m\u001b[1;33m.\u001b[0m\u001b[0mexecute\u001b[0m\u001b[1;33m(\u001b[0m\u001b[1;34m\"insert into student values(101,'Amit',25,4)\"\u001b[0m\u001b[1;33m)\u001b[0m\u001b[1;33m\u001b[0m\u001b[1;33m\u001b[0m\u001b[0m\n\u001b[0m",
      "\u001b[1;31mIntegrityError\u001b[0m: UNIQUE constraint failed: student.student_id"
     ]
    }
   ],
   "source": [
    "cur.execute(\"insert into student values(101,'Amit',25,4)\")"
   ]
  },
  {
   "cell_type": "code",
   "execution_count": 32,
   "id": "935349ab",
   "metadata": {},
   "outputs": [
    {
     "data": {
      "text/plain": [
       "<sqlite3.Cursor at 0x214fe4d2b90>"
      ]
     },
     "execution_count": 32,
     "metadata": {},
     "output_type": "execute_result"
    }
   ],
   "source": [
    "cur.execute(\"insert into student values(105,'Amit',25,5)\")"
   ]
  },
  {
   "cell_type": "code",
   "execution_count": 33,
   "id": "faa61cc5",
   "metadata": {},
   "outputs": [
    {
     "name": "stdout",
     "output_type": "stream",
     "text": [
      "(101, 'Amit', 25, 4)\n",
      "(102, 'Sumit', 28, 2)\n",
      "(103, 'Kapil', 30, 2)\n",
      "(104, 'Raju', 31, 1)\n",
      "(105, 'Amit', 25, 5)\n"
     ]
    }
   ],
   "source": [
    "res=cur.execute(\"select * from student\")\n",
    "for row in res:\n",
    "    print(row)"
   ]
  },
  {
   "cell_type": "code",
   "execution_count": 34,
   "id": "454d1723",
   "metadata": {},
   "outputs": [
    {
     "name": "stdout",
     "output_type": "stream",
     "text": [
      "(1, 'DS', 2)\n",
      "(2, 'DCO', 3)\n",
      "(3, 'Funda', 1)\n",
      "(4, 'SE', 1)\n"
     ]
    }
   ],
   "source": [
    "res=cur.execute(\"select * from course\")\n",
    "for row in res:\n",
    "    print(row)"
   ]
  },
  {
   "cell_type": "markdown",
   "id": "b23b634c",
   "metadata": {},
   "source": [
    "# Subquery / Nested Query"
   ]
  },
  {
   "cell_type": "code",
   "execution_count": 39,
   "id": "f729ccda",
   "metadata": {},
   "outputs": [],
   "source": [
    "res=cur.execute(\"select * from student where course_id=(select course_id from course where coursename='DCO')\")"
   ]
  },
  {
   "cell_type": "code",
   "execution_count": 40,
   "id": "d597122f",
   "metadata": {},
   "outputs": [
    {
     "name": "stdout",
     "output_type": "stream",
     "text": [
      "(102, 'Sumit', 28, 2)\n",
      "(103, 'Kapil', 30, 2)\n"
     ]
    }
   ],
   "source": [
    "for row in res:\n",
    "    print(row)"
   ]
  },
  {
   "cell_type": "markdown",
   "id": "f0a10b6e",
   "metadata": {},
   "source": [
    "# Joins "
   ]
  },
  {
   "cell_type": "code",
   "execution_count": 42,
   "id": "ea6dbcca",
   "metadata": {},
   "outputs": [
    {
     "name": "stdout",
     "output_type": "stream",
     "text": [
      "(101, 'Amit', 25, 4, 4, 'SE', 1)\n",
      "(102, 'Sumit', 28, 2, 2, 'DCO', 3)\n",
      "(103, 'Kapil', 30, 2, 2, 'DCO', 3)\n",
      "(104, 'Raju', 31, 1, 1, 'DS', 2)\n"
     ]
    }
   ],
   "source": [
    "res=cur.execute(\"select * from student INNER JOIN course on student.course_id=course.course_id\")\n",
    "for row in res:\n",
    "    print(row)"
   ]
  },
  {
   "cell_type": "code",
   "execution_count": 44,
   "id": "e668021d",
   "metadata": {},
   "outputs": [
    {
     "ename": "OperationalError",
     "evalue": "RIGHT and FULL OUTER JOINs are not currently supported",
     "output_type": "error",
     "traceback": [
      "\u001b[1;31m---------------------------------------------------------------------------\u001b[0m",
      "\u001b[1;31mOperationalError\u001b[0m                          Traceback (most recent call last)",
      "\u001b[1;32m~\\AppData\\Local\\Temp/ipykernel_19048/1318571878.py\u001b[0m in \u001b[0;36m<module>\u001b[1;34m\u001b[0m\n\u001b[1;32m----> 1\u001b[1;33m \u001b[0mres\u001b[0m\u001b[1;33m=\u001b[0m\u001b[0mcur\u001b[0m\u001b[1;33m.\u001b[0m\u001b[0mexecute\u001b[0m\u001b[1;33m(\u001b[0m\u001b[1;34m\"select * from student FULL OUTER JOIN course on student.course_id=course.course_id\"\u001b[0m\u001b[1;33m)\u001b[0m\u001b[1;33m\u001b[0m\u001b[1;33m\u001b[0m\u001b[0m\n\u001b[0m\u001b[0;32m      2\u001b[0m \u001b[1;32mfor\u001b[0m \u001b[0mrow\u001b[0m \u001b[1;32min\u001b[0m \u001b[0mres\u001b[0m\u001b[1;33m:\u001b[0m\u001b[1;33m\u001b[0m\u001b[1;33m\u001b[0m\u001b[0m\n\u001b[0;32m      3\u001b[0m     \u001b[0mprint\u001b[0m\u001b[1;33m(\u001b[0m\u001b[0mrow\u001b[0m\u001b[1;33m)\u001b[0m\u001b[1;33m\u001b[0m\u001b[1;33m\u001b[0m\u001b[0m\n",
      "\u001b[1;31mOperationalError\u001b[0m: RIGHT and FULL OUTER JOINs are not currently supported"
     ]
    }
   ],
   "source": [
    "res=cur.execute(\"select * from student FULL OUTER JOIN course on student.course_id=course.course_id\")\n",
    "for row in res:\n",
    "    print(row)"
   ]
  },
  {
   "cell_type": "code",
   "execution_count": 45,
   "id": "70b03440",
   "metadata": {},
   "outputs": [
    {
     "name": "stdout",
     "output_type": "stream",
     "text": [
      "(101, 'Amit', 25, 4, 4, 'SE', 1)\n",
      "(102, 'Sumit', 28, 2, 2, 'DCO', 3)\n",
      "(103, 'Kapil', 30, 2, 2, 'DCO', 3)\n",
      "(104, 'Raju', 31, 1, 1, 'DS', 2)\n",
      "(105, 'Amit', 25, 5, None, None, None)\n"
     ]
    }
   ],
   "source": [
    "res=cur.execute(\"select * from student LEFT JOIN course on student.course_id=course.course_id\")\n",
    "for row in res:\n",
    "    print(row)"
   ]
  },
  {
   "cell_type": "code",
   "execution_count": 48,
   "id": "a45c8961",
   "metadata": {},
   "outputs": [
    {
     "name": "stdout",
     "output_type": "stream",
     "text": [
      "(1, 'DS', 2, 104, 'Raju', 31, 1)\n",
      "(2, 'DCO', 3, 102, 'Sumit', 28, 2)\n",
      "(2, 'DCO', 3, 103, 'Kapil', 30, 2)\n",
      "(3, 'Funda', 1, None, None, None, None)\n",
      "(4, 'SE', 1, 101, 'Amit', 25, 4)\n"
     ]
    }
   ],
   "source": [
    "res=cur.execute(\"select * from  course lEFT JOIN student on student.course_id=course.course_id\")\n",
    "for row in res:\n",
    "    print(row)"
   ]
  },
  {
   "cell_type": "code",
   "execution_count": 49,
   "id": "687fe763",
   "metadata": {},
   "outputs": [
    {
     "name": "stdout",
     "output_type": "stream",
     "text": [
      "(1, 'DS', 2, 104, 'Raju', 31, 1)\n",
      "(2, 'DCO', 3, 102, 'Sumit', 28, 2)\n",
      "(2, 'DCO', 3, 103, 'Kapil', 30, 2)\n",
      "(3, 'Funda', 1, None, None, None, None)\n",
      "(4, 'SE', 1, 101, 'Amit', 25, 4)\n",
      "(1, 'DS', 2, 104, 'Raju', 31, 1)\n",
      "(2, 'DCO', 3, 102, 'Sumit', 28, 2)\n",
      "(2, 'DCO', 3, 103, 'Kapil', 30, 2)\n",
      "(3, 'Funda', 1, None, None, None, None)\n",
      "(4, 'SE', 1, 101, 'Amit', 25, 4)\n"
     ]
    }
   ],
   "source": [
    "res=cur.execute(\"select * from  course lEFT JOIN student on student.course_id=course.course_id UNION ALL select * from  course lEFT JOIN student on student.course_id=course.course_id \")\n",
    "for row in res:\n",
    "    print(row)"
   ]
  },
  {
   "cell_type": "markdown",
   "id": "3372ccdc",
   "metadata": {},
   "source": [
    "# FULL OUTER JOIN  NOT SUPPORTED BUT WE CAN DO IN THE FOLLOWING WAY "
   ]
  },
  {
   "cell_type": "code",
   "execution_count": 51,
   "id": "a0cdbede",
   "metadata": {},
   "outputs": [
    {
     "name": "stdout",
     "output_type": "stream",
     "text": [
      "(1, 'DS', 2, 104, 'Raju', 31)\n",
      "(2, 'DCO', 3, 102, 'Sumit', 28)\n",
      "(2, 'DCO', 3, 103, 'Kapil', 30)\n",
      "(3, 'Funda', 1, None, None, None)\n",
      "(4, 'SE', 1, 101, 'Amit', 25)\n",
      "(3, 'Funda', 1, None, None, None)\n"
     ]
    }
   ],
   "source": [
    "res=cur.execute(\"select * from  course lEFT JOIN student USING(course_id) UNION ALL select * from  course lEFT JOIN student USING(course_id) where student.course_id IS NULL \")\n",
    "for row in res:\n",
    "    print(row)"
   ]
  },
  {
   "cell_type": "code",
   "execution_count": null,
   "id": "5f8b2033",
   "metadata": {},
   "outputs": [],
   "source": []
  }
 ],
 "metadata": {
  "kernelspec": {
   "display_name": "Python 3 (ipykernel)",
   "language": "python",
   "name": "python3"
  },
  "language_info": {
   "codemirror_mode": {
    "name": "ipython",
    "version": 3
   },
   "file_extension": ".py",
   "mimetype": "text/x-python",
   "name": "python",
   "nbconvert_exporter": "python",
   "pygments_lexer": "ipython3",
   "version": "3.9.7"
  }
 },
 "nbformat": 4,
 "nbformat_minor": 5
}
