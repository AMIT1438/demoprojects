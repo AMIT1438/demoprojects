{
 "cells": [
  {
   "cell_type": "code",
   "execution_count": 6,
   "id": "387e7a1b",
   "metadata": {},
   "outputs": [
    {
     "name": "stdout",
     "output_type": "stream",
     "text": [
      "Hellow World\n"
     ]
    }
   ],
   "source": [
    "print(\"Hellow World\")"
   ]
  },
  {
   "cell_type": "code",
   "execution_count": 7,
   "id": "f4fa6b13",
   "metadata": {},
   "outputs": [],
   "source": [
    "x=10"
   ]
  },
  {
   "cell_type": "code",
   "execution_count": 8,
   "id": "fc3def66",
   "metadata": {},
   "outputs": [
    {
     "name": "stdout",
     "output_type": "stream",
     "text": [
      "x =  10\n"
     ]
    }
   ],
   "source": [
    "print(\"x = \", x)"
   ]
  },
  {
   "cell_type": "code",
   "execution_count": 1,
   "id": "91291701",
   "metadata": {},
   "outputs": [
    {
     "data": {
      "text/plain": [
       "'COMPUTER'"
      ]
     },
     "execution_count": 1,
     "metadata": {},
     "output_type": "execute_result"
    }
   ],
   "source": [
    "str1='computer'\n",
    "str1.upper()\n"
   ]
  },
  {
   "cell_type": "code",
   "execution_count": 9,
   "id": "aa4de389",
   "metadata": {},
   "outputs": [
    {
     "data": {
      "text/plain": [
       "'amit'"
      ]
     },
     "execution_count": 9,
     "metadata": {},
     "output_type": "execute_result"
    }
   ],
   "source": [
    "str1='AMIT'\n",
    "str1.lower()\n"
   ]
  },
  {
   "cell_type": "code",
   "execution_count": 6,
   "id": "61135834",
   "metadata": {},
   "outputs": [
    {
     "data": {
      "text/plain": [
       "'amit'"
      ]
     },
     "execution_count": 6,
     "metadata": {},
     "output_type": "execute_result"
    }
   ],
   "source": [
    "str2=str1.lower()\n",
    "str2"
   ]
  },
  {
   "cell_type": "code",
   "execution_count": 1,
   "id": "82eabea3",
   "metadata": {},
   "outputs": [],
   "source": [
    "str2='aMiT'"
   ]
  },
  {
   "cell_type": "code",
   "execution_count": 2,
   "id": "47535c37",
   "metadata": {},
   "outputs": [
    {
     "data": {
      "text/plain": [
       "'aMiT'"
      ]
     },
     "execution_count": 2,
     "metadata": {},
     "output_type": "execute_result"
    }
   ],
   "source": [
    "str2"
   ]
  },
  {
   "cell_type": "code",
   "execution_count": 3,
   "id": "8866612e",
   "metadata": {},
   "outputs": [
    {
     "data": {
      "text/plain": [
       "'AmIt'"
      ]
     },
     "execution_count": 3,
     "metadata": {},
     "output_type": "execute_result"
    }
   ],
   "source": [
    "str2.swapcase()"
   ]
  },
  {
   "cell_type": "code",
   "execution_count": 4,
   "id": "ce4d92d4",
   "metadata": {},
   "outputs": [
    {
     "data": {
      "text/plain": [
       "False"
      ]
     },
     "execution_count": 4,
     "metadata": {},
     "output_type": "execute_result"
    }
   ],
   "source": [
    "str2.islower()"
   ]
  },
  {
   "cell_type": "code",
   "execution_count": 5,
   "id": "49b61ef4",
   "metadata": {},
   "outputs": [
    {
     "data": {
      "text/plain": [
       "False"
      ]
     },
     "execution_count": 5,
     "metadata": {},
     "output_type": "execute_result"
    }
   ],
   "source": [
    "str2.isupper()"
   ]
  },
  {
   "cell_type": "code",
   "execution_count": 11,
   "id": "d435822f",
   "metadata": {},
   "outputs": [
    {
     "data": {
      "text/plain": [
       "True"
      ]
     },
     "execution_count": 11,
     "metadata": {},
     "output_type": "execute_result"
    }
   ],
   "source": [
    "str1.isupper()"
   ]
  },
  {
   "cell_type": "code",
   "execution_count": 12,
   "id": "459024e6",
   "metadata": {},
   "outputs": [
    {
     "data": {
      "text/plain": [
       "'AMIT'"
      ]
     },
     "execution_count": 12,
     "metadata": {},
     "output_type": "execute_result"
    }
   ],
   "source": [
    "str1"
   ]
  },
  {
   "cell_type": "code",
   "execution_count": 13,
   "id": "d6191252",
   "metadata": {},
   "outputs": [
    {
     "data": {
      "text/plain": [
       "False"
      ]
     },
     "execution_count": 13,
     "metadata": {},
     "output_type": "execute_result"
    }
   ],
   "source": [
    "str1.isdigit()"
   ]
  },
  {
   "cell_type": "code",
   "execution_count": 14,
   "id": "67f03e20",
   "metadata": {},
   "outputs": [
    {
     "data": {
      "text/plain": [
       "True"
      ]
     },
     "execution_count": 14,
     "metadata": {},
     "output_type": "execute_result"
    }
   ],
   "source": [
    "str1='234'\n",
    "str1.isdigit()"
   ]
  },
  {
   "cell_type": "code",
   "execution_count": 15,
   "id": "913f431f",
   "metadata": {},
   "outputs": [
    {
     "data": {
      "text/plain": [
       "True"
      ]
     },
     "execution_count": 15,
     "metadata": {},
     "output_type": "execute_result"
    }
   ],
   "source": [
    "str1.isnumeric()"
   ]
  },
  {
   "cell_type": "code",
   "execution_count": 17,
   "id": "92509ab0",
   "metadata": {},
   "outputs": [
    {
     "data": {
      "text/plain": [
       "'City is our dream'"
      ]
     },
     "execution_count": 17,
     "metadata": {},
     "output_type": "execute_result"
    }
   ],
   "source": [
    "str3='city is our dream'\n",
    "str3.capitalize()"
   ]
  },
  {
   "cell_type": "code",
   "execution_count": 18,
   "id": "8c722a30",
   "metadata": {},
   "outputs": [
    {
     "data": {
      "text/plain": [
       "'City Is Our Dream'"
      ]
     },
     "execution_count": 18,
     "metadata": {},
     "output_type": "execute_result"
    }
   ],
   "source": [
    "str3.title()"
   ]
  },
  {
   "cell_type": "code",
   "execution_count": 19,
   "id": "545c2955",
   "metadata": {},
   "outputs": [
    {
     "name": "stdout",
     "output_type": "stream",
     "text": [
      "same\n"
     ]
    }
   ],
   "source": [
    "s1='tesla'\n",
    "s2='Tesla'\n",
    "if s1.casefold()==s2.casefold():\n",
    "    print('same')\n",
    "else:\n",
    "    print('not same')\n"
   ]
  },
  {
   "cell_type": "code",
   "execution_count": 20,
   "id": "5a85c61a",
   "metadata": {},
   "outputs": [
    {
     "name": "stdout",
     "output_type": "stream",
     "text": [
      "not same\n"
     ]
    }
   ],
   "source": [
    "if s1==s2:\n",
    "    print('same')\n",
    "else:\n",
    "    print('not same')"
   ]
  },
  {
   "cell_type": "code",
   "execution_count": 21,
   "id": "997c44df",
   "metadata": {},
   "outputs": [
    {
     "data": {
      "text/plain": [
       "False"
      ]
     },
     "execution_count": 21,
     "metadata": {},
     "output_type": "execute_result"
    }
   ],
   "source": [
    "s1==s2"
   ]
  },
  {
   "cell_type": "code",
   "execution_count": 22,
   "id": "909078e2",
   "metadata": {},
   "outputs": [
    {
     "data": {
      "text/plain": [
       "True"
      ]
     },
     "execution_count": 22,
     "metadata": {},
     "output_type": "execute_result"
    }
   ],
   "source": [
    "s1.casefold()==s2.casefold()"
   ]
  },
  {
   "cell_type": "code",
   "execution_count": 25,
   "id": "961d6fe2",
   "metadata": {},
   "outputs": [
    {
     "name": "stdout",
     "output_type": "stream",
     "text": [
      "your name tesla\n"
     ]
    }
   ],
   "source": [
    "print(\"your name %s\" %s1)"
   ]
  },
  {
   "cell_type": "code",
   "execution_count": 31,
   "id": "4d02d8d6",
   "metadata": {},
   "outputs": [
    {
     "name": "stdout",
     "output_type": "stream",
     "text": [
      "value is 12\n"
     ]
    }
   ],
   "source": [
    "x=12\n",
    "print('value is %d' %x)"
   ]
  },
  {
   "cell_type": "code",
   "execution_count": 34,
   "id": "142991af",
   "metadata": {},
   "outputs": [
    {
     "name": "stdout",
     "output_type": "stream",
     "text": [
      "name is tesla value is 12\n"
     ]
    }
   ],
   "source": [
    "print('name is %s value is %d' %(s1,x))"
   ]
  },
  {
   "cell_type": "code",
   "execution_count": 35,
   "id": "ba1387be",
   "metadata": {},
   "outputs": [
    {
     "name": "stdout",
     "output_type": "stream",
     "text": [
      "name is 12 and age is tesla\n"
     ]
    }
   ],
   "source": [
    "print('name is {} and age is {}'.format(x,s1))"
   ]
  },
  {
   "cell_type": "code",
   "execution_count": 36,
   "id": "e9de4cda",
   "metadata": {},
   "outputs": [
    {
     "name": "stdout",
     "output_type": "stream",
     "text": [
      "name is tesla and age is 12\n"
     ]
    }
   ],
   "source": [
    "print('name is {} and age is {}'.format(s1,x))"
   ]
  },
  {
   "cell_type": "code",
   "execution_count": 37,
   "id": "8b77fae2",
   "metadata": {},
   "outputs": [
    {
     "name": "stdout",
     "output_type": "stream",
     "text": [
      "name is 12 and age is tesla\n"
     ]
    }
   ],
   "source": [
    "print('name is {1} and age is {0}'.format(s1,x))"
   ]
  },
  {
   "cell_type": "code",
   "execution_count": null,
   "id": "35fa91ce",
   "metadata": {},
   "outputs": [],
   "source": []
  },
  {
   "cell_type": "code",
   "execution_count": null,
   "id": "accb6aae",
   "metadata": {},
   "outputs": [],
   "source": []
  },
  {
   "cell_type": "code",
   "execution_count": null,
   "id": "a191d897",
   "metadata": {},
   "outputs": [],
   "source": []
  }
 ],
 "metadata": {
  "kernelspec": {
   "display_name": "Python 3 (ipykernel)",
   "language": "python",
   "name": "python3"
  },
  "language_info": {
   "codemirror_mode": {
    "name": "ipython",
    "version": 3
   },
   "file_extension": ".py",
   "mimetype": "text/x-python",
   "name": "python",
   "nbconvert_exporter": "python",
   "pygments_lexer": "ipython3",
   "version": "3.9.7"
  }
 },
 "nbformat": 4,
 "nbformat_minor": 5
}
