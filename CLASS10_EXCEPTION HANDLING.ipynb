{
 "cells": [
  {
   "cell_type": "code",
   "execution_count": 12,
   "id": "87c889b2",
   "metadata": {},
   "outputs": [],
   "source": [
    "def askint():\n",
    "    while True:\n",
    "        try:\n",
    "            val=int(input('Enter an integer'))\n",
    "        except:\n",
    "            print('Looks you did not enter an integer')\n",
    "            continue\n",
    "        else:\n",
    "            print('Yes it is an integer =',val)\n",
    "            break\n",
    "        finally:\n",
    "            print(\"This is finally block executed\")\n",
    "    print(val)"
   ]
  },
  {
   "cell_type": "code",
   "execution_count": 13,
   "id": "84b2f73f",
   "metadata": {},
   "outputs": [
    {
     "name": "stdout",
     "output_type": "stream",
     "text": [
      "Enter an integeras\n",
      "Looks you did not enter an integer\n",
      "This is finally block executed\n",
      "Enter an integer56\n",
      "Yes it is an integer = 56\n",
      "This is finally block executed\n",
      "56\n"
     ]
    }
   ],
   "source": [
    "askint()"
   ]
  },
  {
   "cell_type": "code",
   "execution_count": null,
   "id": "cb15d8a3",
   "metadata": {},
   "outputs": [],
   "source": []
  }
 ],
 "metadata": {
  "kernelspec": {
   "display_name": "Python 3 (ipykernel)",
   "language": "python",
   "name": "python3"
  },
  "language_info": {
   "codemirror_mode": {
    "name": "ipython",
    "version": 3
   },
   "file_extension": ".py",
   "mimetype": "text/x-python",
   "name": "python",
   "nbconvert_exporter": "python",
   "pygments_lexer": "ipython3",
   "version": "3.9.7"
  }
 },
 "nbformat": 4,
 "nbformat_minor": 5
}
